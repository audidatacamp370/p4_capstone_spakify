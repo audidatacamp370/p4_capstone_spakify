{
 "cells": [
  {
   "cell_type": "markdown",
   "metadata": {},
   "source": [
    "# Sparkify Project Workspace\n",
    "This workspace contains a tiny subset (128MB) of the full dataset available (12GB). Feel free to use this workspace to build your project, or to explore a smaller subset with Spark before deploying your cluster on the cloud. Instructions for setting up your Spark cluster is included in the last lesson of the Extracurricular Spark Course content.\n",
    "\n",
    "You can follow the steps below to guide your data analysis and model building portion of this project."
   ]
  },
  {
   "cell_type": "code",
   "execution_count": 28,
   "metadata": {},
   "outputs": [],
   "source": [
    "# import libraries\n",
    "from pyspark.sql import SparkSession\n",
    "from pyspark.sql.functions import avg, col, concat, desc, asc, explode, lit, min, max, split, udf, lit, when, lower\n",
    "from pyspark.sql.functions import to_timestamp, year, month, dayofmonth, hour, weekofyear, date_format\n",
    "from pyspark.sql.types import IntegerType, StringType\n",
    "\n",
    "from pyspark.ml import Pipeline\n",
    "from pyspark.ml.classification import LogisticRegression\n",
    "from pyspark.ml.evaluation import MulticlassClassificationEvaluator\n",
    "from pyspark.ml.feature import CountVectorizer, IDF, Normalizer, PCA, RegexTokenizer, StandardScaler, StopWordsRemover, StringIndexer, VectorAssembler\n",
    "from pyspark.ml.regression import LinearRegression\n",
    "from pyspark.ml.tuning import CrossValidator, ParamGridBuilder\n",
    "\n",
    "import re\n",
    "import datetime"
   ]
  },
  {
   "cell_type": "code",
   "execution_count": 2,
   "metadata": {},
   "outputs": [],
   "source": [
    "# create a Spark session\n",
    "\n",
    "spark = SparkSession.builder \\\n",
    "    .appName(\"Sparkify\") \\\n",
    "    .getOrCreate()"
   ]
  },
  {
   "cell_type": "code",
   "execution_count": 3,
   "metadata": {},
   "outputs": [
    {
     "data": {
      "text/html": [
       "\n",
       "            <div>\n",
       "                <p><b>SparkSession - in-memory</b></p>\n",
       "                \n",
       "        <div>\n",
       "            <p><b>SparkContext</b></p>\n",
       "\n",
       "            <p><a href=\"http://Thomas-Surface:4041\">Spark UI</a></p>\n",
       "\n",
       "            <dl>\n",
       "              <dt>Version</dt>\n",
       "                <dd><code>v3.4.1</code></dd>\n",
       "              <dt>Master</dt>\n",
       "                <dd><code>local[*]</code></dd>\n",
       "              <dt>AppName</dt>\n",
       "                <dd><code>Sparkify</code></dd>\n",
       "            </dl>\n",
       "        </div>\n",
       "        \n",
       "            </div>\n",
       "        "
      ],
      "text/plain": [
       "<pyspark.sql.session.SparkSession at 0x12c68b92290>"
      ]
     },
     "execution_count": 3,
     "metadata": {},
     "output_type": "execute_result"
    }
   ],
   "source": [
    "spark"
   ]
  },
  {
   "cell_type": "code",
   "execution_count": 4,
   "metadata": {},
   "outputs": [
    {
     "data": {
      "text/html": [
       "<style>.container { width:90% !important; }</style>"
      ],
      "text/plain": [
       "<IPython.core.display.HTML object>"
      ]
     },
     "metadata": {},
     "output_type": "display_data"
    },
    {
     "data": {
      "text/html": [
       "<style>pre { white-space: pre !important; }</style>"
      ],
      "text/plain": [
       "<IPython.core.display.HTML object>"
      ]
     },
     "metadata": {},
     "output_type": "display_data"
    }
   ],
   "source": [
    "from IPython.display import display, HTML\n",
    "display(HTML(\"<style>.container { width:90% !important; }</style>\"))\n",
    "# display(HTML(\"<style>.output_result { max-width:100% !important; }</style>\"))\n",
    "display(HTML(\"<style>pre { white-space: pre !important; }</style>\"))"
   ]
  },
  {
   "cell_type": "markdown",
   "metadata": {},
   "source": [
    "# Load and Clean Dataset\n",
    "In this workspace, the mini-dataset file is `mini_sparkify_event_data.json`. Load and clean the dataset, checking for invalid or missing data - for example, records without userids or sessionids. "
   ]
  },
  {
   "cell_type": "code",
   "execution_count": 5,
   "metadata": {},
   "outputs": [],
   "source": [
    "df = spark.read.json('../data/mini_sparkify_event_data.json')"
   ]
  },
  {
   "cell_type": "code",
   "execution_count": 6,
   "metadata": {},
   "outputs": [
    {
     "data": {
      "text/plain": [
       "[Row(artist='Martha Tilston', auth='Logged In', firstName='Colin', gender='M', itemInSession=50, lastName='Freeman', length=277.89016, level='paid', location='Bakersfield, CA', method='PUT', page='NextSong', registration=1538173362000, sessionId=29, song='Rockpools', status=200, ts=1538352117000, userAgent='Mozilla/5.0 (Windows NT 6.1; WOW64; rv:31.0) Gecko/20100101 Firefox/31.0', userId='30'),\n",
       " Row(artist='Five Iron Frenzy', auth='Logged In', firstName='Micah', gender='M', itemInSession=79, lastName='Long', length=236.09424, level='free', location='Boston-Cambridge-Newton, MA-NH', method='PUT', page='NextSong', registration=1538331630000, sessionId=8, song='Canada', status=200, ts=1538352180000, userAgent='\"Mozilla/5.0 (Windows NT 6.1; WOW64) AppleWebKit/537.36 (KHTML, like Gecko) Chrome/37.0.2062.103 Safari/537.36\"', userId='9')]"
      ]
     },
     "execution_count": 6,
     "metadata": {},
     "output_type": "execute_result"
    }
   ],
   "source": [
    "df.head(2)"
   ]
  },
  {
   "cell_type": "code",
   "execution_count": 7,
   "metadata": {},
   "outputs": [
    {
     "name": "stdout",
     "output_type": "stream",
     "text": [
      "root\n",
      " |-- artist: string (nullable = true)\n",
      " |-- auth: string (nullable = true)\n",
      " |-- firstName: string (nullable = true)\n",
      " |-- gender: string (nullable = true)\n",
      " |-- itemInSession: long (nullable = true)\n",
      " |-- lastName: string (nullable = true)\n",
      " |-- length: double (nullable = true)\n",
      " |-- level: string (nullable = true)\n",
      " |-- location: string (nullable = true)\n",
      " |-- method: string (nullable = true)\n",
      " |-- page: string (nullable = true)\n",
      " |-- registration: long (nullable = true)\n",
      " |-- sessionId: long (nullable = true)\n",
      " |-- song: string (nullable = true)\n",
      " |-- status: long (nullable = true)\n",
      " |-- ts: long (nullable = true)\n",
      " |-- userAgent: string (nullable = true)\n",
      " |-- userId: string (nullable = true)\n",
      "\n"
     ]
    }
   ],
   "source": [
    "df.printSchema()"
   ]
  },
  {
   "cell_type": "code",
   "execution_count": 8,
   "metadata": {
    "scrolled": false
   },
   "outputs": [
    {
     "name": "stdout",
     "output_type": "stream",
     "text": [
      "-RECORD 0---------------\n",
      " summary       | count  \n",
      " artist        | 228108 \n",
      " auth          | 286500 \n",
      " firstName     | 278154 \n",
      " gender        | 278154 \n",
      " itemInSession | 286500 \n",
      " lastName      | 278154 \n",
      " length        | 228108 \n",
      " level         | 286500 \n",
      " location      | 278154 \n",
      " method        | 286500 \n",
      " page          | 286500 \n",
      " registration  | 278154 \n",
      " sessionId     | 286500 \n",
      " song          | 228108 \n",
      " status        | 286500 \n",
      " ts            | 286500 \n",
      " userAgent     | 278154 \n",
      " userId        | 286500 \n",
      "only showing top 1 row\n",
      "\n"
     ]
    }
   ],
   "source": [
    "df.describe().show(1,vertical=True)"
   ]
  },
  {
   "cell_type": "code",
   "execution_count": 9,
   "metadata": {
    "scrolled": true
   },
   "outputs": [
    {
     "data": {
      "text/plain": [
       "286500"
      ]
     },
     "execution_count": 9,
     "metadata": {},
     "output_type": "execute_result"
    }
   ],
   "source": [
    "df.distinct().count()"
   ]
  },
  {
   "cell_type": "code",
   "execution_count": 10,
   "metadata": {},
   "outputs": [],
   "source": [
    "df=df.filter(df.userId != '')"
   ]
  },
  {
   "cell_type": "code",
   "execution_count": 11,
   "metadata": {},
   "outputs": [],
   "source": [
    "df=df.withColumn('event_timestamp', to_timestamp(df['ts']/1000))\n",
    "df=df.withColumn('registration_timestamp', to_timestamp(df['registration']/1000))"
   ]
  },
  {
   "cell_type": "code",
   "execution_count": 75,
   "metadata": {
    "scrolled": true
   },
   "outputs": [
    {
     "name": "stdout",
     "output_type": "stream",
     "text": [
      "+-------+----------+---------+------+--------------------+--------------------+-------------+----------------------+\n",
      "|user_id|first_name|last_name|gender|            location|          user_agent| registration|registration_timestamp|\n",
      "+-------+----------+---------+------+--------------------+--------------------+-------------+----------------------+\n",
      "|     15|     Panav|    Myers|     M|      Morgantown, WV|\"Mozilla/5.0 (Win...|1538239045000|   2018-09-29 18:37:25|\n",
      "|     29|     Kaleb| Thompson|     M|Los Angeles-Long ...|\"Mozilla/5.0 (Mac...|1536988041000|   2018-09-15 07:07:21|\n",
      "|     19|  Isabella|  Randall|     F|          Dayton, OH|Mozilla/5.0 (Wind...|1537306307000|   2018-09-18 23:31:47|\n",
      "+-------+----------+---------+------+--------------------+--------------------+-------------+----------------------+\n",
      "only showing top 3 rows\n",
      "\n"
     ]
    }
   ],
   "source": [
    "df.createOrReplaceTempView(\"events\")\n",
    "user_table = spark.sql(\"\"\"\n",
    "                        SELECT DISTINCT\n",
    "                            userId as user_id, \n",
    "                            firstName as first_name, \n",
    "                            lastName as last_name, \n",
    "                            gender, \n",
    "                            location,\n",
    "                            userAgent as user_agent,\n",
    "                            registration,\n",
    "                            registration_timestamp\n",
    "                        FROM events\n",
    "                        \"\"\")\n",
    "user_table.show(3)"
   ]
  },
  {
   "cell_type": "code",
   "execution_count": 13,
   "metadata": {},
   "outputs": [],
   "source": [
    "df.createOrReplaceTempView(\"events\")\n",
    "event_table = spark.sql(\"\"\"\n",
    "                    SELECT DISTINCT\n",
    "                        userId as user_id,\n",
    "                        sessionId as session_id,\n",
    "                        itemInSession as item_in_session,\n",
    "                        page as event,\n",
    "                        auth,\n",
    "                        level,\n",
    "                        ts as event_timestamp_unix,\n",
    "                        event_timestamp                   \n",
    "                    FROM events\n",
    "                    ORDER BY event_timestamp_unix DESC\n",
    "                \"\"\") "
   ]
  },
  {
   "cell_type": "code",
   "execution_count": 14,
   "metadata": {
    "scrolled": false
   },
   "outputs": [
    {
     "name": "stdout",
     "output_type": "stream",
     "text": [
      "+-------+----------+---------------+---------------+---------+-----+--------------------+-------------------+\n",
      "|user_id|session_id|item_in_session|          event|     auth|level|event_timestamp_unix|    event_timestamp|\n",
      "+-------+----------+---------------+---------------+---------+-----+--------------------+-------------------+\n",
      "| 100002|       198|              0|       NextSong|Logged In| paid|       1543799476000|2018-12-03 02:11:16|\n",
      "| 200008|       408|            133|       NextSong|Logged In| paid|       1543622579000|2018-12-01 01:02:59|\n",
      "|    152|      2409|             37|       NextSong|Logged In| paid|       1543622432000|2018-12-01 01:00:32|\n",
      "| 300011|       500|             45|       NextSong|Logged In| paid|       1543622411000|2018-12-01 01:00:11|\n",
      "| 300011|       500|             44|          About|Logged In| paid|       1543622398000|2018-12-01 00:59:58|\n",
      "| 200008|       408|            132|       NextSong|Logged In| paid|       1543622395000|2018-12-01 00:59:55|\n",
      "|    138|      2305|            700|       NextSong|Logged In| paid|       1543622365000|2018-12-01 00:59:25|\n",
      "|     39|      2459|             49|       NextSong|Logged In| paid|       1543622355000|2018-12-01 00:59:15|\n",
      "|     30|      2401|            315|Add to Playlist|Logged In| paid|       1543622320000|2018-12-01 00:58:40|\n",
      "|     30|      2401|            314|       NextSong|Logged In| paid|       1543622287000|2018-12-01 00:58:07|\n",
      "+-------+----------+---------------+---------------+---------+-----+--------------------+-------------------+\n",
      "only showing top 10 rows\n",
      "\n"
     ]
    }
   ],
   "source": [
    "event_table.show(10)"
   ]
  },
  {
   "cell_type": "code",
   "execution_count": 52,
   "metadata": {},
   "outputs": [
    {
     "data": {
      "text/plain": [
       "[Row(user_agent='\"Mozilla/5.0 (Windows NT 6.1; WOW64) AppleWebKit/537.36 (KHTML, like Gecko) Chrome/36.0.1985.143 Safari/537.36\"'),\n",
       " Row(user_agent='\"Mozilla/5.0 (Macintosh; Intel Mac OS X 10_9_4) AppleWebKit/537.77.4 (KHTML, like Gecko) Version/7.0.5 Safari/537.77.4\"'),\n",
       " Row(user_agent='Mozilla/5.0 (Windows NT 6.1; WOW64; Trident/7.0; rv:11.0) like Gecko'),\n",
       " Row(user_agent='\"Mozilla/5.0 (Macintosh; Intel Mac OS X 10_9_4) AppleWebKit/537.36 (KHTML, like Gecko) Chrome/36.0.1985.125 Safari/537.36\"'),\n",
       " Row(user_agent='\"Mozilla/5.0 (Macintosh; Intel Mac OS X 10_9_4) AppleWebKit/537.78.2 (KHTML, like Gecko) Version/7.0.6 Safari/537.78.2\"')]"
      ]
     },
     "execution_count": 52,
     "metadata": {},
     "output_type": "execute_result"
    }
   ],
   "source": [
    "user_table.select('user_agent').take(5)"
   ]
  },
  {
   "cell_type": "code",
   "execution_count": 87,
   "metadata": {},
   "outputs": [
    {
     "data": {
      "text/plain": [
       "[Row(user_agent='Mozilla/5.0 (X11; Ubuntu; Linux x86_64; rv:31.0) Gecko/20100101 Firefox/31.0'),\n",
       " Row(user_agent='Mozilla/5.0 (X11; Ubuntu; Linux i686; rv:31.0) Gecko/20100101 Firefox/31.0'),\n",
       " Row(user_agent='\"Mozilla/5.0 (X11; Linux x86_64) AppleWebKit/537.36 (KHTML, like Gecko) Chrome/36.0.1985.143 Safari/537.36\"'),\n",
       " Row(user_agent='Mozilla/5.0 (X11; Linux x86_64; rv:31.0) Gecko/20100101 Firefox/31.0'),\n",
       " Row(user_agent='\"Mozilla/5.0 (X11; Linux x86_64) AppleWebKit/537.36 (KHTML, like Gecko) Chrome/36.0.1985.125 Safari/537.36\"'),\n",
       " Row(user_agent='\"Mozilla/5.0 (X11; Linux x86_64) AppleWebKit/537.36 (KHTML, like Gecko) Chrome/36.0.1985.143 Safari/537.36\"'),\n",
       " Row(user_agent='Mozilla/5.0 (X11; Ubuntu; Linux x86_64; rv:31.0) Gecko/20100101 Firefox/31.0'),\n",
       " Row(user_agent='\"Mozilla/5.0 (X11; Linux x86_64) AppleWebKit/537.36 (KHTML, like Gecko) Chrome/36.0.1985.143 Safari/537.36\"'),\n",
       " Row(user_agent='\"Mozilla/5.0 (X11; Linux x86_64) AppleWebKit/537.36 (KHTML, like Gecko) Chrome/36.0.1985.125 Safari/537.36\"'),\n",
       " Row(user_agent='Mozilla/5.0 (X11; Ubuntu; Linux x86_64; rv:31.0) Gecko/20100101 Firefox/31.0')]"
      ]
     },
     "execution_count": 87,
     "metadata": {},
     "output_type": "execute_result"
    }
   ],
   "source": [
    "user_table=user_table.withColumn('device', \n",
    "                      when(lower(user_table.user_agent).contains('windows'), lit('computer'))\n",
    "                      .when(lower(user_table.user_agent).contains('macintosh'), lit('computer'))\n",
    "                      .when(lower(user_table.user_agent).contains('linux'), lit('computer'))\n",
    "                      .when(lower(user_table.user_agent).contains('mobile'), lit('mobile'))\n",
    "                      .otherwise(lit('other')) )\n",
    "\n",
    "user_table=user_table.withColumn('device_os', \n",
    "                      when(lower(user_table.user_agent).contains('windows'), lit('windows'))\n",
    "                      .when(lower(user_table.user_agent).contains('mac'), lit('mac'))\n",
    "                      .when(lower(user_table.user_agent).contains('linux'), lit('linux'))\n",
    "                      .otherwise(lit('other')) )\n",
    "\n",
    "user_table.filter(user_table.device_os=='linux').select('user_agent').take(10)"
   ]
  },
  {
   "cell_type": "code",
   "execution_count": 94,
   "metadata": {},
   "outputs": [],
   "source": [
    "user_table=user_table.withColumn('city', split(user_table['location'],',').getItem(0))\n",
    "user_table=user_table.withColumn('state', split(user_table['location'],',').getItem(1))\n"
   ]
  },
  {
   "cell_type": "code",
   "execution_count": 95,
   "metadata": {},
   "outputs": [
    {
     "name": "stdout",
     "output_type": "stream",
     "text": [
      "+-------+----------+---------+------+--------------------+--------------------+-------------+----------------------+--------+---------+--------------------+---------+\n",
      "|user_id|first_name|last_name|gender|            location|          user_agent| registration|registration_timestamp|  device|device_os|                city|    state|\n",
      "+-------+----------+---------+------+--------------------+--------------------+-------------+----------------------+--------+---------+--------------------+---------+\n",
      "|     15|     Panav|    Myers|     M|      Morgantown, WV|\"Mozilla/5.0 (Win...|1538239045000|   2018-09-29 18:37:25|computer|  windows|          Morgantown|       WV|\n",
      "|     29|     Kaleb| Thompson|     M|Los Angeles-Long ...|\"Mozilla/5.0 (Mac...|1536988041000|   2018-09-15 07:07:21|computer|      mac|Los Angeles-Long ...|       CA|\n",
      "|     19|  Isabella|  Randall|     F|          Dayton, OH|Mozilla/5.0 (Wind...|1537306307000|   2018-09-18 23:31:47|computer|  windows|              Dayton|       OH|\n",
      "|     82|    Peyton|  Stewart|     F|  Kansas City, MO-KS|\"Mozilla/5.0 (Mac...|1536963370000|   2018-09-15 00:16:10|computer|      mac|         Kansas City|    MO-KS|\n",
      "|     56|   Greysen|  Jackson|     M|      Alexandria, LA|\"Mozilla/5.0 (Mac...|1537751138000|   2018-09-24 03:05:38|computer|      mac|          Alexandria|       LA|\n",
      "|     77|    Autumn|   Martin|     F|     Gainesville, FL|\"Mozilla/5.0 (Win...|1537749786000|   2018-09-24 02:43:06|computer|  windows|         Gainesville|       FL|\n",
      "|     80|   Genesis|    Smith|     F|Sacramento--Rosev...|\"Mozilla/5.0 (Mac...|1538316317000|   2018-09-30 16:05:17|computer|      mac|Sacramento--Rosev...|       CA|\n",
      "|    112|     Logan|     Long|     M|          Muncie, IN|Mozilla/5.0 (Wind...|1536032681000|   2018-09-04 05:44:41|computer|  windows|              Muncie|       IN|\n",
      "|    127|    Aurora| Humphrey|     F|Dallas-Fort Worth...|\"Mozilla/5.0 (Win...|1536795126000|   2018-09-13 01:32:06|computer|  windows|Dallas-Fort Worth...|       TX|\n",
      "|     24|   Garrett|    Jones|     M|            Troy, AL|\"Mozilla/5.0 (Win...|1536954914000|   2018-09-14 21:55:14|computer|  windows|                Troy|       AL|\n",
      "|     25|   Madison|  Morales|     F|Tampa-St. Petersb...|\"Mozilla/5.0 (Mac...|1536287099000|   2018-09-07 04:24:59|computer|      mac|Tampa-St. Petersb...|       FL|\n",
      "|     52|   Miracle|       Ho|     F|Atlanta-Sandy Spr...|Mozilla/5.0 (Wind...|1534613601000|   2018-08-18 19:33:21|computer|  windows|Atlanta-Sandy Spr...|       GA|\n",
      "|     98|    Sawyer|   Larson|     M|Houston-The Woodl...|\"Mozilla/5.0 (Mac...|1538069638000|   2018-09-27 19:33:58|computer|      mac|Houston-The Woodl...|       TX|\n",
      "|    143|     Molly| Harrison|     F|Virginia Beach-No...|\"Mozilla/5.0 (Mac...|1534255113000|   2018-08-14 15:58:33|computer|      mac|Virginia Beach-No...|    VA-NC|\n",
      "|    121|   Nikolas|    Olsen|     M|Oxnard-Thousand O...|Mozilla/5.0 (X11;...|1528403713000|   2018-06-07 22:35:13|computer|    linux|Oxnard-Thousand O...|       CA|\n",
      "|     45|  Isobella|   Wright|     F|Atlanta-Sandy Spr...|\"Mozilla/5.0 (Win...|1536398117000|   2018-09-08 11:15:17|computer|  windows|Atlanta-Sandy Spr...|       GA|\n",
      "|     89|    Azrael|    Hicks|     M|Atlanta-Sandy Spr...|\"Mozilla/5.0 (Win...|1535774889000|   2018-09-01 06:08:09|computer|  windows|Atlanta-Sandy Spr...|       GA|\n",
      "|    142|     Grant|   Flores|     M|New York-Newark-J...|\"Mozilla/5.0 (Mac...|1538120859000|   2018-09-28 09:47:39|computer|      mac|New York-Newark-J...| NY-NJ-PA|\n",
      "|     27|     Ethan|  Raymond|     M|Hartford-West Har...|\"Mozilla/5.0 (Win...|1534245996000|   2018-08-14 13:26:36|computer|  windows|Hartford-West Har...|       CT|\n",
      "|    144|    Connor|    Perez|     M|      Montgomery, AL|\"Mozilla/5.0 (Mac...|1535047210000|   2018-08-23 20:00:10|computer|      mac|          Montgomery|       AL|\n",
      "+-------+----------+---------+------+--------------------+--------------------+-------------+----------------------+--------+---------+--------------------+---------+\n",
      "only showing top 20 rows\n",
      "\n"
     ]
    }
   ],
   "source": [
    "user_table.show()"
   ]
  },
  {
   "cell_type": "markdown",
   "metadata": {},
   "source": [
    "# Exploratory Data Analysis\n",
    "When you're working with the full dataset, perform EDA by loading a small subset of the data and doing basic manipulations within Spark. In this workspace, you are already provided a small subset of data you can explore.\n",
    "\n",
    "### Define Churn\n",
    "\n",
    "Once you've done some preliminary analysis, create a column `Churn` to use as the label for your model. I suggest using the `Cancellation Confirmation` events to define your churn, which happen for both paid and free users. As a bonus task, you can also look into the `Downgrade` events.\n",
    "\n",
    "### Explore Data\n",
    "Once you've defined churn, perform some exploratory data analysis to observe the behavior for users who stayed vs users who churned. You can start by exploring aggregates on these two groups of users, observing how much of a specific action they experienced per a certain time unit or number of songs played."
   ]
  },
  {
   "cell_type": "code",
   "execution_count": null,
   "metadata": {},
   "outputs": [],
   "source": []
  },
  {
   "cell_type": "code",
   "execution_count": null,
   "metadata": {},
   "outputs": [],
   "source": []
  },
  {
   "cell_type": "code",
   "execution_count": null,
   "metadata": {},
   "outputs": [],
   "source": []
  },
  {
   "cell_type": "code",
   "execution_count": null,
   "metadata": {},
   "outputs": [],
   "source": []
  },
  {
   "cell_type": "code",
   "execution_count": null,
   "metadata": {},
   "outputs": [],
   "source": []
  },
  {
   "cell_type": "code",
   "execution_count": null,
   "metadata": {},
   "outputs": [],
   "source": []
  },
  {
   "cell_type": "markdown",
   "metadata": {},
   "source": [
    "# Feature Engineering\n",
    "Once you've familiarized yourself with the data, build out the features you find promising to train your model on. To work with the full dataset, you can follow the following steps.\n",
    "- Write a script to extract the necessary features from the smaller subset of data\n",
    "- Ensure that your script is scalable, using the best practices discussed in Lesson 3\n",
    "- Try your script on the full data set, debugging your script if necessary\n",
    "\n",
    "If you are working in the classroom workspace, you can just extract features based on the small subset of data contained here. Be sure to transfer over this work to the larger dataset when you work on your Spark cluster."
   ]
  },
  {
   "cell_type": "code",
   "execution_count": null,
   "metadata": {},
   "outputs": [],
   "source": []
  },
  {
   "cell_type": "markdown",
   "metadata": {},
   "source": [
    "# Modeling\n",
    "Split the full dataset into train, test, and validation sets. Test out several of the machine learning methods you learned. Evaluate the accuracy of the various models, tuning parameters as necessary. Determine your winning model based on test accuracy and report results on the validation set. Since the churned users are a fairly small subset, I suggest using F1 score as the metric to optimize."
   ]
  },
  {
   "cell_type": "code",
   "execution_count": null,
   "metadata": {},
   "outputs": [],
   "source": []
  },
  {
   "cell_type": "markdown",
   "metadata": {},
   "source": [
    "# Final Steps\n",
    "Clean up your code, adding comments and renaming variables to make the code easier to read and maintain. Refer to the Spark Project Overview page and Data Scientist Capstone Project Rubric to make sure you are including all components of the capstone project and meet all expectations. Remember, this includes thorough documentation in a README file in a Github repository, as well as a web app or blog post."
   ]
  },
  {
   "cell_type": "code",
   "execution_count": null,
   "metadata": {},
   "outputs": [],
   "source": []
  },
  {
   "cell_type": "code",
   "execution_count": null,
   "metadata": {},
   "outputs": [],
   "source": [
    "#spark.stop()"
   ]
  }
 ],
 "metadata": {
  "kernelspec": {
   "display_name": "Python 3 (ipykernel)",
   "language": "python",
   "name": "python3"
  },
  "language_info": {
   "codemirror_mode": {
    "name": "ipython",
    "version": 3
   },
   "file_extension": ".py",
   "mimetype": "text/x-python",
   "name": "python",
   "nbconvert_exporter": "python",
   "pygments_lexer": "ipython3",
   "version": "3.11.3"
  }
 },
 "nbformat": 4,
 "nbformat_minor": 2
}
