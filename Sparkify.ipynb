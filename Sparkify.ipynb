{
 "cells": [
  {
   "cell_type": "markdown",
   "metadata": {},
   "source": [
    "# Sparkify Project Workspace\n",
    "This workspace contains a tiny subset (128MB) of the full dataset available (12GB). Feel free to use this workspace to build your project, or to explore a smaller subset with Spark before deploying your cluster on the cloud. Instructions for setting up your Spark cluster is included in the last lesson of the Extracurricular Spark Course content.\n",
    "\n",
    "You can follow the steps below to guide your data analysis and model building portion of this project."
   ]
  },
  {
   "cell_type": "code",
   "execution_count": 98,
   "metadata": {},
   "outputs": [],
   "source": [
    "# import libraries\n",
    "from pyspark.sql import SparkSession\n",
    "from pyspark.sql.functions import avg, col, sum, concat, desc, asc, explode, lit, min, max, split, udf, lit, when, lower\n",
    "from pyspark.sql.functions import to_timestamp, year, month, dayofmonth, hour, weekofyear, date_format, datediff\n",
    "from pyspark.sql.types import IntegerType, StringType\n",
    "\n",
    "from pyspark.ml import Pipeline\n",
    "from pyspark.ml.classification import LogisticRegression, GBTClassifier, NaiveBayes, RandomForestClassifier\n",
    "from pyspark.ml.evaluation import MulticlassClassificationEvaluator\n",
    "from pyspark.ml.feature import CountVectorizer, IDF, Normalizer, PCA, RegexTokenizer, StandardScaler, StringIndexer, VectorAssembler\n",
    "from pyspark.ml.regression import LinearRegression\n",
    "from pyspark.ml.tuning import CrossValidator, ParamGridBuilder\n",
    "\n",
    "import seaborn as sns\n",
    "import matplotlib.pyplot as plt\n",
    "import re\n",
    "import datetime\n",
    "from time import time\n",
    "import pandas as pd"
   ]
  },
  {
   "cell_type": "code",
   "execution_count": 2,
   "metadata": {},
   "outputs": [],
   "source": [
    "# create a Spark session\n",
    "\n",
    "spark = SparkSession.builder \\\n",
    "    .appName(\"Sparkify\") \\\n",
    "    .getOrCreate()"
   ]
  },
  {
   "cell_type": "code",
   "execution_count": 3,
   "metadata": {},
   "outputs": [
    {
     "data": {
      "text/html": [
       "\n",
       "            <div>\n",
       "                <p><b>SparkSession - in-memory</b></p>\n",
       "                \n",
       "        <div>\n",
       "            <p><b>SparkContext</b></p>\n",
       "\n",
       "            <p><a href=\"http://Thomas-Surface:4041\">Spark UI</a></p>\n",
       "\n",
       "            <dl>\n",
       "              <dt>Version</dt>\n",
       "                <dd><code>v3.4.1</code></dd>\n",
       "              <dt>Master</dt>\n",
       "                <dd><code>local[*]</code></dd>\n",
       "              <dt>AppName</dt>\n",
       "                <dd><code>Sparkify</code></dd>\n",
       "            </dl>\n",
       "        </div>\n",
       "        \n",
       "            </div>\n",
       "        "
      ],
      "text/plain": [
       "<pyspark.sql.session.SparkSession at 0x1b494935e10>"
      ]
     },
     "execution_count": 3,
     "metadata": {},
     "output_type": "execute_result"
    }
   ],
   "source": [
    "spark"
   ]
  },
  {
   "cell_type": "code",
   "execution_count": 4,
   "metadata": {},
   "outputs": [
    {
     "data": {
      "text/html": [
       "<style>.container { width:90% !important; }</style>"
      ],
      "text/plain": [
       "<IPython.core.display.HTML object>"
      ]
     },
     "metadata": {},
     "output_type": "display_data"
    },
    {
     "data": {
      "text/html": [
       "<style>pre { white-space: pre !important; }</style>"
      ],
      "text/plain": [
       "<IPython.core.display.HTML object>"
      ]
     },
     "metadata": {},
     "output_type": "display_data"
    }
   ],
   "source": [
    "#for better visibility using jupyter notebook\n",
    "from IPython.display import display, HTML\n",
    "display(HTML(\"<style>.container { width:90% !important; }</style>\"))\n",
    "display(HTML(\"<style>pre { white-space: pre !important; }</style>\"))"
   ]
  },
  {
   "cell_type": "markdown",
   "metadata": {},
   "source": [
    "# Load and Clean Dataset\n",
    "In this workspace, the mini-dataset file is `mini_sparkify_event_data.json`. Load and clean the dataset, checking for invalid or missing data - for example, records without userids or sessionids. "
   ]
  },
  {
   "cell_type": "code",
   "execution_count": 5,
   "metadata": {},
   "outputs": [],
   "source": [
    "df = spark.read.json('../data/mini_sparkify_event_data.json')"
   ]
  },
  {
   "cell_type": "code",
   "execution_count": 6,
   "metadata": {},
   "outputs": [
    {
     "data": {
      "text/plain": [
       "[Row(artist='Martha Tilston', auth='Logged In', firstName='Colin', gender='M', itemInSession=50, lastName='Freeman', length=277.89016, level='paid', location='Bakersfield, CA', method='PUT', page='NextSong', registration=1538173362000, sessionId=29, song='Rockpools', status=200, ts=1538352117000, userAgent='Mozilla/5.0 (Windows NT 6.1; WOW64; rv:31.0) Gecko/20100101 Firefox/31.0', userId='30'),\n",
       " Row(artist='Five Iron Frenzy', auth='Logged In', firstName='Micah', gender='M', itemInSession=79, lastName='Long', length=236.09424, level='free', location='Boston-Cambridge-Newton, MA-NH', method='PUT', page='NextSong', registration=1538331630000, sessionId=8, song='Canada', status=200, ts=1538352180000, userAgent='\"Mozilla/5.0 (Windows NT 6.1; WOW64) AppleWebKit/537.36 (KHTML, like Gecko) Chrome/37.0.2062.103 Safari/537.36\"', userId='9')]"
      ]
     },
     "execution_count": 6,
     "metadata": {},
     "output_type": "execute_result"
    }
   ],
   "source": [
    "df.head(2)"
   ]
  },
  {
   "cell_type": "code",
   "execution_count": 7,
   "metadata": {},
   "outputs": [
    {
     "name": "stdout",
     "output_type": "stream",
     "text": [
      "root\n",
      " |-- artist: string (nullable = true)\n",
      " |-- auth: string (nullable = true)\n",
      " |-- firstName: string (nullable = true)\n",
      " |-- gender: string (nullable = true)\n",
      " |-- itemInSession: long (nullable = true)\n",
      " |-- lastName: string (nullable = true)\n",
      " |-- length: double (nullable = true)\n",
      " |-- level: string (nullable = true)\n",
      " |-- location: string (nullable = true)\n",
      " |-- method: string (nullable = true)\n",
      " |-- page: string (nullable = true)\n",
      " |-- registration: long (nullable = true)\n",
      " |-- sessionId: long (nullable = true)\n",
      " |-- song: string (nullable = true)\n",
      " |-- status: long (nullable = true)\n",
      " |-- ts: long (nullable = true)\n",
      " |-- userAgent: string (nullable = true)\n",
      " |-- userId: string (nullable = true)\n",
      "\n"
     ]
    }
   ],
   "source": [
    "df.printSchema()"
   ]
  },
  {
   "cell_type": "code",
   "execution_count": 8,
   "metadata": {
    "scrolled": false
   },
   "outputs": [
    {
     "name": "stdout",
     "output_type": "stream",
     "text": [
      "-RECORD 0---------------\n",
      " summary       | count  \n",
      " artist        | 228108 \n",
      " auth          | 286500 \n",
      " firstName     | 278154 \n",
      " gender        | 278154 \n",
      " itemInSession | 286500 \n",
      " lastName      | 278154 \n",
      " length        | 228108 \n",
      " level         | 286500 \n",
      " location      | 278154 \n",
      " method        | 286500 \n",
      " page          | 286500 \n",
      " registration  | 278154 \n",
      " sessionId     | 286500 \n",
      " song          | 228108 \n",
      " status        | 286500 \n",
      " ts            | 286500 \n",
      " userAgent     | 278154 \n",
      " userId        | 286500 \n",
      "only showing top 1 row\n",
      "\n"
     ]
    }
   ],
   "source": [
    "df.describe().show(1,vertical=True)"
   ]
  },
  {
   "cell_type": "code",
   "execution_count": 9,
   "metadata": {
    "scrolled": true
   },
   "outputs": [
    {
     "data": {
      "text/plain": [
       "286500"
      ]
     },
     "execution_count": 9,
     "metadata": {},
     "output_type": "execute_result"
    }
   ],
   "source": [
    "df.distinct().count()"
   ]
  },
  {
   "cell_type": "code",
   "execution_count": 10,
   "metadata": {},
   "outputs": [
    {
     "data": {
      "text/plain": [
       "2354"
      ]
     },
     "execution_count": 10,
     "metadata": {},
     "output_type": "execute_result"
    }
   ],
   "source": [
    "df.select('sessionId').distinct().count()"
   ]
  },
  {
   "cell_type": "code",
   "execution_count": 11,
   "metadata": {},
   "outputs": [
    {
     "name": "stdout",
     "output_type": "stream",
     "text": [
      "+--------------------+\n",
      "|                page|\n",
      "+--------------------+\n",
      "|              Cancel|\n",
      "|    Submit Downgrade|\n",
      "|         Thumbs Down|\n",
      "|                Home|\n",
      "|           Downgrade|\n",
      "|         Roll Advert|\n",
      "|              Logout|\n",
      "|       Save Settings|\n",
      "|Cancellation Conf...|\n",
      "|               About|\n",
      "|            Settings|\n",
      "|               Login|\n",
      "|     Add to Playlist|\n",
      "|          Add Friend|\n",
      "|            NextSong|\n",
      "|           Thumbs Up|\n",
      "|                Help|\n",
      "|             Upgrade|\n",
      "|               Error|\n",
      "|      Submit Upgrade|\n",
      "+--------------------+\n",
      "only showing top 20 rows\n",
      "\n"
     ]
    }
   ],
   "source": [
    "df.select('page').distinct().show(20)"
   ]
  },
  {
   "cell_type": "code",
   "execution_count": 12,
   "metadata": {},
   "outputs": [],
   "source": [
    "def clean_df(spark, df=df):\n",
    "    '''\n",
    "    cleaning database\n",
    "    : INPUT\n",
    "    spark - spark session\n",
    "    df - dataframe\n",
    "    :OUTPUT\n",
    "    df- cleaned Dataframe\n",
    "    '''\n",
    "    \n",
    "    #filter empty values in userId\n",
    "    df=df.filter(df.userId != '')\n",
    "    \n",
    "    # create new columns with iso timestamp using ts and registration columns\n",
    "    df=df.withColumn('event_timestamp', to_timestamp(df['ts']/1000))\n",
    "    df=df.withColumn('registration_timestamp', to_timestamp(df['registration']/1000))\n",
    "    df=df.withColumn('days_registered', datediff(df['event_timestamp'],df['registration_timestamp']))\n",
    "    \n",
    "    # create new columns for device and device_os using userAgent column\n",
    "    df=df.withColumn('device', \n",
    "                      when(lower(df.userAgent).contains('windows'), lit('computer'))\n",
    "                      .when(lower(df.userAgent).contains('macintosh'), lit('computer'))\n",
    "                      .when(lower(df.userAgent).contains('linux'), lit('computer'))\n",
    "                      .when(lower(df.userAgent).contains('mobile'), lit('mobile'))\n",
    "                      .otherwise(lit('other')) )\n",
    "\n",
    "    df=df.withColumn('device_os', \n",
    "                      when(lower(df.userAgent).contains('windows'), lit('windows'))\n",
    "                      .when(lower(df.userAgent).contains('mac'), lit('mac'))\n",
    "                      .when(lower(df.userAgent).contains('linux'), lit('linux'))\n",
    "                      .otherwise(lit('other')) )\n",
    "    \n",
    "    #split lacation into seperate city and state columns\n",
    "    df=df.withColumn('city', split(df['location'],',').getItem(0))\n",
    "    df=df.withColumn('state', split(df['location'],',').getItem(1))\n",
    "    \n",
    "    # create churn_event and downgrade_event columns from page columns\n",
    "    df=df.withColumn('churn_event', \n",
    "                      when(df.page.contains('Cancellation Confirmation'), lit(1))\n",
    "                      .otherwise(lit(0)) )\n",
    "    df=df.withColumn('downgrade_event', \n",
    "                      when(df.page.contains('Submit Downgrade'), lit(1))\n",
    "                      .otherwise(lit(0)) )\n",
    "    \n",
    "    return df\n",
    "\n",
    "df=clean_df(spark, df)"
   ]
  },
  {
   "cell_type": "code",
   "execution_count": 13,
   "metadata": {},
   "outputs": [
    {
     "name": "stdout",
     "output_type": "stream",
     "text": [
      "+--------------------+---------+---------+------+-------------+--------+---------+-----+--------------------+------+---------------+-------------+---------+--------------------+------+-------------+--------------------+------+-------------------+----------------------+---------------+--------+---------+--------------------+------+-----------+---------------+\n",
      "|              artist|     auth|firstName|gender|itemInSession|lastName|   length|level|            location|method|           page| registration|sessionId|                song|status|           ts|           userAgent|userId|    event_timestamp|registration_timestamp|days_registered|  device|device_os|                city| state|churn_event|downgrade_event|\n",
      "+--------------------+---------+---------+------+-------------+--------+---------+-----+--------------------+------+---------------+-------------+---------+--------------------+------+-------------+--------------------+------+-------------------+----------------------+---------------+--------+---------+--------------------+------+-----------+---------------+\n",
      "|      Martha Tilston|Logged In|    Colin|     M|           50| Freeman|277.89016| paid|     Bakersfield, CA|   PUT|       NextSong|1538173362000|       29|           Rockpools|   200|1538352117000|Mozilla/5.0 (Wind...|    30|2018-10-01 02:01:57|   2018-09-29 00:22:42|              2|computer|  windows|         Bakersfield|    CA|          0|              0|\n",
      "|    Five Iron Frenzy|Logged In|    Micah|     M|           79|    Long|236.09424| free|Boston-Cambridge-...|   PUT|       NextSong|1538331630000|        8|              Canada|   200|1538352180000|\"Mozilla/5.0 (Win...|     9|2018-10-01 02:03:00|   2018-09-30 20:20:30|              1|computer|  windows|Boston-Cambridge-...| MA-NH|          0|              0|\n",
      "|        Adam Lambert|Logged In|    Colin|     M|           51| Freeman| 282.8273| paid|     Bakersfield, CA|   PUT|       NextSong|1538173362000|       29|   Time For Miracles|   200|1538352394000|Mozilla/5.0 (Wind...|    30|2018-10-01 02:06:34|   2018-09-29 00:22:42|              2|computer|  windows|         Bakersfield|    CA|          0|              0|\n",
      "|              Enigma|Logged In|    Micah|     M|           80|    Long|262.71302| free|Boston-Cambridge-...|   PUT|       NextSong|1538331630000|        8|Knocking On Forbi...|   200|1538352416000|\"Mozilla/5.0 (Win...|     9|2018-10-01 02:06:56|   2018-09-30 20:20:30|              1|computer|  windows|Boston-Cambridge-...| MA-NH|          0|              0|\n",
      "|           Daft Punk|Logged In|    Colin|     M|           52| Freeman|223.60771| paid|     Bakersfield, CA|   PUT|       NextSong|1538173362000|       29|Harder Better Fas...|   200|1538352676000|Mozilla/5.0 (Wind...|    30|2018-10-01 02:11:16|   2018-09-29 00:22:42|              2|computer|  windows|         Bakersfield|    CA|          0|              0|\n",
      "|The All-American ...|Logged In|    Micah|     M|           81|    Long|208.29995| free|Boston-Cambridge-...|   PUT|       NextSong|1538331630000|        8|      Don't Leave Me|   200|1538352678000|\"Mozilla/5.0 (Win...|     9|2018-10-01 02:11:18|   2018-09-30 20:20:30|              1|computer|  windows|Boston-Cambridge-...| MA-NH|          0|              0|\n",
      "|The Velvet Underg...|Logged In|    Micah|     M|           82|    Long|260.46649| free|Boston-Cambridge-...|   PUT|       NextSong|1538331630000|        8|         Run Run Run|   200|1538352886000|\"Mozilla/5.0 (Win...|     9|2018-10-01 02:14:46|   2018-09-30 20:20:30|              1|computer|  windows|Boston-Cambridge-...| MA-NH|          0|              0|\n",
      "|        Starflyer 59|Logged In|    Colin|     M|           53| Freeman|185.44281| paid|     Bakersfield, CA|   PUT|       NextSong|1538173362000|       29|Passengers (Old A...|   200|1538352899000|Mozilla/5.0 (Wind...|    30|2018-10-01 02:14:59|   2018-09-29 00:22:42|              2|computer|  windows|         Bakersfield|    CA|          0|              0|\n",
      "|                null|Logged In|    Colin|     M|           54| Freeman|     null| paid|     Bakersfield, CA|   PUT|Add to Playlist|1538173362000|       29|                null|   200|1538352905000|Mozilla/5.0 (Wind...|    30|2018-10-01 02:15:05|   2018-09-29 00:22:42|              2|computer|  windows|         Bakersfield|    CA|          0|              0|\n",
      "|            Frumpies|Logged In|    Colin|     M|           55| Freeman|134.47791| paid|     Bakersfield, CA|   PUT|       NextSong|1538173362000|       29|          Fuck Kitty|   200|1538353084000|Mozilla/5.0 (Wind...|    30|2018-10-01 02:18:04|   2018-09-29 00:22:42|              2|computer|  windows|         Bakersfield|    CA|          0|              0|\n",
      "|        Britt Nicole|Logged In|    Micah|     M|           83|    Long| 229.8771| free|Boston-Cambridge-...|   PUT|       NextSong|1538331630000|        8|   Walk On The Water|   200|1538353146000|\"Mozilla/5.0 (Win...|     9|2018-10-01 02:19:06|   2018-09-30 20:20:30|              1|computer|  windows|Boston-Cambridge-...| MA-NH|          0|              0|\n",
      "|                null|Logged In|    Micah|     M|           84|    Long|     null| free|Boston-Cambridge-...|   GET|    Roll Advert|1538331630000|        8|                null|   200|1538353150000|\"Mozilla/5.0 (Win...|     9|2018-10-01 02:19:10|   2018-09-30 20:20:30|              1|computer|  windows|Boston-Cambridge-...| MA-NH|          0|              0|\n",
      "|Edward Sharpe & T...|Logged In|    Colin|     M|           56| Freeman|223.58159| paid|     Bakersfield, CA|   PUT|       NextSong|1538173362000|       29|                Jade|   200|1538353218000|Mozilla/5.0 (Wind...|    30|2018-10-01 02:20:18|   2018-09-29 00:22:42|              2|computer|  windows|         Bakersfield|    CA|          0|              0|\n",
      "|               Tesla|Logged In|    Micah|     M|           85|    Long|201.06404| free|Boston-Cambridge-...|   PUT|       NextSong|1538331630000|        8|      Gettin' Better|   200|1538353375000|\"Mozilla/5.0 (Win...|     9|2018-10-01 02:22:55|   2018-09-30 20:20:30|              1|computer|  windows|Boston-Cambridge-...| MA-NH|          0|              0|\n",
      "|                null|Logged In|    Micah|     M|           86|    Long|     null| free|Boston-Cambridge-...|   PUT|      Thumbs Up|1538331630000|        8|                null|   307|1538353376000|\"Mozilla/5.0 (Win...|     9|2018-10-01 02:22:56|   2018-09-30 20:20:30|              1|computer|  windows|Boston-Cambridge-...| MA-NH|          0|              0|\n",
      "|         Stan Mosley|Logged In|    Colin|     M|           57| Freeman|246.69995| paid|     Bakersfield, CA|   PUT|       NextSong|1538173362000|       29|   So-Called Friends|   200|1538353441000|Mozilla/5.0 (Wind...|    30|2018-10-01 02:24:01|   2018-09-29 00:22:42|              2|computer|  windows|         Bakersfield|    CA|          0|              0|\n",
      "|Florence + The Ma...|Logged In|    Micah|     M|           87|    Long|168.64608| free|Boston-Cambridge-...|   PUT|       NextSong|1538331630000|        8| You've Got The Love|   200|1538353576000|\"Mozilla/5.0 (Win...|     9|2018-10-01 02:26:16|   2018-09-30 20:20:30|              1|computer|  windows|Boston-Cambridge-...| MA-NH|          0|              0|\n",
      "|   Tokyo Police Club|Logged In|  Ashlynn|     F|            0|Williams| 166.1122| free|     Tallahassee, FL|   PUT|       NextSong|1537365219000|      217|Citizens Of Tomorrow|   200|1538353668000|\"Mozilla/5.0 (Mac...|    74|2018-10-01 02:27:48|   2018-09-19 15:53:39|             12|computer|      mac|         Tallahassee|    FL|          0|              0|\n",
      "|             Orishas|Logged In|    Colin|     M|           58| Freeman|222.22322| paid|     Bakersfield, CA|   PUT|       NextSong|1538173362000|       29|           Represent|   200|1538353687000|Mozilla/5.0 (Wind...|    30|2018-10-01 02:28:07|   2018-09-29 00:22:42|              2|computer|  windows|         Bakersfield|    CA|          0|              0|\n",
      "|             Ratatat|Logged In|    Micah|     M|           88|    Long|229.77261| free|Boston-Cambridge-...|   PUT|       NextSong|1538331630000|        8|              Swisha|   200|1538353744000|\"Mozilla/5.0 (Win...|     9|2018-10-01 02:29:04|   2018-09-30 20:20:30|              1|computer|  windows|Boston-Cambridge-...| MA-NH|          0|              0|\n",
      "+--------------------+---------+---------+------+-------------+--------+---------+-----+--------------------+------+---------------+-------------+---------+--------------------+------+-------------+--------------------+------+-------------------+----------------------+---------------+--------+---------+--------------------+------+-----------+---------------+\n",
      "only showing top 20 rows\n",
      "\n"
     ]
    }
   ],
   "source": [
    "df.show(20)"
   ]
  },
  {
   "cell_type": "code",
   "execution_count": 14,
   "metadata": {},
   "outputs": [
    {
     "name": "stdout",
     "output_type": "stream",
     "text": [
      "+--------------------+--------------------+---------------------------+---------------------------+\n",
      "|min(event_timestamp)|max(event_timestamp)|min(registration_timestamp)|max(registration_timestamp)|\n",
      "+--------------------+--------------------+---------------------------+---------------------------+\n",
      "| 2018-10-01 02:01:57| 2018-12-03 02:11:16|        2018-03-18 14:44:35|        2018-11-26 16:49:14|\n",
      "+--------------------+--------------------+---------------------------+---------------------------+\n",
      "\n"
     ]
    }
   ],
   "source": [
    "df.agg(min('event_timestamp'),max('event_timestamp'),min('registration_timestamp'),max('registration_timestamp')).show()"
   ]
  },
  {
   "cell_type": "markdown",
   "metadata": {},
   "source": [
    "# Exploratory Data Analysis\n",
    "When you're working with the full dataset, perform EDA by loading a small subset of the data and doing basic manipulations within Spark. In this workspace, you are already provided a small subset of data you can explore.\n",
    "\n",
    "### Define Churn\n",
    "\n",
    "Once you've done some preliminary analysis, create a column `Churn` to use as the label for your model. I suggest using the `Cancellation Confirmation` events to define your churn, which happen for both paid and free users. As a bonus task, you can also look into the `Downgrade` events.\n",
    "\n",
    "### Explore Data\n",
    "Once you've defined churn, perform some exploratory data analysis to observe the behavior for users who stayed vs users who churned. You can start by exploring aggregates on these two groups of users, observing how much of a specific action they experienced per a certain time unit or number of songs played."
   ]
  },
  {
   "cell_type": "code",
   "execution_count": 15,
   "metadata": {
    "scrolled": true
   },
   "outputs": [
    {
     "name": "stdout",
     "output_type": "stream",
     "text": [
      "+-------+----------+---------+------+--------------------+-----+--------+---------+----------------------+------------+------------+-------+-------------+----------+-----------------+----------+-------------+------------------+------------------+--------------+-----------+-------------+-----------+----------+--------------------+--------------------+-----------+\n",
      "|user_id|first_name|last_name|gender|                city|state|  device|device_os|registration_timestamp|free_account|paid_account|churned|churn_weekday|churn_hour|days_till_churned|downgraded|session_count|        song_ratio|      artist_ratio|nextsong_count|likes_count|dislike_count|error_count|help_count|         likes_ratio|       dislike_ratio|event_count|\n",
      "+-------+----------+---------+------+--------------------+-----+--------+---------+----------------------+------------+------------+-------+-------------+----------+-----------------+----------+-------------+------------------+------------------+--------------+-----------+-------------+-----------+----------+--------------------+--------------------+-----------+\n",
      "|     10|    Brycen|  Bradley|     M|              Laurel|   MS|computer|      mac|   2018-09-28 20:31:35|           0|           1|      0|         null|      null|             null|         0|            6|0.9346210995542348|0.8395245170876672|           673|         37|            4|          0|         1|0.058823529411764705|0.006359300476947536|        795|\n",
      "|    100|     Colin|   Larson|     M|Dallas-Fort Worth...|   TX|computer|  windows|   2018-09-26 19:17:35|           1|           1|      0|         null|      null|             null|         1|           35|0.8583146905294556|0.6357196122296793|          2682|        148|           27|          3|        18| 0.06429192006950478|0.011728931364031277|       3214|\n",
      "| 100001|   Delaney|    Perez|     F|Miami-Fort Lauder...|   FL|computer|      mac|   2018-08-18 23:24:26|           1|           0|      1|      Tuesday|        18|               45|         0|            4|0.9699248120300752|0.9398496240601504|           133|          8|            2|          1|         1| 0.06201550387596899|0.015503875968992248|        187|\n",
      "| 100002|    Gracie|    Chang|     F|Santa Maria-Santa...|   CA|computer|  windows|   2018-06-25 15:51:29|           0|           1|      0|         null|      null|             null|         0|            4|0.9897435897435898|0.9435897435897436|           195|          5|            0|          0|         0|0.025906735751295335|                 0.0|        218|\n",
      "| 100003|    Nevaeh|    Jones|     F|Miami-Fort Lauder...|   FL|computer|  windows|   2018-09-19 00:22:24|           1|           0|      1|     Thursday|        18|               22|         0|            2|               1.0|0.9803921568627451|            51|          3|            0|          0|         1|0.058823529411764705|                 0.0|         78|\n",
      "+-------+----------+---------+------+--------------------+-----+--------+---------+----------------------+------------+------------+-------+-------------+----------+-----------------+----------+-------------+------------------+------------------+--------------+-----------+-------------+-----------+----------+--------------------+--------------------+-----------+\n",
      "only showing top 5 rows\n",
      "\n"
     ]
    }
   ],
   "source": [
    "df.createOrReplaceTempView(\"events\")\n",
    "user_table = spark.sql(\"\"\"\n",
    "                        SELECT \n",
    "                            u.userId as user_id, \n",
    "                            u.firstName as first_name, \n",
    "                            u.lastName as last_name, \n",
    "                            u.gender as gender, \n",
    "                            u.city as city,\n",
    "                            u.state as state,\n",
    "                            u.device as device,\n",
    "                            u.device_os as device_os,\n",
    "                            u.registration_timestamp as registration_timestamp,\n",
    "                            p.free_account,\n",
    "                            p.paid_account,\n",
    "                            p.churned as churned,\n",
    "                            date_format(p.churn_timestamp, 'EEEE') as churn_weekday,\n",
    "                            hour(p.churn_timestamp) as churn_hour,\n",
    "                            datediff(p.churn_timestamp,u.registration_timestamp) as days_till_churned,\n",
    "                            p.downgraded as downgraded,\n",
    "                            p.session_count as session_count,\n",
    "                            (p.song_count/p.nextsong_count) as song_ratio,\n",
    "                            (p.artist_count/p.nextsong_count) as artist_ratio,\n",
    "                            p.nextsong_count as nextsong_count,\n",
    "                            p.likes_count as likes_count,\n",
    "                            p.dislike_count as dislike_count,\n",
    "                            p.error_count as error_count,\n",
    "                            p.help_count as help_count,\n",
    "                            (p.likes_count/p.song_count) as likes_ratio,\n",
    "                            (p.dislike_count/p.song_count) as dislike_ratio,\n",
    "                            \n",
    "                            p.event_count as event_count\n",
    "                        FROM (SELECT DISTINCT\n",
    "                                    userId , \n",
    "                                    firstName, \n",
    "                                    lastName, \n",
    "                                    gender, \n",
    "                                    location,\n",
    "                                    city,\n",
    "                                    state,\n",
    "                                    userAgent,\n",
    "                                    device,\n",
    "                                    device_os ,\n",
    "                                    registration ,\n",
    "                                    registration_timestamp \n",
    "                                FROM events) AS u\n",
    "                        JOIN (SELECT DISTINCT\n",
    "                                    userId, \n",
    "                                    (CASE WHEN COUNT(CASE WHEN level='free' THEN 1 ELSE NULL END)>0 THEN 1 ELSE 0 END) as free_account,\n",
    "                                    (CASE WHEN COUNT(CASE WHEN level='paid' THEN 1 ELSE NULL END)>0 THEN 1 ELSE 0 END) as paid_account,\n",
    "                                    MAX(churn_event) as churned,\n",
    "                                    MAX(downgrade_event) as downgraded,\n",
    "                                    COUNT(DISTINCT sessionId) as session_count,\n",
    "                                    COUNT(DISTINCT song) as song_count,\n",
    "                                    COUNT(DISTINCT artist) as artist_count,\n",
    "                                    COUNT(CASE WHEN page='NextSong' THEN 1 ELSE NULL END) as nextsong_count,\n",
    "                                    COUNT(CASE WHEN page=='Thumbs Up' THEN 1 ELSE NULL END) as likes_count,\n",
    "                                    COUNT(CASE WHEN page=='Thumbs Down' THEN 1 ELSE NULL END) as dislike_count,\n",
    "                                    COUNT(CASE WHEN page=='Error' THEN 1 ELSE NULL END) as error_count,\n",
    "                                    COUNT(CASE WHEN page=='Help' THEN 1 ELSE NULL END) as help_count,\n",
    "                                    (CASE WHEN MAX(churn_event)>0 THEN MAX(event_timestamp) ELSE NULL END) as churn_timestamp,\n",
    "                                    COUNT(*) as event_count\n",
    "                                FROM events GROUP BY userId) AS p\n",
    "                        ON u.userId=p.userId\n",
    "                        ORDER BY user_id\n",
    "                        \"\"\")\n",
    "\n",
    "user_table.show(5)"
   ]
  },
  {
   "cell_type": "code",
   "execution_count": 16,
   "metadata": {
    "scrolled": false
   },
   "outputs": [
    {
     "name": "stdout",
     "output_type": "stream",
     "text": [
      "+-------+----------+---------------+--------+---------+-----+--------------------+-------------------+---------------+-----------+---------------+\n",
      "|user_id|session_id|item_in_session|   event|     auth|level|event_timestamp_unix|    event_timestamp|days_registered|churn_event|downgrade_event|\n",
      "+-------+----------+---------------+--------+---------+-----+--------------------+-------------------+---------------+-----------+---------------+\n",
      "| 100002|       198|              0|NextSong|Logged In| paid|       1543799476000|2018-12-03 02:11:16|            161|          0|              0|\n",
      "| 200008|       408|            133|NextSong|Logged In| paid|       1543622579000|2018-12-01 01:02:59|            116|          0|              0|\n",
      "|    152|      2409|             37|NextSong|Logged In| paid|       1543622432000|2018-12-01 01:00:32|             31|          0|              0|\n",
      "| 300011|       500|             45|NextSong|Logged In| paid|       1543622411000|2018-12-01 01:00:11|             62|          0|              0|\n",
      "| 300011|       500|             44|   About|Logged In| paid|       1543622398000|2018-12-01 00:59:58|             62|          0|              0|\n",
      "+-------+----------+---------------+--------+---------+-----+--------------------+-------------------+---------------+-----------+---------------+\n",
      "only showing top 5 rows\n",
      "\n"
     ]
    }
   ],
   "source": [
    "df.createOrReplaceTempView(\"events\")\n",
    "event_table = spark.sql(\"\"\"\n",
    "                    SELECT DISTINCT\n",
    "                        userId as user_id,\n",
    "                        sessionId as session_id,\n",
    "                        itemInSession as item_in_session,\n",
    "                        page as event,\n",
    "                        auth,\n",
    "                        level,\n",
    "                        ts as event_timestamp_unix,\n",
    "                        event_timestamp,\n",
    "                        days_registered,\n",
    "                        churn_event,\n",
    "                        downgrade_event\n",
    "                    FROM events\n",
    "                    ORDER BY event_timestamp_unix DESC\n",
    "                \"\"\") \n",
    "event_table.show(5)"
   ]
  },
  {
   "cell_type": "code",
   "execution_count": 17,
   "metadata": {
    "scrolled": false
   },
   "outputs": [
    {
     "name": "stderr",
     "output_type": "stream",
     "text": [
      "C:\\Users\\thoma\\anaconda3\\Lib\\site-packages\\pyspark\\sql\\pandas\\conversion.py:251: FutureWarning: Passing unit-less datetime64 dtype to .astype is deprecated and will raise in a future version. Pass 'datetime64[ns]' instead\n",
      "  series = series.astype(t, copy=False)\n"
     ]
    },
    {
     "data": {
      "text/html": [
       "<div>\n",
       "<style scoped>\n",
       "    .dataframe tbody tr th:only-of-type {\n",
       "        vertical-align: middle;\n",
       "    }\n",
       "\n",
       "    .dataframe tbody tr th {\n",
       "        vertical-align: top;\n",
       "    }\n",
       "\n",
       "    .dataframe thead th {\n",
       "        text-align: right;\n",
       "    }\n",
       "</style>\n",
       "<table border=\"1\" class=\"dataframe\">\n",
       "  <thead>\n",
       "    <tr style=\"text-align: right;\">\n",
       "      <th></th>\n",
       "      <th>first_name</th>\n",
       "      <th>last_name</th>\n",
       "      <th>gender</th>\n",
       "      <th>city</th>\n",
       "      <th>state</th>\n",
       "      <th>device</th>\n",
       "      <th>device_os</th>\n",
       "      <th>registration_timestamp</th>\n",
       "      <th>free_account</th>\n",
       "      <th>paid_account</th>\n",
       "      <th>...</th>\n",
       "      <th>song_ratio</th>\n",
       "      <th>artist_ratio</th>\n",
       "      <th>nextsong_count</th>\n",
       "      <th>likes_count</th>\n",
       "      <th>dislike_count</th>\n",
       "      <th>error_count</th>\n",
       "      <th>help_count</th>\n",
       "      <th>likes_ratio</th>\n",
       "      <th>dislike_ratio</th>\n",
       "      <th>event_count</th>\n",
       "    </tr>\n",
       "    <tr>\n",
       "      <th>user_id</th>\n",
       "      <th></th>\n",
       "      <th></th>\n",
       "      <th></th>\n",
       "      <th></th>\n",
       "      <th></th>\n",
       "      <th></th>\n",
       "      <th></th>\n",
       "      <th></th>\n",
       "      <th></th>\n",
       "      <th></th>\n",
       "      <th></th>\n",
       "      <th></th>\n",
       "      <th></th>\n",
       "      <th></th>\n",
       "      <th></th>\n",
       "      <th></th>\n",
       "      <th></th>\n",
       "      <th></th>\n",
       "      <th></th>\n",
       "      <th></th>\n",
       "      <th></th>\n",
       "    </tr>\n",
       "  </thead>\n",
       "  <tbody>\n",
       "    <tr>\n",
       "      <th>10</th>\n",
       "      <td>Brycen</td>\n",
       "      <td>Bradley</td>\n",
       "      <td>M</td>\n",
       "      <td>Laurel</td>\n",
       "      <td>MS</td>\n",
       "      <td>computer</td>\n",
       "      <td>mac</td>\n",
       "      <td>2018-09-28 20:31:35</td>\n",
       "      <td>0</td>\n",
       "      <td>1</td>\n",
       "      <td>...</td>\n",
       "      <td>0.934621</td>\n",
       "      <td>0.839525</td>\n",
       "      <td>673</td>\n",
       "      <td>37</td>\n",
       "      <td>4</td>\n",
       "      <td>0</td>\n",
       "      <td>1</td>\n",
       "      <td>0.058824</td>\n",
       "      <td>0.006359</td>\n",
       "      <td>795</td>\n",
       "    </tr>\n",
       "    <tr>\n",
       "      <th>100</th>\n",
       "      <td>Colin</td>\n",
       "      <td>Larson</td>\n",
       "      <td>M</td>\n",
       "      <td>Dallas-Fort Worth-Arlington</td>\n",
       "      <td>TX</td>\n",
       "      <td>computer</td>\n",
       "      <td>windows</td>\n",
       "      <td>2018-09-26 19:17:35</td>\n",
       "      <td>1</td>\n",
       "      <td>1</td>\n",
       "      <td>...</td>\n",
       "      <td>0.858315</td>\n",
       "      <td>0.635720</td>\n",
       "      <td>2682</td>\n",
       "      <td>148</td>\n",
       "      <td>27</td>\n",
       "      <td>3</td>\n",
       "      <td>18</td>\n",
       "      <td>0.064292</td>\n",
       "      <td>0.011729</td>\n",
       "      <td>3214</td>\n",
       "    </tr>\n",
       "    <tr>\n",
       "      <th>100001</th>\n",
       "      <td>Delaney</td>\n",
       "      <td>Perez</td>\n",
       "      <td>F</td>\n",
       "      <td>Miami-Fort Lauderdale-West Palm Beach</td>\n",
       "      <td>FL</td>\n",
       "      <td>computer</td>\n",
       "      <td>mac</td>\n",
       "      <td>2018-08-18 23:24:26</td>\n",
       "      <td>1</td>\n",
       "      <td>0</td>\n",
       "      <td>...</td>\n",
       "      <td>0.969925</td>\n",
       "      <td>0.939850</td>\n",
       "      <td>133</td>\n",
       "      <td>8</td>\n",
       "      <td>2</td>\n",
       "      <td>1</td>\n",
       "      <td>1</td>\n",
       "      <td>0.062016</td>\n",
       "      <td>0.015504</td>\n",
       "      <td>187</td>\n",
       "    </tr>\n",
       "    <tr>\n",
       "      <th>100002</th>\n",
       "      <td>Gracie</td>\n",
       "      <td>Chang</td>\n",
       "      <td>F</td>\n",
       "      <td>Santa Maria-Santa Barbara</td>\n",
       "      <td>CA</td>\n",
       "      <td>computer</td>\n",
       "      <td>windows</td>\n",
       "      <td>2018-06-25 15:51:29</td>\n",
       "      <td>0</td>\n",
       "      <td>1</td>\n",
       "      <td>...</td>\n",
       "      <td>0.989744</td>\n",
       "      <td>0.943590</td>\n",
       "      <td>195</td>\n",
       "      <td>5</td>\n",
       "      <td>0</td>\n",
       "      <td>0</td>\n",
       "      <td>0</td>\n",
       "      <td>0.025907</td>\n",
       "      <td>0.000000</td>\n",
       "      <td>218</td>\n",
       "    </tr>\n",
       "    <tr>\n",
       "      <th>100003</th>\n",
       "      <td>Nevaeh</td>\n",
       "      <td>Jones</td>\n",
       "      <td>F</td>\n",
       "      <td>Miami-Fort Lauderdale-West Palm Beach</td>\n",
       "      <td>FL</td>\n",
       "      <td>computer</td>\n",
       "      <td>windows</td>\n",
       "      <td>2018-09-19 00:22:24</td>\n",
       "      <td>1</td>\n",
       "      <td>0</td>\n",
       "      <td>...</td>\n",
       "      <td>1.000000</td>\n",
       "      <td>0.980392</td>\n",
       "      <td>51</td>\n",
       "      <td>3</td>\n",
       "      <td>0</td>\n",
       "      <td>0</td>\n",
       "      <td>1</td>\n",
       "      <td>0.058824</td>\n",
       "      <td>0.000000</td>\n",
       "      <td>78</td>\n",
       "    </tr>\n",
       "  </tbody>\n",
       "</table>\n",
       "<p>5 rows × 26 columns</p>\n",
       "</div>"
      ],
      "text/plain": [
       "        first_name last_name gender                                   city  \\\n",
       "user_id                                                                      \n",
       "10          Brycen   Bradley      M                                 Laurel   \n",
       "100          Colin    Larson      M            Dallas-Fort Worth-Arlington   \n",
       "100001     Delaney     Perez      F  Miami-Fort Lauderdale-West Palm Beach   \n",
       "100002      Gracie     Chang      F              Santa Maria-Santa Barbara   \n",
       "100003      Nevaeh     Jones      F  Miami-Fort Lauderdale-West Palm Beach   \n",
       "\n",
       "        state    device device_os registration_timestamp  free_account  \\\n",
       "user_id                                                                  \n",
       "10         MS  computer       mac    2018-09-28 20:31:35             0   \n",
       "100        TX  computer   windows    2018-09-26 19:17:35             1   \n",
       "100001     FL  computer       mac    2018-08-18 23:24:26             1   \n",
       "100002     CA  computer   windows    2018-06-25 15:51:29             0   \n",
       "100003     FL  computer   windows    2018-09-19 00:22:24             1   \n",
       "\n",
       "         paid_account  ... song_ratio artist_ratio  nextsong_count  \\\n",
       "user_id                ...                                           \n",
       "10                  1  ...   0.934621     0.839525             673   \n",
       "100                 1  ...   0.858315     0.635720            2682   \n",
       "100001              0  ...   0.969925     0.939850             133   \n",
       "100002              1  ...   0.989744     0.943590             195   \n",
       "100003              0  ...   1.000000     0.980392              51   \n",
       "\n",
       "         likes_count dislike_count  error_count  help_count  likes_ratio  \\\n",
       "user_id                                                                    \n",
       "10                37             4            0           1     0.058824   \n",
       "100              148            27            3          18     0.064292   \n",
       "100001             8             2            1           1     0.062016   \n",
       "100002             5             0            0           0     0.025907   \n",
       "100003             3             0            0           1     0.058824   \n",
       "\n",
       "         dislike_ratio  event_count  \n",
       "user_id                              \n",
       "10            0.006359          795  \n",
       "100           0.011729         3214  \n",
       "100001        0.015504          187  \n",
       "100002        0.000000          218  \n",
       "100003        0.000000           78  \n",
       "\n",
       "[5 rows x 26 columns]"
      ]
     },
     "execution_count": 17,
     "metadata": {},
     "output_type": "execute_result"
    }
   ],
   "source": [
    "df_user=user_table.toPandas().set_index('user_id')\n",
    "df_user['churned']=df_user['churned'].map({0:'stayed', 1:'churned'})\n",
    "df_user['downgraded']=df_user['downgraded'].map({0:'kept level', 1:'downgraded'})\n",
    "df_user.head()\n"
   ]
  },
  {
   "cell_type": "code",
   "execution_count": 18,
   "metadata": {
    "scrolled": false
   },
   "outputs": [
    {
     "data": {
      "image/png": "[encoded data removed]",
      "text/plain": [
       "<Figure size 1200x500 with 3 Axes>"
      ]
     },
     "metadata": {},
     "output_type": "display_data"
    },
    {
     "data": {
      "image/png": "[encoded data removed]",
      "text/plain": [
       "<Figure size 800x300 with 2 Axes>"
      ]
     },
     "metadata": {},
     "output_type": "display_data"
    }
   ],
   "source": [
    "colors=sns.color_palette('Pastel2')\n",
    "\n",
    "fig, axs = plt.subplots(1, 3, figsize=[12,5])\n",
    "axs[0].pie(df_user.gender.value_counts(), labels=['male', 'female'],explode=(0,0.1),autopct='%.0f%%', colors=colors );\n",
    "axs[1].pie(df_user.device.value_counts(), labels=df_user.device.value_counts().index.tolist(),explode=(0,0.1),autopct='%.0f%%', colors=colors );\n",
    "axs[2].pie(df_user.device_os.value_counts(), labels=df_user.device_os.value_counts().index.tolist(),explode=(0,0.1,0.1),autopct='%.0f%%', colors=colors );\n",
    "\n",
    "fig, axs = plt.subplots(1, 2, figsize=[8,3])\n",
    "axs[0].pie(df_user.churned.value_counts(), labels=['stayed', 'churned'],explode=(0,0.1),autopct='%.0f%%', colors=colors );\n",
    "axs[1].pie(df_user.downgraded.value_counts(), labels=[ 'kept_level','downgraded'],explode=(0,0.1),autopct='%.0f%%', colors=colors );\n"
   ]
  },
  {
   "cell_type": "code",
   "execution_count": 19,
   "metadata": {},
   "outputs": [
    {
     "data": {
      "image/png": "[encoded data removed]",
      "text/plain": [
       "<Figure size 1000x500 with 1 Axes>"
      ]
     },
     "metadata": {},
     "output_type": "display_data"
    }
   ],
   "source": [
    "plt.figure( figsize=[10,5])\n",
    "ax=sns.barplot(x=df_user.state.value_counts().index,y=df_user.state.value_counts(),palette='Pastel1');\n",
    "ax.set_xticklabels(ax.get_xticklabels(), rotation=90, fontsize=8)\n",
    "plt.xlabel('State')\n",
    "plt.ylabel('Number of Users');"
   ]
  },
  {
   "cell_type": "code",
   "execution_count": 20,
   "metadata": {
    "scrolled": false
   },
   "outputs": [
    {
     "data": {
      "image/png": "[encoded data removed]",
      "text/plain": [
       "<Figure size 1000x500 with 1 Axes>"
      ]
     },
     "metadata": {},
     "output_type": "display_data"
    }
   ],
   "source": [
    "plt.figure( figsize=[10,5])\n",
    "ax=sns.barplot(x=df_user[df_user.churned=='churned'].churn_weekday.value_counts().index,y=df_user[df_user.churned=='churned'].churn_weekday.value_counts(),palette='Pastel1');\n",
    "ax.set_xticklabels(ax.get_xticklabels(), fontsize=8)\n",
    "plt.xlabel('Weekdays')\n",
    "plt.ylabel('Number of Churns');"
   ]
  },
  {
   "cell_type": "code",
   "execution_count": 21,
   "metadata": {},
   "outputs": [
    {
     "data": {
      "image/png": "[encoded data removed]",
      "text/plain": [
       "<Figure size 1000x500 with 1 Axes>"
      ]
     },
     "metadata": {},
     "output_type": "display_data"
    }
   ],
   "source": [
    "plt.figure( figsize=[10,5])\n",
    "ax=sns.barplot(x=df_user[df_user.churned=='churned'].churn_hour.value_counts().index.astype('int'),y=df_user[df_user.churned=='churned'].churn_hour.value_counts(),palette='Pastel1');\n",
    "ax.set_xticklabels(ax.get_xticklabels(), fontsize=8)\n",
    "plt.xlabel('Hour of the day')\n",
    "plt.ylabel('Number of Churns');"
   ]
  },
  {
   "cell_type": "code",
   "execution_count": 22,
   "metadata": {
    "scrolled": false
   },
   "outputs": [
    {
     "data": {
      "image/png": "[encoded data removed]",
      "text/plain": [
       "<Figure size 600x300 with 2 Axes>"
      ]
     },
     "metadata": {},
     "output_type": "display_data"
    }
   ],
   "source": [
    "fig, axs = plt.subplots(1, 2, figsize=[6,3])\n",
    "axs[0].pie(df_user[df_user['gender']=='F'].churned.value_counts(), labels=['stayed', 'churned'],explode=(0,0.1),autopct='%.0f%%', colors=colors );\n",
    "axs[0].set_title('Female User')\n",
    "\n",
    "axs[1].pie(df_user[df_user['gender']=='M'].churned.value_counts(), labels=['stayed', 'churned'],explode=(0,0.1),autopct='%.0f%%', colors=colors );\n",
    "axs[1].set_title('Male User');"
   ]
  },
  {
   "cell_type": "code",
   "execution_count": 23,
   "metadata": {},
   "outputs": [
    {
     "data": {
      "image/png": "[encoded data removed]",
      "text/plain": [
       "<Figure size 600x300 with 2 Axes>"
      ]
     },
     "metadata": {},
     "output_type": "display_data"
    }
   ],
   "source": [
    "fig, axs = plt.subplots(1, 2, figsize=[6,3])\n",
    "axs[0].pie(df_user[df_user['device']=='computer'].churned.value_counts(), labels=['stayed', 'churned'],explode=(0,0.1),autopct='%.0f%%', colors=colors );\n",
    "axs[0].set_title('Computer Users')\n",
    "\n",
    "axs[1].pie(df_user[df_user['device']=='mobile'].churned.value_counts(), labels=['stayed', 'churned'],explode=(0,0.1),autopct='%.0f%%', colors=colors );\n",
    "axs[1].set_title('Mobile Users');"
   ]
  },
  {
   "cell_type": "code",
   "execution_count": 24,
   "metadata": {},
   "outputs": [
    {
     "data": {
      "text/html": [
       "<div>\n",
       "<style scoped>\n",
       "    .dataframe tbody tr th:only-of-type {\n",
       "        vertical-align: middle;\n",
       "    }\n",
       "\n",
       "    .dataframe tbody tr th {\n",
       "        vertical-align: top;\n",
       "    }\n",
       "\n",
       "    .dataframe thead th {\n",
       "        text-align: right;\n",
       "    }\n",
       "</style>\n",
       "<table border=\"1\" class=\"dataframe\">\n",
       "  <thead>\n",
       "    <tr style=\"text-align: right;\">\n",
       "      <th></th>\n",
       "      <th>ratio</th>\n",
       "      <th>churned</th>\n",
       "      <th>value</th>\n",
       "    </tr>\n",
       "  </thead>\n",
       "  <tbody>\n",
       "    <tr>\n",
       "      <th>0</th>\n",
       "      <td>likes_ratio</td>\n",
       "      <td>churned</td>\n",
       "      <td>0.056350</td>\n",
       "    </tr>\n",
       "    <tr>\n",
       "      <th>1</th>\n",
       "      <td>likes_ratio</td>\n",
       "      <td>stayed</td>\n",
       "      <td>0.059380</td>\n",
       "    </tr>\n",
       "    <tr>\n",
       "      <th>2</th>\n",
       "      <td>dislike_ratio</td>\n",
       "      <td>churned</td>\n",
       "      <td>0.018285</td>\n",
       "    </tr>\n",
       "    <tr>\n",
       "      <th>3</th>\n",
       "      <td>dislike_ratio</td>\n",
       "      <td>stayed</td>\n",
       "      <td>0.011035</td>\n",
       "    </tr>\n",
       "  </tbody>\n",
       "</table>\n",
       "</div>"
      ],
      "text/plain": [
       "           ratio  churned     value\n",
       "0    likes_ratio  churned  0.056350\n",
       "1    likes_ratio   stayed  0.059380\n",
       "2  dislike_ratio  churned  0.018285\n",
       "3  dislike_ratio   stayed  0.011035"
      ]
     },
     "execution_count": 24,
     "metadata": {},
     "output_type": "execute_result"
    }
   ],
   "source": [
    "t=df_user[['churned','likes_ratio', 'dislike_ratio']].groupby(['churned']).mean().unstack().reset_index()\n",
    "t.columns=['ratio','churned','value']\n",
    "t"
   ]
  },
  {
   "cell_type": "code",
   "execution_count": 25,
   "metadata": {},
   "outputs": [
    {
     "data": {
      "text/html": [
       "<div>\n",
       "<style scoped>\n",
       "    .dataframe tbody tr th:only-of-type {\n",
       "        vertical-align: middle;\n",
       "    }\n",
       "\n",
       "    .dataframe tbody tr th {\n",
       "        vertical-align: top;\n",
       "    }\n",
       "\n",
       "    .dataframe thead th {\n",
       "        text-align: right;\n",
       "    }\n",
       "</style>\n",
       "<table border=\"1\" class=\"dataframe\">\n",
       "  <thead>\n",
       "    <tr style=\"text-align: right;\">\n",
       "      <th></th>\n",
       "      <th>first_name</th>\n",
       "      <th>last_name</th>\n",
       "      <th>gender</th>\n",
       "      <th>city</th>\n",
       "      <th>state</th>\n",
       "      <th>device</th>\n",
       "      <th>device_os</th>\n",
       "      <th>registration_timestamp</th>\n",
       "      <th>free_account</th>\n",
       "      <th>paid_account</th>\n",
       "      <th>...</th>\n",
       "      <th>song_ratio</th>\n",
       "      <th>artist_ratio</th>\n",
       "      <th>nextsong_count</th>\n",
       "      <th>likes_count</th>\n",
       "      <th>dislike_count</th>\n",
       "      <th>error_count</th>\n",
       "      <th>help_count</th>\n",
       "      <th>likes_ratio</th>\n",
       "      <th>dislike_ratio</th>\n",
       "      <th>event_count</th>\n",
       "    </tr>\n",
       "    <tr>\n",
       "      <th>user_id</th>\n",
       "      <th></th>\n",
       "      <th></th>\n",
       "      <th></th>\n",
       "      <th></th>\n",
       "      <th></th>\n",
       "      <th></th>\n",
       "      <th></th>\n",
       "      <th></th>\n",
       "      <th></th>\n",
       "      <th></th>\n",
       "      <th></th>\n",
       "      <th></th>\n",
       "      <th></th>\n",
       "      <th></th>\n",
       "      <th></th>\n",
       "      <th></th>\n",
       "      <th></th>\n",
       "      <th></th>\n",
       "      <th></th>\n",
       "      <th></th>\n",
       "      <th></th>\n",
       "    </tr>\n",
       "  </thead>\n",
       "  <tbody>\n",
       "    <tr>\n",
       "      <th>10</th>\n",
       "      <td>Brycen</td>\n",
       "      <td>Bradley</td>\n",
       "      <td>M</td>\n",
       "      <td>Laurel</td>\n",
       "      <td>MS</td>\n",
       "      <td>computer</td>\n",
       "      <td>mac</td>\n",
       "      <td>2018-09-28 20:31:35</td>\n",
       "      <td>0</td>\n",
       "      <td>1</td>\n",
       "      <td>...</td>\n",
       "      <td>0.934621</td>\n",
       "      <td>0.839525</td>\n",
       "      <td>673</td>\n",
       "      <td>37</td>\n",
       "      <td>4</td>\n",
       "      <td>0</td>\n",
       "      <td>1</td>\n",
       "      <td>0.058824</td>\n",
       "      <td>0.006359</td>\n",
       "      <td>795</td>\n",
       "    </tr>\n",
       "    <tr>\n",
       "      <th>100</th>\n",
       "      <td>Colin</td>\n",
       "      <td>Larson</td>\n",
       "      <td>M</td>\n",
       "      <td>Dallas-Fort Worth-Arlington</td>\n",
       "      <td>TX</td>\n",
       "      <td>computer</td>\n",
       "      <td>windows</td>\n",
       "      <td>2018-09-26 19:17:35</td>\n",
       "      <td>1</td>\n",
       "      <td>1</td>\n",
       "      <td>...</td>\n",
       "      <td>0.858315</td>\n",
       "      <td>0.635720</td>\n",
       "      <td>2682</td>\n",
       "      <td>148</td>\n",
       "      <td>27</td>\n",
       "      <td>3</td>\n",
       "      <td>18</td>\n",
       "      <td>0.064292</td>\n",
       "      <td>0.011729</td>\n",
       "      <td>3214</td>\n",
       "    </tr>\n",
       "    <tr>\n",
       "      <th>100001</th>\n",
       "      <td>Delaney</td>\n",
       "      <td>Perez</td>\n",
       "      <td>F</td>\n",
       "      <td>Miami-Fort Lauderdale-West Palm Beach</td>\n",
       "      <td>FL</td>\n",
       "      <td>computer</td>\n",
       "      <td>mac</td>\n",
       "      <td>2018-08-18 23:24:26</td>\n",
       "      <td>1</td>\n",
       "      <td>0</td>\n",
       "      <td>...</td>\n",
       "      <td>0.969925</td>\n",
       "      <td>0.939850</td>\n",
       "      <td>133</td>\n",
       "      <td>8</td>\n",
       "      <td>2</td>\n",
       "      <td>1</td>\n",
       "      <td>1</td>\n",
       "      <td>0.062016</td>\n",
       "      <td>0.015504</td>\n",
       "      <td>187</td>\n",
       "    </tr>\n",
       "    <tr>\n",
       "      <th>100002</th>\n",
       "      <td>Gracie</td>\n",
       "      <td>Chang</td>\n",
       "      <td>F</td>\n",
       "      <td>Santa Maria-Santa Barbara</td>\n",
       "      <td>CA</td>\n",
       "      <td>computer</td>\n",
       "      <td>windows</td>\n",
       "      <td>2018-06-25 15:51:29</td>\n",
       "      <td>0</td>\n",
       "      <td>1</td>\n",
       "      <td>...</td>\n",
       "      <td>0.989744</td>\n",
       "      <td>0.943590</td>\n",
       "      <td>195</td>\n",
       "      <td>5</td>\n",
       "      <td>0</td>\n",
       "      <td>0</td>\n",
       "      <td>0</td>\n",
       "      <td>0.025907</td>\n",
       "      <td>0.000000</td>\n",
       "      <td>218</td>\n",
       "    </tr>\n",
       "    <tr>\n",
       "      <th>100003</th>\n",
       "      <td>Nevaeh</td>\n",
       "      <td>Jones</td>\n",
       "      <td>F</td>\n",
       "      <td>Miami-Fort Lauderdale-West Palm Beach</td>\n",
       "      <td>FL</td>\n",
       "      <td>computer</td>\n",
       "      <td>windows</td>\n",
       "      <td>2018-09-19 00:22:24</td>\n",
       "      <td>1</td>\n",
       "      <td>0</td>\n",
       "      <td>...</td>\n",
       "      <td>1.000000</td>\n",
       "      <td>0.980392</td>\n",
       "      <td>51</td>\n",
       "      <td>3</td>\n",
       "      <td>0</td>\n",
       "      <td>0</td>\n",
       "      <td>1</td>\n",
       "      <td>0.058824</td>\n",
       "      <td>0.000000</td>\n",
       "      <td>78</td>\n",
       "    </tr>\n",
       "  </tbody>\n",
       "</table>\n",
       "<p>5 rows × 26 columns</p>\n",
       "</div>"
      ],
      "text/plain": [
       "        first_name last_name gender                                   city  \\\n",
       "user_id                                                                      \n",
       "10          Brycen   Bradley      M                                 Laurel   \n",
       "100          Colin    Larson      M            Dallas-Fort Worth-Arlington   \n",
       "100001     Delaney     Perez      F  Miami-Fort Lauderdale-West Palm Beach   \n",
       "100002      Gracie     Chang      F              Santa Maria-Santa Barbara   \n",
       "100003      Nevaeh     Jones      F  Miami-Fort Lauderdale-West Palm Beach   \n",
       "\n",
       "        state    device device_os registration_timestamp  free_account  \\\n",
       "user_id                                                                  \n",
       "10         MS  computer       mac    2018-09-28 20:31:35             0   \n",
       "100        TX  computer   windows    2018-09-26 19:17:35             1   \n",
       "100001     FL  computer       mac    2018-08-18 23:24:26             1   \n",
       "100002     CA  computer   windows    2018-06-25 15:51:29             0   \n",
       "100003     FL  computer   windows    2018-09-19 00:22:24             1   \n",
       "\n",
       "         paid_account  ... song_ratio artist_ratio  nextsong_count  \\\n",
       "user_id                ...                                           \n",
       "10                  1  ...   0.934621     0.839525             673   \n",
       "100                 1  ...   0.858315     0.635720            2682   \n",
       "100001              0  ...   0.969925     0.939850             133   \n",
       "100002              1  ...   0.989744     0.943590             195   \n",
       "100003              0  ...   1.000000     0.980392              51   \n",
       "\n",
       "         likes_count dislike_count  error_count  help_count  likes_ratio  \\\n",
       "user_id                                                                    \n",
       "10                37             4            0           1     0.058824   \n",
       "100              148            27            3          18     0.064292   \n",
       "100001             8             2            1           1     0.062016   \n",
       "100002             5             0            0           0     0.025907   \n",
       "100003             3             0            0           1     0.058824   \n",
       "\n",
       "         dislike_ratio  event_count  \n",
       "user_id                              \n",
       "10            0.006359          795  \n",
       "100           0.011729         3214  \n",
       "100001        0.015504          187  \n",
       "100002        0.000000          218  \n",
       "100003        0.000000           78  \n",
       "\n",
       "[5 rows x 26 columns]"
      ]
     },
     "execution_count": 25,
     "metadata": {},
     "output_type": "execute_result"
    }
   ],
   "source": [
    "df_user.head()"
   ]
  },
  {
   "cell_type": "code",
   "execution_count": 26,
   "metadata": {},
   "outputs": [],
   "source": [
    "def barplot_userfeatures(df,features, hue):\n",
    "    '''Plot barplot for features'''\n",
    "    temp=df[[hue]+features].groupby([hue]).mean().unstack().reset_index()\n",
    "    temp.columns=['features',hue,'value']\n",
    "    \n",
    "    ax=sns.catplot(data=temp,x='features',y='value',hue=hue ,kind=\"bar\", palette=\"Pastel2\", height=3, aspect=2 )\n",
    "    ax.set_axis_labels('','ratio')\n",
    "    ax.set_xticklabels(list(map(lambda x: x.split('_')[0], features)))\n",
    "    ax.legend.set_title('');"
   ]
  },
  {
   "cell_type": "code",
   "execution_count": 27,
   "metadata": {},
   "outputs": [
    {
     "data": {
      "image/png": "[encoded data removed]",
      "text/plain": [
       "<Figure size 706.75x300 with 1 Axes>"
      ]
     },
     "metadata": {},
     "output_type": "display_data"
    }
   ],
   "source": [
    "barplot_userfeatures(df=df_user,features=['likes_ratio', 'dislike_ratio'],hue='churned')"
   ]
  },
  {
   "cell_type": "code",
   "execution_count": 28,
   "metadata": {},
   "outputs": [
    {
     "data": {
      "image/png": "[encoded data removed]",
      "text/plain": [
       "<Figure size 706.75x300 with 1 Axes>"
      ]
     },
     "metadata": {},
     "output_type": "display_data"
    }
   ],
   "source": [
    "barplot_userfeatures(df=df_user,features=['song_ratio', 'artist_ratio'],hue='churned')"
   ]
  },
  {
   "cell_type": "code",
   "execution_count": 29,
   "metadata": {},
   "outputs": [
    {
     "data": {
      "image/png": "[encoded data removed]",
      "text/plain": [
       "<Figure size 706.75x300 with 1 Axes>"
      ]
     },
     "metadata": {},
     "output_type": "display_data"
    }
   ],
   "source": [
    "barplot_userfeatures(df=df_user,features=['session_count', 'error_count'],hue='churned')"
   ]
  },
  {
   "cell_type": "code",
   "execution_count": 30,
   "metadata": {},
   "outputs": [
    {
     "data": {
      "image/png": "[encoded data removed]",
      "text/plain": [
       "<Figure size 737x300 with 1 Axes>"
      ]
     },
     "metadata": {},
     "output_type": "display_data"
    }
   ],
   "source": [
    "barplot_userfeatures(df=df_user,features=['likes_ratio', 'dislike_ratio'],hue='downgraded')"
   ]
  },
  {
   "cell_type": "code",
   "execution_count": 31,
   "metadata": {
    "scrolled": true
   },
   "outputs": [
    {
     "data": {
      "image/png": "[encoded data removed]",
      "text/plain": [
       "<Figure size 737x300 with 1 Axes>"
      ]
     },
     "metadata": {},
     "output_type": "display_data"
    }
   ],
   "source": [
    "barplot_userfeatures(df=df_user,features=['song_ratio', 'artist_ratio'],hue='downgraded')"
   ]
  },
  {
   "cell_type": "code",
   "execution_count": 32,
   "metadata": {
    "scrolled": false
   },
   "outputs": [
    {
     "data": {
      "image/png": "[encoded data removed]",
      "text/plain": [
       "<Figure size 640x480 with 1 Axes>"
      ]
     },
     "metadata": {},
     "output_type": "display_data"
    }
   ],
   "source": [
    "sns.histplot(data=df_user[df_user.churned=='churned'], x='days_till_churned',binwidth=10);"
   ]
  },
  {
   "cell_type": "markdown",
   "metadata": {},
   "source": [
    "# Feature Engineering\n",
    "Once you've familiarized yourself with the data, build out the features you find promising to train your model on. To work with the full dataset, you can follow the following steps.\n",
    "- Write a script to extract the necessary features from the smaller subset of data\n",
    "- Ensure that your script is scalable, using the best practices discussed in Lesson 3\n",
    "- Try your script on the full data set, debugging your script if necessary\n",
    "\n",
    "If you are working in the classroom workspace, you can just extract features based on the small subset of data contained here. Be sure to transfer over this work to the larger dataset when you work on your Spark cluster."
   ]
  },
  {
   "cell_type": "code",
   "execution_count": 33,
   "metadata": {},
   "outputs": [
    {
     "name": "stdout",
     "output_type": "stream",
     "text": [
      "+-------+------------------+\n",
      "|user_id| avg_songs_session|\n",
      "+-------+------------------+\n",
      "| 100010|39.285714285714285|\n",
      "| 200002|              64.5|\n",
      "|    125|               8.0|\n",
      "|     51|             211.1|\n",
      "|    124|145.67857142857142|\n",
      "|      7|21.428571428571427|\n",
      "|     54| 81.17142857142858|\n",
      "|     15|136.71428571428572|\n",
      "|    155|136.66666666666666|\n",
      "| 100014|42.833333333333336|\n",
      "|    132|             120.5|\n",
      "|    154|              28.0|\n",
      "|    101|             179.7|\n",
      "|     11|           40.4375|\n",
      "| 300017|59.540983606557376|\n",
      "|    138|             138.0|\n",
      "|     29| 89.05882352941177|\n",
      "|     69|             125.0|\n",
      "| 100021|              46.0|\n",
      "|     42| 87.14634146341463|\n",
      "+-------+------------------+\n",
      "only showing top 20 rows\n",
      "\n"
     ]
    }
   ],
   "source": [
    "songs_session=event_table.filter(event_table['event']=='NextSong').groupby(['user_id','session_id']).count().orderBy(['user_id','session_id'])\n",
    "songs_session=songs_session.select(['user_id','count']).groupby('user_id').mean('count').withColumnRenamed('avg(count)','avg_songs_session')\n",
    "songs_session.show()"
   ]
  },
  {
   "cell_type": "code",
   "execution_count": 34,
   "metadata": {},
   "outputs": [
    {
     "name": "stdout",
     "output_type": "stream",
     "text": [
      "+-------+--------------------+\n",
      "|user_id|avg_session_time_sec|\n",
      "+-------+--------------------+\n",
      "| 100010|              9269.0|\n",
      "| 200002|             15984.0|\n",
      "|    125|              1774.0|\n",
      "|     51|             52341.4|\n",
      "|    124|   34739.65517241379|\n",
      "|      7|   5258.428571428572|\n",
      "|     54|   19337.37837837838|\n",
      "|     15|             31697.0|\n",
      "|    155|  32914.333333333336|\n",
      "| 100014|  11088.833333333334|\n",
      "|    132|          29937.0625|\n",
      "|    154|              6641.0|\n",
      "|    101|             49054.8|\n",
      "|     11|            9682.625|\n",
      "| 300017|  13999.444444444445|\n",
      "|    138|             33853.6|\n",
      "|     29|   21945.41176470588|\n",
      "|     69|   31601.11111111111|\n",
      "| 100021|             12913.6|\n",
      "|     42|   19773.76595744681|\n",
      "+-------+--------------------+\n",
      "only showing top 20 rows\n",
      "\n"
     ]
    }
   ],
   "source": [
    "session_time=event_table.groupby(['user_id','session_id']).agg((max('event_timestamp').cast('long')-min('event_timestamp').cast('long')).alias('session_time_sec')).orderBy(['user_id','session_id'])\n",
    "session_time=session_time.groupby('user_id').mean('session_time_sec').withColumnRenamed('avg(session_time_sec)','avg_session_time_sec')\n",
    "session_time.show()"
   ]
  },
  {
   "cell_type": "code",
   "execution_count": 35,
   "metadata": {
    "scrolled": true
   },
   "outputs": [
    {
     "name": "stdout",
     "output_type": "stream",
     "text": [
      "+-------+------+----+---------+-------------+----------+------+--------+------------+------------+-------+----------+-------------+--------------+-----------+-------------+----------+-----------+-----------+------------------+--------------------+\n",
      "|user_id|female|male|device_pc|device_mobile|os_windows|os_mac|os_linux|free_account|paid_account|churned|downgraded|session_count|nextsong_count|likes_count|dislike_count|help_count|error_count|event_count| avg_songs_session|avg_session_time_sec|\n",
      "+-------+------+----+---------+-------------+----------+------+--------+------------+------------+-------+----------+-------------+--------------+-----------+-------------+----------+-----------+-----------+------------------+--------------------+\n",
      "| 100010|     1|   0|        0|            1|         0|     1|       0|           1|           0|      0|         0|            7|           275|         17|            5|         2|          0|        381|39.285714285714285|              9269.0|\n",
      "| 200002|     0|   1|        0|            1|         0|     1|       0|           1|           1|      0|         0|            6|           387|         21|            6|         2|          0|        474|              64.5|             15984.0|\n",
      "|    125|     0|   1|        1|            0|         0|     1|       0|           1|           0|      1|         0|            1|             8|          0|            0|         0|          0|         11|               8.0|              1774.0|\n",
      "|     51|     0|   1|        1|            0|         1|     0|       0|           0|           1|      1|         0|           10|          2111|        100|           21|        12|          1|       2464|             211.1|             52341.4|\n",
      "|    124|     1|   0|        1|            0|         0|     1|       0|           0|           1|      0|         0|           29|          4079|        171|           41|        23|          6|       4825|145.67857142857142|   34739.65517241379|\n",
      "+-------+------+----+---------+-------------+----------+------+--------+------------+------------+-------+----------+-------------+--------------+-----------+-------------+----------+-----------+-----------+------------------+--------------------+\n",
      "only showing top 5 rows\n",
      "\n"
     ]
    }
   ],
   "source": [
    "user_table.createOrReplaceTempView(\"user_table\")\n",
    "songs_session.createOrReplaceTempView('song_session')\n",
    "session_time.createOrReplaceTempView('session_time')\n",
    "\n",
    "features=spark.sql(\"\"\"\n",
    "                    SELECT \n",
    "                        INT(u.user_id) as user_id,\n",
    "                        u.female as female,\n",
    "                        u.male as male,\n",
    "                        u.device_pc as device_pc,\n",
    "                        u.device_mobile as device_mobile,\n",
    "                        u.os_windows as os_windows,\n",
    "                        u.os_mac as os_mac,\n",
    "                        u.os_linux as os_linux,\n",
    "                        u.free_account as free_account,\n",
    "                        u.paid_account as paid_account,\n",
    "                        u.churned as churned,\n",
    "                        u.downgraded as downgraded,\n",
    "                        u.session_count as session_count,\n",
    "                        u.nextsong_count as nextsong_count,\n",
    "                        u.likes_count as likes_count,\n",
    "                        u.dislike_count as dislike_count,\n",
    "                        u.help_count as help_count,\n",
    "                        u.error_count as error_count,\n",
    "                        u.event_count as event_count,\n",
    "                        s.avg_songs_session as avg_songs_session,\n",
    "                        t.avg_session_time_sec as avg_session_time_sec\n",
    "                    \n",
    "                    FROM\n",
    "                        (SELECT \n",
    "                            user_id,\n",
    "                            (CASE WHEN gender='F' THEN 1 ELSE 0 END) as female,\n",
    "                            (CASE WHEN gender='M' THEN 1 ELSE 0 END) as male,\n",
    "                            (CASE WHEN device='computer' THEN 1 ELSE 0 END) as device_pc,\n",
    "                            (CASE WHEN device='mobile' THEN 1 ELSE 0 END) as device_mobile,\n",
    "                            (CASE WHEN device_os='windows' THEN 1 ELSE 0 END) as os_windows,\n",
    "                            (CASE WHEN device_os='mac' THEN 1 ELSE 0 END) as os_mac,\n",
    "                            (CASE WHEN device_os='linux' THEN 1 ELSE 0 END) as os_linux,\n",
    "                            free_account,\n",
    "                            paid_account,\n",
    "                            churned,\n",
    "                            downgraded,\n",
    "                            session_count,\n",
    "                            nextsong_count,\n",
    "                            likes_count,\n",
    "                            dislike_count,\n",
    "                            help_count,\n",
    "                            error_count,\n",
    "                            event_count\n",
    "                        FROM user_table) as u\n",
    "                    JOIN (SELECT * FROM song_session) as s\n",
    "                    ON u.user_id=s.user_id\n",
    "                    JOIN (SELECT * FROM session_time) as t\n",
    "                    ON u.user_id=t.user_id\n",
    "                        \"\"\")\n",
    "features.show(5)                        "
   ]
  },
  {
   "cell_type": "code",
   "execution_count": 38,
   "metadata": {},
   "outputs": [
    {
     "name": "stdout",
     "output_type": "stream",
     "text": [
      "root\n",
      " |-- user_id: integer (nullable = true)\n",
      " |-- female: integer (nullable = false)\n",
      " |-- male: integer (nullable = false)\n",
      " |-- device_pc: integer (nullable = false)\n",
      " |-- device_mobile: integer (nullable = false)\n",
      " |-- os_windows: integer (nullable = false)\n",
      " |-- os_mac: integer (nullable = false)\n",
      " |-- os_linux: integer (nullable = false)\n",
      " |-- free_account: integer (nullable = false)\n",
      " |-- paid_account: integer (nullable = false)\n",
      " |-- churned: integer (nullable = true)\n",
      " |-- downgraded: integer (nullable = true)\n",
      " |-- session_count: long (nullable = false)\n",
      " |-- nextsong_count: long (nullable = false)\n",
      " |-- likes_count: long (nullable = false)\n",
      " |-- dislike_count: long (nullable = false)\n",
      " |-- help_count: long (nullable = false)\n",
      " |-- error_count: long (nullable = false)\n",
      " |-- event_count: long (nullable = false)\n",
      " |-- avg_songs_session: double (nullable = true)\n",
      " |-- avg_session_time_sec: double (nullable = true)\n",
      "\n"
     ]
    }
   ],
   "source": [
    "features.printSchema()"
   ]
  },
  {
   "cell_type": "code",
   "execution_count": 39,
   "metadata": {},
   "outputs": [],
   "source": [
    "train, test =features.randomSplit([0.75,0.25], seed=42)"
   ]
  },
  {
   "cell_type": "code",
   "execution_count": 40,
   "metadata": {},
   "outputs": [
    {
     "data": {
      "text/plain": [
       "['user_id',\n",
       " 'female',\n",
       " 'male',\n",
       " 'device_pc',\n",
       " 'device_mobile',\n",
       " 'os_windows',\n",
       " 'os_mac',\n",
       " 'os_linux',\n",
       " 'free_account',\n",
       " 'paid_account',\n",
       " 'downgraded',\n",
       " 'session_count',\n",
       " 'nextsong_count',\n",
       " 'likes_count',\n",
       " 'dislike_count',\n",
       " 'help_count',\n",
       " 'error_count',\n",
       " 'event_count',\n",
       " 'avg_songs_session',\n",
       " 'avg_session_time_sec']"
      ]
     },
     "execution_count": 40,
     "metadata": {},
     "output_type": "execute_result"
    }
   ],
   "source": [
    "feat_cols=features.columns\n",
    "feat_cols.remove('churned')\n",
    "feat_cols"
   ]
  },
  {
   "cell_type": "code",
   "execution_count": 41,
   "metadata": {},
   "outputs": [],
   "source": [
    "vec_ass=VectorAssembler(inputCols=feat_cols,outputCol='feat_columns')"
   ]
  },
  {
   "cell_type": "code",
   "execution_count": 42,
   "metadata": {},
   "outputs": [],
   "source": [
    "norm=Normalizer(inputCol='feat_columns', outputCol='features')"
   ]
  },
  {
   "cell_type": "markdown",
   "metadata": {},
   "source": [
    "# Modeling\n",
    "Split the full dataset into train, test, and validation sets. Test out several of the machine learning methods you learned. Evaluate the accuracy of the various models, tuning parameters as necessary. Determine your winning model based on test accuracy and report results on the validation set. Since the churned users are a fairly small subset, I suggest using F1 score as the metric to optimize."
   ]
  },
  {
   "cell_type": "code",
   "execution_count": 152,
   "metadata": {},
   "outputs": [],
   "source": [
    "eval_summary=pd.DataFrame(data={},index=['accuracy', 'f1-score'])"
   ]
  },
  {
   "cell_type": "markdown",
   "metadata": {},
   "source": [
    "### Logistic Regression Classifier"
   ]
  },
  {
   "cell_type": "code",
   "execution_count": 43,
   "metadata": {},
   "outputs": [],
   "source": [
    "lr=LogisticRegression(maxIter=10,regParam=0.0, elasticNetParam=0, labelCol='churned')"
   ]
  },
  {
   "cell_type": "code",
   "execution_count": 44,
   "metadata": {},
   "outputs": [],
   "source": [
    "lr_pipeline = Pipeline(stages=[vec_ass,norm,lr])"
   ]
  },
  {
   "cell_type": "code",
   "execution_count": 51,
   "metadata": {},
   "outputs": [],
   "source": [
    "lr_paramGrid = ParamGridBuilder()\\\n",
    "    .addGrid(lr.elasticNetParam,[0, 0.5, 1]) \\\n",
    "    .addGrid(lr.regParam,[0.01, 0.1, 0.5, 1.0]) \\\n",
    "    .addGrid(lr.maxIter,[1, 5, 10, 20])\\\n",
    "    .build()\n",
    "#    .addGrid(lr.elasticNetParam,[0, 0.5, 1]) \\\n",
    "#    .addGrid(lr.regParam,[0.01, 0.1, 0.5, 1.0]) \\\n",
    "#    .addGrid(lr.maxIter,[1, 5, 10, 20])\\"
   ]
  },
  {
   "cell_type": "code",
   "execution_count": 46,
   "metadata": {},
   "outputs": [],
   "source": [
    "lr_evaluator=MulticlassClassificationEvaluator(metricName='f1',labelCol='churned')"
   ]
  },
  {
   "cell_type": "code",
   "execution_count": 52,
   "metadata": {},
   "outputs": [],
   "source": [
    "lr_cv = CrossValidator(estimator=lr_pipeline,\n",
    "                          estimatorParamMaps=lr_paramGrid,\n",
    "                          evaluator=lr_evaluator,\n",
    "                          numFolds=3)"
   ]
  },
  {
   "cell_type": "code",
   "execution_count": 53,
   "metadata": {},
   "outputs": [
    {
     "name": "stdout",
     "output_type": "stream",
     "text": [
      "4225.616271018982\n"
     ]
    }
   ],
   "source": [
    "start=time()\n",
    "lr_cvModel = lr_cv.fit(train)\n",
    "end=time()\n",
    "print(f'{end-start}')"
   ]
  },
  {
   "cell_type": "markdown",
   "metadata": {},
   "source": [
    "#### Prediction and Evaluation"
   ]
  },
  {
   "cell_type": "code",
   "execution_count": 168,
   "metadata": {},
   "outputs": [],
   "source": [
    "lr_results=lr_cvModel.transform(test)"
   ]
  },
  {
   "cell_type": "code",
   "execution_count": 169,
   "metadata": {},
   "outputs": [],
   "source": [
    "lr_pred=lr_results.toPandas()\n",
    "lr_pred.to_json('../prediction_results/logistic_regression.json',orient='index')"
   ]
  },
  {
   "cell_type": "code",
   "execution_count": 170,
   "metadata": {},
   "outputs": [],
   "source": [
    "lr_acc=lr_results.filter(lr_results.churned==lr_results.prediction).count()/lr_results.count()"
   ]
  },
  {
   "cell_type": "code",
   "execution_count": 171,
   "metadata": {},
   "outputs": [],
   "source": [
    "lr_f1=lr_evaluator.evaluate(lr_results)"
   ]
  },
  {
   "cell_type": "code",
   "execution_count": 172,
   "metadata": {},
   "outputs": [],
   "source": [
    "eval_summary['logistic regression']= [lr_acc,lr_f1]"
   ]
  },
  {
   "cell_type": "code",
   "execution_count": 173,
   "metadata": {},
   "outputs": [
    {
     "name": "stdout",
     "output_type": "stream",
     "text": [
      "Accuracy of Logistic Regression Classifier =0.6808510638297872\n",
      "F1-Score of Logistic Regression Classifier =0.5515755453810934\n"
     ]
    }
   ],
   "source": [
    "print(f'Accuracy of Logistic Regression Classifier ={lr_acc}')\n",
    "print(f'F1-Score of Logistic Regression Classifier ={lr_eval}')"
   ]
  },
  {
   "cell_type": "markdown",
   "metadata": {},
   "source": [
    "### Gradient Boosted Tree Classifier"
   ]
  },
  {
   "cell_type": "code",
   "execution_count": 54,
   "metadata": {},
   "outputs": [],
   "source": [
    "gbt=GBTClassifier(labelCol='churned')"
   ]
  },
  {
   "cell_type": "code",
   "execution_count": 55,
   "metadata": {},
   "outputs": [],
   "source": [
    "gbt_pipeline=Pipeline(stages=[vec_ass,norm,gbt])"
   ]
  },
  {
   "cell_type": "code",
   "execution_count": 56,
   "metadata": {},
   "outputs": [],
   "source": [
    "gbt_paramGrid = ParamGridBuilder() \\\n",
    "    .addGrid(gbt.stepSize,[0.01, 0.1, 0.5]) \\\n",
    "    .addGrid(gbt.maxIter,[1, 5, 10, 20])\\\n",
    "    .build()"
   ]
  },
  {
   "cell_type": "code",
   "execution_count": 57,
   "metadata": {},
   "outputs": [],
   "source": [
    "gbt_evaluator=MulticlassClassificationEvaluator(metricName='f1',labelCol='churned')"
   ]
  },
  {
   "cell_type": "code",
   "execution_count": 58,
   "metadata": {},
   "outputs": [],
   "source": [
    "gbt_cv = CrossValidator(estimator=gbt_pipeline,\n",
    "                          estimatorParamMaps=gbt_paramGrid,\n",
    "                          evaluator=gbt_evaluator,\n",
    "                          numFolds=3)"
   ]
  },
  {
   "cell_type": "code",
   "execution_count": 59,
   "metadata": {},
   "outputs": [
    {
     "name": "stdout",
     "output_type": "stream",
     "text": [
      "5579.090697526932\n"
     ]
    }
   ],
   "source": [
    "start=time()\n",
    "gbt_cvModel = gbt_cv.fit(train)\n",
    "end=time()\n",
    "print(f'{end-start}')"
   ]
  },
  {
   "cell_type": "markdown",
   "metadata": {},
   "source": [
    "#### Prediction and Evaluation"
   ]
  },
  {
   "cell_type": "code",
   "execution_count": 174,
   "metadata": {},
   "outputs": [],
   "source": [
    "gbt_results=gbt_cvModel.transform(test)"
   ]
  },
  {
   "cell_type": "code",
   "execution_count": 175,
   "metadata": {},
   "outputs": [],
   "source": [
    "gbt_pred=gbt_results.toPandas()\n",
    "gbt_pred.to_json('../prediction_results/gradient_boosted_tree.json',orient='index')"
   ]
  },
  {
   "cell_type": "code",
   "execution_count": 176,
   "metadata": {},
   "outputs": [],
   "source": [
    "gbt_acc=gbt_results.filter(gbt_results.churned==gbt_results.prediction).count()/gbt_results.count()"
   ]
  },
  {
   "cell_type": "code",
   "execution_count": 177,
   "metadata": {},
   "outputs": [],
   "source": [
    "gbt_f1=gbt_evaluator.evaluate(gbt_results)"
   ]
  },
  {
   "cell_type": "code",
   "execution_count": 178,
   "metadata": {},
   "outputs": [],
   "source": [
    "eval_summary['gradient boosted tree']= [gbt_acc,gbt_f1]"
   ]
  },
  {
   "cell_type": "code",
   "execution_count": 179,
   "metadata": {},
   "outputs": [
    {
     "name": "stdout",
     "output_type": "stream",
     "text": [
      "Accuracy of Gradient Boosted Tree Classifier =0.6808510638297872\n",
      "F1-Score of Gradient Boosted Tree Classifier =0.6321355706374652\n"
     ]
    }
   ],
   "source": [
    "print(f'Accuracy of Gradient Boosted Tree Classifier ={gbt_acc}')\n",
    "print(f'F1-Score of Gradient Boosted Tree Classifier ={gbt_f1}')"
   ]
  },
  {
   "cell_type": "markdown",
   "metadata": {},
   "source": [
    "### Naive Bayes Classifier"
   ]
  },
  {
   "cell_type": "code",
   "execution_count": 60,
   "metadata": {},
   "outputs": [],
   "source": [
    "nb=NaiveBayes(labelCol='churned')"
   ]
  },
  {
   "cell_type": "code",
   "execution_count": 61,
   "metadata": {},
   "outputs": [],
   "source": [
    "nb_pipeline=Pipeline(stages=[vec_ass,norm,nb])"
   ]
  },
  {
   "cell_type": "code",
   "execution_count": 62,
   "metadata": {},
   "outputs": [],
   "source": [
    "nb_paramGrid = ParamGridBuilder() \\\n",
    "    .addGrid(nb.smoothing,[0.0, 0.25, 0.5, 0.75, 1.0]) \\\n",
    "    .build()"
   ]
  },
  {
   "cell_type": "code",
   "execution_count": 63,
   "metadata": {},
   "outputs": [],
   "source": [
    "nb_evaluator=MulticlassClassificationEvaluator(metricName='f1',labelCol='churned')"
   ]
  },
  {
   "cell_type": "code",
   "execution_count": 64,
   "metadata": {},
   "outputs": [],
   "source": [
    "nb_cv = CrossValidator(estimator=nb_pipeline,\n",
    "                          estimatorParamMaps=nb_paramGrid,\n",
    "                          evaluator=nb_evaluator,\n",
    "                          numFolds=3)"
   ]
  },
  {
   "cell_type": "code",
   "execution_count": 65,
   "metadata": {},
   "outputs": [
    {
     "name": "stdout",
     "output_type": "stream",
     "text": [
      "843.8836462497711\n"
     ]
    }
   ],
   "source": [
    "start=time()\n",
    "nb_cvModel = nb_cv.fit(train)\n",
    "end=time()\n",
    "print(f'{end-start}')"
   ]
  },
  {
   "cell_type": "markdown",
   "metadata": {},
   "source": [
    "#### Prediction and Evaluation"
   ]
  },
  {
   "cell_type": "code",
   "execution_count": 180,
   "metadata": {},
   "outputs": [],
   "source": [
    "nb_results=nb_cvModel.transform(test)"
   ]
  },
  {
   "cell_type": "code",
   "execution_count": 181,
   "metadata": {},
   "outputs": [],
   "source": [
    "nb_pred=nb_results.toPandas()\n",
    "nb_pred.to_json('../prediction_results/naive_bayes.json',orient='index')"
   ]
  },
  {
   "cell_type": "code",
   "execution_count": 182,
   "metadata": {},
   "outputs": [],
   "source": [
    "nb_acc=nb_results.filter(nb_results.churned==nb_results.prediction).count()/nb_results.count()"
   ]
  },
  {
   "cell_type": "code",
   "execution_count": 183,
   "metadata": {},
   "outputs": [],
   "source": [
    "nb_f1=nb_evaluator.evaluate(nb_results)"
   ]
  },
  {
   "cell_type": "code",
   "execution_count": 184,
   "metadata": {},
   "outputs": [],
   "source": [
    "eval_summary['naive bayes']= [nb_acc,nb_f1]"
   ]
  },
  {
   "cell_type": "code",
   "execution_count": 185,
   "metadata": {},
   "outputs": [
    {
     "name": "stdout",
     "output_type": "stream",
     "text": [
      "Accuracy of Naive Bayes Classifier =0.6808510638297872\n",
      "F1-Score of Naive Bayes Classifier =0.5515755453810934\n"
     ]
    }
   ],
   "source": [
    "print(f'Accuracy of Naive Bayes Classifier ={nb_acc}')\n",
    "print(f'F1-Score of Naive Bayes Classifier ={nb_f1}')"
   ]
  },
  {
   "cell_type": "markdown",
   "metadata": {},
   "source": [
    "### Random Forest Classifier"
   ]
  },
  {
   "cell_type": "code",
   "execution_count": 66,
   "metadata": {},
   "outputs": [],
   "source": [
    "rf=RandomForestClassifier(labelCol='churned')"
   ]
  },
  {
   "cell_type": "code",
   "execution_count": 67,
   "metadata": {},
   "outputs": [],
   "source": [
    "rf_pipeline=Pipeline(stages=[vec_ass,norm,rf])"
   ]
  },
  {
   "cell_type": "code",
   "execution_count": 68,
   "metadata": {},
   "outputs": [],
   "source": [
    "rf_paramGrid = ParamGridBuilder() \\\n",
    "    .addGrid(rf.maxBins,[10, 25, 50, 75, 100]) \\\n",
    "    .addGrid(rf.numTrees,[5, 10, 50, 100, 200]) \\\n",
    "    .addGrid(rf.maxDepth,[2, 5, 10, 20]) \\\n",
    "    .build()"
   ]
  },
  {
   "cell_type": "code",
   "execution_count": 69,
   "metadata": {},
   "outputs": [],
   "source": [
    "rf_evaluator=MulticlassClassificationEvaluator(metricName='f1',labelCol='churned')"
   ]
  },
  {
   "cell_type": "code",
   "execution_count": 70,
   "metadata": {},
   "outputs": [],
   "source": [
    "rf_cv = CrossValidator(estimator=rf_pipeline,\n",
    "                          estimatorParamMaps=rf_paramGrid,\n",
    "                          evaluator=rf_evaluator,\n",
    "                          numFolds=3)"
   ]
  },
  {
   "cell_type": "code",
   "execution_count": 71,
   "metadata": {},
   "outputs": [
    {
     "name": "stdout",
     "output_type": "stream",
     "text": [
      "17131.60556602478\n"
     ]
    }
   ],
   "source": [
    "start=time()\n",
    "rf_cvModel = rf_cv.fit(train)\n",
    "end=time()\n",
    "print(f'{end-start}')"
   ]
  },
  {
   "cell_type": "markdown",
   "metadata": {},
   "source": [
    "#### Prediction and Evaluation"
   ]
  },
  {
   "cell_type": "code",
   "execution_count": 186,
   "metadata": {},
   "outputs": [],
   "source": [
    "rf_results=rf_cvModel.transform(test)"
   ]
  },
  {
   "cell_type": "code",
   "execution_count": 187,
   "metadata": {},
   "outputs": [],
   "source": [
    "rf_pred=rf_results.toPandas()\n",
    "rf_pred.to_json('../prediction_results/random_forest.json',orient='index')"
   ]
  },
  {
   "cell_type": "code",
   "execution_count": 188,
   "metadata": {},
   "outputs": [],
   "source": [
    "rf_acc=rf_results.filter(rf_results.churned==rf_results.prediction).count()/rf_results.count()"
   ]
  },
  {
   "cell_type": "code",
   "execution_count": 189,
   "metadata": {},
   "outputs": [],
   "source": [
    "rf_f1=rf_evaluator.evaluate(rf_results)"
   ]
  },
  {
   "cell_type": "code",
   "execution_count": 190,
   "metadata": {},
   "outputs": [],
   "source": [
    "eval_summary['random forest']= [rf_acc,rf_f1]"
   ]
  },
  {
   "cell_type": "code",
   "execution_count": 191,
   "metadata": {
    "scrolled": true
   },
   "outputs": [
    {
     "name": "stdout",
     "output_type": "stream",
     "text": [
      "Accuracy of Random Forest Classifier =0.7446808510638298\n",
      "F1-Score of Random Forest Classifier =0.6797312430011199\n"
     ]
    }
   ],
   "source": [
    "print(f'Accuracy of Random Forest Classifier ={rf_acc}')\n",
    "print(f'F1-Score of Random Forest Classifier ={rf_f1}')"
   ]
  },
  {
   "cell_type": "markdown",
   "metadata": {},
   "source": [
    "### Summary"
   ]
  },
  {
   "cell_type": "code",
   "execution_count": 192,
   "metadata": {},
   "outputs": [
    {
     "data": {
      "text/html": [
       "<div>\n",
       "<style scoped>\n",
       "    .dataframe tbody tr th:only-of-type {\n",
       "        vertical-align: middle;\n",
       "    }\n",
       "\n",
       "    .dataframe tbody tr th {\n",
       "        vertical-align: top;\n",
       "    }\n",
       "\n",
       "    .dataframe thead th {\n",
       "        text-align: right;\n",
       "    }\n",
       "</style>\n",
       "<table border=\"1\" class=\"dataframe\">\n",
       "  <thead>\n",
       "    <tr style=\"text-align: right;\">\n",
       "      <th></th>\n",
       "      <th>classifier</th>\n",
       "      <th>score</th>\n",
       "      <th>value</th>\n",
       "    </tr>\n",
       "  </thead>\n",
       "  <tbody>\n",
       "    <tr>\n",
       "      <th>0</th>\n",
       "      <td>logistic regression</td>\n",
       "      <td>accuracy</td>\n",
       "      <td>0.680851</td>\n",
       "    </tr>\n",
       "    <tr>\n",
       "      <th>1</th>\n",
       "      <td>logistic regression</td>\n",
       "      <td>f1-score</td>\n",
       "      <td>0.551576</td>\n",
       "    </tr>\n",
       "    <tr>\n",
       "      <th>2</th>\n",
       "      <td>gradient boosted tree</td>\n",
       "      <td>accuracy</td>\n",
       "      <td>0.680851</td>\n",
       "    </tr>\n",
       "    <tr>\n",
       "      <th>3</th>\n",
       "      <td>gradient boosted tree</td>\n",
       "      <td>f1-score</td>\n",
       "      <td>0.632136</td>\n",
       "    </tr>\n",
       "    <tr>\n",
       "      <th>4</th>\n",
       "      <td>naive bayes</td>\n",
       "      <td>accuracy</td>\n",
       "      <td>0.680851</td>\n",
       "    </tr>\n",
       "    <tr>\n",
       "      <th>5</th>\n",
       "      <td>naive bayes</td>\n",
       "      <td>f1-score</td>\n",
       "      <td>0.551576</td>\n",
       "    </tr>\n",
       "    <tr>\n",
       "      <th>6</th>\n",
       "      <td>random forest</td>\n",
       "      <td>accuracy</td>\n",
       "      <td>0.744681</td>\n",
       "    </tr>\n",
       "    <tr>\n",
       "      <th>7</th>\n",
       "      <td>random forest</td>\n",
       "      <td>f1-score</td>\n",
       "      <td>0.679731</td>\n",
       "    </tr>\n",
       "  </tbody>\n",
       "</table>\n",
       "</div>"
      ],
      "text/plain": [
       "              classifier     score     value\n",
       "0    logistic regression  accuracy  0.680851\n",
       "1    logistic regression  f1-score  0.551576\n",
       "2  gradient boosted tree  accuracy  0.680851\n",
       "3  gradient boosted tree  f1-score  0.632136\n",
       "4            naive bayes  accuracy  0.680851\n",
       "5            naive bayes  f1-score  0.551576\n",
       "6          random forest  accuracy  0.744681\n",
       "7          random forest  f1-score  0.679731"
      ]
     },
     "execution_count": 192,
     "metadata": {},
     "output_type": "execute_result"
    }
   ],
   "source": [
    "summary=eval_summary.unstack().reset_index()\n",
    "summary.columns=['classifier','score', 'value']\n",
    "summary"
   ]
  },
  {
   "cell_type": "code",
   "execution_count": 193,
   "metadata": {},
   "outputs": [
    {
     "data": {
      "image/png": "[encoded data removed]",
      "text/plain": [
       "<Figure size 1000x500 with 1 Axes>"
      ]
     },
     "metadata": {},
     "output_type": "display_data"
    }
   ],
   "source": [
    "plt.figure( figsize=[10,5])\n",
    "ax=sns.barplot(data=summary,hue='classifier',y='value',x='score',palette='Pastel1');\n",
    "ax.set_xticklabels(ax.get_xticklabels(), fontsize=8)\n",
    "plt.xlabel('Weekdays')\n",
    "plt.ylabel('Number of Churns');"
   ]
  },
  {
   "cell_type": "code",
   "execution_count": null,
   "metadata": {},
   "outputs": [],
   "source": []
  },
  {
   "cell_type": "markdown",
   "metadata": {},
   "source": [
    "# Final Steps\n",
    "Clean up your code, adding comments and renaming variables to make the code easier to read and maintain. Refer to the Spark Project Overview page and Data Scientist Capstone Project Rubric to make sure you are including all components of the capstone project and meet all expectations. Remember, this includes thorough documentation in a README file in a Github repository, as well as a web app or blog post."
   ]
  },
  {
   "cell_type": "code",
   "execution_count": null,
   "metadata": {},
   "outputs": [],
   "source": []
  },
  {
   "cell_type": "code",
   "execution_count": null,
   "metadata": {},
   "outputs": [],
   "source": [
    "#spark.stop()"
   ]
  }
 ],
 "metadata": {
  "kernelspec": {
   "display_name": "Python 3 (ipykernel)",
   "language": "python",
   "name": "python3"
  },
  "language_info": {
   "codemirror_mode": {
    "name": "ipython",
    "version": 3
   },
   "file_extension": ".py",
   "mimetype": "text/x-python",
   "name": "python",
   "nbconvert_exporter": "python",
   "pygments_lexer": "ipython3",
   "version": "3.11.3"
  }
 },
 "nbformat": 4,
 "nbformat_minor": 2
}
