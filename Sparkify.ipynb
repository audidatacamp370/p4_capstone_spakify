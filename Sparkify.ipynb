{
 "cells": [
  {
   "cell_type": "markdown",
   "metadata": {},
   "source": [
    "# Sparkify Project Workspace\n",
    "This workspace contains a tiny subset (128MB) of the full dataset available (12GB). Feel free to use this workspace to build your project, or to explore a smaller subset with Spark before deploying your cluster on the cloud. Instructions for setting up your Spark cluster is included in the last lesson of the Extracurricular Spark Course content.\n",
    "\n",
    "You can follow the steps below to guide your data analysis and model building portion of this project."
   ]
  },
  {
   "cell_type": "code",
   "execution_count": 1,
   "metadata": {},
   "outputs": [],
   "source": [
    "# import libraries\n",
    "from pyspark.sql import SparkSession\n",
    "from pyspark.sql.functions import avg, col, sum, concat, desc, desc, asc, explode, lit, min, max, split, udf, lit, when, lower\n",
    "from pyspark.sql.functions import to_timestamp, year, month, dayofmonth, hour, weekofyear, date_format\n",
    "from pyspark.sql.types import IntegerType, StringType\n",
    "\n",
    "from pyspark.ml import Pipeline\n",
    "from pyspark.ml.classification import LogisticRegression\n",
    "from pyspark.ml.evaluation import MulticlassClassificationEvaluator\n",
    "from pyspark.ml.feature import CountVectorizer, IDF, Normalizer, PCA, RegexTokenizer, StandardScaler, StopWordsRemover, StringIndexer, VectorAssembler\n",
    "from pyspark.ml.regression import LinearRegression\n",
    "from pyspark.ml.tuning import CrossValidator, ParamGridBuilder\n",
    "\n",
    "import seaborn as sns\n",
    "import matplotlib.pyplot as plt\n",
    "import re\n",
    "import datetime"
   ]
  },
  {
   "cell_type": "code",
   "execution_count": 2,
   "metadata": {},
   "outputs": [],
   "source": [
    "# create a Spark session\n",
    "\n",
    "spark = SparkSession.builder \\\n",
    "    .appName(\"Sparkify\") \\\n",
    "    .getOrCreate()"
   ]
  },
  {
   "cell_type": "code",
   "execution_count": 3,
   "metadata": {},
   "outputs": [
    {
     "data": {
      "text/html": [
       "\n",
       "            <div>\n",
       "                <p><b>SparkSession - in-memory</b></p>\n",
       "                \n",
       "        <div>\n",
       "            <p><b>SparkContext</b></p>\n",
       "\n",
       "            <p><a href=\"http://Thomas-Surface:4041\">Spark UI</a></p>\n",
       "\n",
       "            <dl>\n",
       "              <dt>Version</dt>\n",
       "                <dd><code>v3.4.1</code></dd>\n",
       "              <dt>Master</dt>\n",
       "                <dd><code>local[*]</code></dd>\n",
       "              <dt>AppName</dt>\n",
       "                <dd><code>Sparkify</code></dd>\n",
       "            </dl>\n",
       "        </div>\n",
       "        \n",
       "            </div>\n",
       "        "
      ],
      "text/plain": [
       "<pyspark.sql.session.SparkSession at 0x1f18ee12ed0>"
      ]
     },
     "execution_count": 3,
     "metadata": {},
     "output_type": "execute_result"
    }
   ],
   "source": [
    "spark"
   ]
  },
  {
   "cell_type": "code",
   "execution_count": 4,
   "metadata": {},
   "outputs": [
    {
     "data": {
      "text/html": [
       "<style>.container { width:90% !important; }</style>"
      ],
      "text/plain": [
       "<IPython.core.display.HTML object>"
      ]
     },
     "metadata": {},
     "output_type": "display_data"
    },
    {
     "data": {
      "text/html": [
       "<style>pre { white-space: pre !important; }</style>"
      ],
      "text/plain": [
       "<IPython.core.display.HTML object>"
      ]
     },
     "metadata": {},
     "output_type": "display_data"
    }
   ],
   "source": [
    "#for better visibility using jupyter notebook\n",
    "from IPython.display import display, HTML\n",
    "display(HTML(\"<style>.container { width:90% !important; }</style>\"))\n",
    "display(HTML(\"<style>pre { white-space: pre !important; }</style>\"))"
   ]
  },
  {
   "cell_type": "markdown",
   "metadata": {},
   "source": [
    "# Load and Clean Dataset\n",
    "In this workspace, the mini-dataset file is `mini_sparkify_event_data.json`. Load and clean the dataset, checking for invalid or missing data - for example, records without userids or sessionids. "
   ]
  },
  {
   "cell_type": "code",
   "execution_count": 5,
   "metadata": {},
   "outputs": [],
   "source": [
    "df = spark.read.json('../data/mini_sparkify_event_data.json')"
   ]
  },
  {
   "cell_type": "code",
   "execution_count": 6,
   "metadata": {},
   "outputs": [
    {
     "data": {
      "text/plain": [
       "[Row(artist='Martha Tilston', auth='Logged In', firstName='Colin', gender='M', itemInSession=50, lastName='Freeman', length=277.89016, level='paid', location='Bakersfield, CA', method='PUT', page='NextSong', registration=1538173362000, sessionId=29, song='Rockpools', status=200, ts=1538352117000, userAgent='Mozilla/5.0 (Windows NT 6.1; WOW64; rv:31.0) Gecko/20100101 Firefox/31.0', userId='30'),\n",
       " Row(artist='Five Iron Frenzy', auth='Logged In', firstName='Micah', gender='M', itemInSession=79, lastName='Long', length=236.09424, level='free', location='Boston-Cambridge-Newton, MA-NH', method='PUT', page='NextSong', registration=1538331630000, sessionId=8, song='Canada', status=200, ts=1538352180000, userAgent='\"Mozilla/5.0 (Windows NT 6.1; WOW64) AppleWebKit/537.36 (KHTML, like Gecko) Chrome/37.0.2062.103 Safari/537.36\"', userId='9')]"
      ]
     },
     "execution_count": 6,
     "metadata": {},
     "output_type": "execute_result"
    }
   ],
   "source": [
    "df.head(2)"
   ]
  },
  {
   "cell_type": "code",
   "execution_count": 7,
   "metadata": {},
   "outputs": [
    {
     "name": "stdout",
     "output_type": "stream",
     "text": [
      "root\n",
      " |-- artist: string (nullable = true)\n",
      " |-- auth: string (nullable = true)\n",
      " |-- firstName: string (nullable = true)\n",
      " |-- gender: string (nullable = true)\n",
      " |-- itemInSession: long (nullable = true)\n",
      " |-- lastName: string (nullable = true)\n",
      " |-- length: double (nullable = true)\n",
      " |-- level: string (nullable = true)\n",
      " |-- location: string (nullable = true)\n",
      " |-- method: string (nullable = true)\n",
      " |-- page: string (nullable = true)\n",
      " |-- registration: long (nullable = true)\n",
      " |-- sessionId: long (nullable = true)\n",
      " |-- song: string (nullable = true)\n",
      " |-- status: long (nullable = true)\n",
      " |-- ts: long (nullable = true)\n",
      " |-- userAgent: string (nullable = true)\n",
      " |-- userId: string (nullable = true)\n",
      "\n"
     ]
    }
   ],
   "source": [
    "df.printSchema()"
   ]
  },
  {
   "cell_type": "code",
   "execution_count": 8,
   "metadata": {
    "scrolled": false
   },
   "outputs": [
    {
     "name": "stdout",
     "output_type": "stream",
     "text": [
      "-RECORD 0---------------\n",
      " summary       | count  \n",
      " artist        | 228108 \n",
      " auth          | 286500 \n",
      " firstName     | 278154 \n",
      " gender        | 278154 \n",
      " itemInSession | 286500 \n",
      " lastName      | 278154 \n",
      " length        | 228108 \n",
      " level         | 286500 \n",
      " location      | 278154 \n",
      " method        | 286500 \n",
      " page          | 286500 \n",
      " registration  | 278154 \n",
      " sessionId     | 286500 \n",
      " song          | 228108 \n",
      " status        | 286500 \n",
      " ts            | 286500 \n",
      " userAgent     | 278154 \n",
      " userId        | 286500 \n",
      "only showing top 1 row\n",
      "\n"
     ]
    }
   ],
   "source": [
    "df.describe().show(1,vertical=True)"
   ]
  },
  {
   "cell_type": "code",
   "execution_count": 9,
   "metadata": {
    "scrolled": true
   },
   "outputs": [
    {
     "data": {
      "text/plain": [
       "286500"
      ]
     },
     "execution_count": 9,
     "metadata": {},
     "output_type": "execute_result"
    }
   ],
   "source": [
    "df.distinct().count()"
   ]
  },
  {
   "cell_type": "code",
   "execution_count": 10,
   "metadata": {},
   "outputs": [
    {
     "name": "stdout",
     "output_type": "stream",
     "text": [
      "+--------------------+\n",
      "|                page|\n",
      "+--------------------+\n",
      "|              Cancel|\n",
      "|    Submit Downgrade|\n",
      "|         Thumbs Down|\n",
      "|                Home|\n",
      "|           Downgrade|\n",
      "|         Roll Advert|\n",
      "|              Logout|\n",
      "|       Save Settings|\n",
      "|Cancellation Conf...|\n",
      "|               About|\n",
      "|            Settings|\n",
      "|               Login|\n",
      "|     Add to Playlist|\n",
      "|          Add Friend|\n",
      "|            NextSong|\n",
      "|           Thumbs Up|\n",
      "|                Help|\n",
      "|             Upgrade|\n",
      "|               Error|\n",
      "|      Submit Upgrade|\n",
      "+--------------------+\n",
      "only showing top 20 rows\n",
      "\n"
     ]
    }
   ],
   "source": [
    "df.select('page').distinct().show()"
   ]
  },
  {
   "cell_type": "code",
   "execution_count": 23,
   "metadata": {},
   "outputs": [],
   "source": [
    "def clean_df(spark, df=df):\n",
    "    '''\n",
    "    cleaning database\n",
    "    : INPUT\n",
    "    spark - spark session\n",
    "    df - dataframe\n",
    "    :OUTPUT\n",
    "    df- cleaned Dataframe\n",
    "    '''\n",
    "    \n",
    "    #filter empty values in userId\n",
    "    df=df.filter(df.userId != '')\n",
    "    \n",
    "    # create new columns with iso timestamp using ts and registration columns\n",
    "    df=df.withColumn('event_timestamp', to_timestamp(df['ts']/1000))\n",
    "    df=df.withColumn('registration_timestamp', to_timestamp(df['registration']/1000))\n",
    "    \n",
    "    # create new columns for device and device_os using userAgent column\n",
    "    df=df.withColumn('device', \n",
    "                      when(lower(df.userAgent).contains('windows'), lit('computer'))\n",
    "                      .when(lower(df.userAgent).contains('macintosh'), lit('computer'))\n",
    "                      .when(lower(df.userAgent).contains('linux'), lit('computer'))\n",
    "                      .when(lower(df.userAgent).contains('mobile'), lit('mobile'))\n",
    "                      .otherwise(lit('other')) )\n",
    "\n",
    "    df=df.withColumn('device_os', \n",
    "                      when(lower(df.userAgent).contains('windows'), lit('windows'))\n",
    "                      .when(lower(df.userAgent).contains('mac'), lit('mac'))\n",
    "                      .when(lower(df.userAgent).contains('linux'), lit('linux'))\n",
    "                      .otherwise(lit('other')) )\n",
    "    \n",
    "    #split lacation into seperate city and state columns\n",
    "    df=df.withColumn('city', split(df['location'],',').getItem(0))\n",
    "    df=df.withColumn('state', split(df['location'],',').getItem(1))\n",
    "    \n",
    "    # create churn_event and downgrade_event columns from page columns\n",
    "    df=df.withColumn('churn_event', \n",
    "                      when(df.page.contains('Cancellation Confirmation'), lit(1))\n",
    "                      .otherwise(lit(0)) )\n",
    "    df=df.withColumn('downgrade_event', \n",
    "                      when(df.page.contains('Submit Downgrade'), lit(1))\n",
    "                      .otherwise(lit(0)) )\n",
    "    \n",
    "    return df\n",
    "\n",
    "df=clean_df(spark, df)"
   ]
  },
  {
   "cell_type": "code",
   "execution_count": 25,
   "metadata": {},
   "outputs": [
    {
     "name": "stdout",
     "output_type": "stream",
     "text": [
      "+----------------+---------+---------+------+-------------+--------+---------+-----+--------------------+------+--------+-------------+---------+--------------------+------+-------------+--------------------+------+-------------------+----------------------+--------+---------+--------------------+------+-----+---------+-----------+---------------+\n",
      "|          artist|     auth|firstName|gender|itemInSession|lastName|   length|level|            location|method|    page| registration|sessionId|                song|status|           ts|           userAgent|userId|    event_timestamp|registration_timestamp|  device|device_os|                city| state|churn|downgrade|churn_event|downgrade_event|\n",
      "+----------------+---------+---------+------+-------------+--------+---------+-----+--------------------+------+--------+-------------+---------+--------------------+------+-------------+--------------------+------+-------------------+----------------------+--------+---------+--------------------+------+-----+---------+-----------+---------------+\n",
      "|  Martha Tilston|Logged In|    Colin|     M|           50| Freeman|277.89016| paid|     Bakersfield, CA|   PUT|NextSong|1538173362000|       29|           Rockpools|   200|1538352117000|Mozilla/5.0 (Wind...|    30|2018-10-01 02:01:57|   2018-09-29 00:22:42|computer|  windows|         Bakersfield|    CA|    0|        0|          0|              0|\n",
      "|Five Iron Frenzy|Logged In|    Micah|     M|           79|    Long|236.09424| free|Boston-Cambridge-...|   PUT|NextSong|1538331630000|        8|              Canada|   200|1538352180000|\"Mozilla/5.0 (Win...|     9|2018-10-01 02:03:00|   2018-09-30 20:20:30|computer|  windows|Boston-Cambridge-...| MA-NH|    0|        0|          0|              0|\n",
      "|    Adam Lambert|Logged In|    Colin|     M|           51| Freeman| 282.8273| paid|     Bakersfield, CA|   PUT|NextSong|1538173362000|       29|   Time For Miracles|   200|1538352394000|Mozilla/5.0 (Wind...|    30|2018-10-01 02:06:34|   2018-09-29 00:22:42|computer|  windows|         Bakersfield|    CA|    0|        0|          0|              0|\n",
      "|          Enigma|Logged In|    Micah|     M|           80|    Long|262.71302| free|Boston-Cambridge-...|   PUT|NextSong|1538331630000|        8|Knocking On Forbi...|   200|1538352416000|\"Mozilla/5.0 (Win...|     9|2018-10-01 02:06:56|   2018-09-30 20:20:30|computer|  windows|Boston-Cambridge-...| MA-NH|    0|        0|          0|              0|\n",
      "|       Daft Punk|Logged In|    Colin|     M|           52| Freeman|223.60771| paid|     Bakersfield, CA|   PUT|NextSong|1538173362000|       29|Harder Better Fas...|   200|1538352676000|Mozilla/5.0 (Wind...|    30|2018-10-01 02:11:16|   2018-09-29 00:22:42|computer|  windows|         Bakersfield|    CA|    0|        0|          0|              0|\n",
      "+----------------+---------+---------+------+-------------+--------+---------+-----+--------------------+------+--------+-------------+---------+--------------------+------+-------------+--------------------+------+-------------------+----------------------+--------+---------+--------------------+------+-----+---------+-----------+---------------+\n",
      "only showing top 5 rows\n",
      "\n"
     ]
    }
   ],
   "source": [
    "df.show(5)"
   ]
  },
  {
   "cell_type": "markdown",
   "metadata": {},
   "source": [
    "# Exploratory Data Analysis\n",
    "When you're working with the full dataset, perform EDA by loading a small subset of the data and doing basic manipulations within Spark. In this workspace, you are already provided a small subset of data you can explore.\n",
    "\n",
    "### Define Churn\n",
    "\n",
    "Once you've done some preliminary analysis, create a column `Churn` to use as the label for your model. I suggest using the `Cancellation Confirmation` events to define your churn, which happen for both paid and free users. As a bonus task, you can also look into the `Downgrade` events.\n",
    "\n",
    "### Explore Data\n",
    "Once you've defined churn, perform some exploratory data analysis to observe the behavior for users who stayed vs users who churned. You can start by exploring aggregates on these two groups of users, observing how much of a specific action they experienced per a certain time unit or number of songs played."
   ]
  },
  {
   "cell_type": "code",
   "execution_count": 125,
   "metadata": {
    "scrolled": true
   },
   "outputs": [
    {
     "name": "stdout",
     "output_type": "stream",
     "text": [
      "+-------+----------+---------+------+--------------------+---------+--------+---------+----------------------+-------+----------+-------------+------------------+------------------+--------------+-------------------+--------------------+-----------+-----------+\n",
      "|user_id|first_name|last_name|gender|                city|    state|  device|device_os|registration_timestamp|churned|downgraded|session_count|        song_ratio|      artist_ratio|nextsong_count|        likes_ratio|       dislike_ratio|error_count|event_count|\n",
      "+-------+----------+---------+------+--------------------+---------+--------+---------+----------------------+-------+----------+-------------+------------------+------------------+--------------+-------------------+--------------------+-----------+-----------+\n",
      "| 100010|  Darianna|Carpenter|     F|Bridgeport-Stamfo...|       CT|  mobile|      mac|   2018-09-27 04:45:40|      0|         0|            7|0.9781818181818182|0.9163636363636364|           275|0.06319702602230483| 0.01858736059479554|          0|        381|\n",
      "| 200002|   Dominic|   Torres|     M|Chicago-Napervill...| IL-IN-WI|  mobile|      mac|   2018-09-06 23:38:26|      0|         0|            6|0.9767441860465116| 0.875968992248062|           387|0.05555555555555555|0.015873015873015872|          0|        474|\n",
      "|    125|     Mason|     Hart|     M|      Corpus Christi|       TX|computer|      mac|   2018-08-01 22:58:59|      1|         0|            1|               1.0|               1.0|             8|                0.0|                 0.0|          0|         11|\n",
      "|     51|     Ethan|  Johnson|     M|   Lexington-Fayette|       KY|computer|  windows|   2018-09-27 22:43:07|      1|         0|           10|0.8782567503552818|0.6560871624822359|          2111|0.05393743257820928|0.011326860841423949|          1|       2464|\n",
      "|    124|    Nicole|     Beck|     F|  Vineland-Bridgeton|       NJ|computer|      mac|   2018-07-22 03:52:15|      0|         0|           29|0.8185829860259868|0.5471929394459426|          4079|0.05121293800539083|0.012279125486672657|          6|       4825|\n",
      "+-------+----------+---------+------+--------------------+---------+--------+---------+----------------------+-------+----------+-------------+------------------+------------------+--------------+-------------------+--------------------+-----------+-----------+\n",
      "only showing top 5 rows\n",
      "\n"
     ]
    }
   ],
   "source": [
    "df.createOrReplaceTempView(\"events\")\n",
    "user_table = spark.sql(\"\"\"\n",
    "                        SELECT \n",
    "                            u.userId as user_id, \n",
    "                            u.firstName as first_name, \n",
    "                            u.lastName as last_name, \n",
    "                            u.gender as gender, \n",
    "                            u.city as city,\n",
    "                            u.state as state,\n",
    "                            u.device as device,\n",
    "                            u.device_os as device_os,\n",
    "                            u.registration_timestamp as registration_timestamp,\n",
    "                            p.churned as churned,\n",
    "                            p.downgraded as downgraded,\n",
    "                            p.session_count as session_count,\n",
    "                            (p.song_count/p.nextsong_count) as song_ratio,\n",
    "                            (p.artist_count/p.nextsong_count) as artist_ratio,\n",
    "                            p.nextsong_count as nextsong_count,\n",
    "                            (p.likes_count/p.song_count) as likes_ratio,\n",
    "                            (p.dislike_count/p.song_count) as dislike_ratio,\n",
    "                            p.error_count as error_count,\n",
    "                            p.event_count as event_count\n",
    "                        FROM (SELECT DISTINCT\n",
    "                                    userId , \n",
    "                                    firstName, \n",
    "                                    lastName, \n",
    "                                    gender, \n",
    "                                    location,\n",
    "                                    city,\n",
    "                                    state,\n",
    "                                    userAgent,\n",
    "                                    device,\n",
    "                                    device_os ,\n",
    "                                    registration ,\n",
    "                                    registration_timestamp \n",
    "                                FROM events) AS u\n",
    "                        JOIN (SELECT DISTINCT\n",
    "                                    userId, \n",
    "                                    MAX(churn_event) as churned,\n",
    "                                    MAX(downgrade_event) as downgraded,\n",
    "                                    COUNT(DISTINCT sessionId) as session_count,\n",
    "                                    COUNT(DISTINCT song) as song_count,\n",
    "                                    COUNT(DISTINCT artist) as artist_count,\n",
    "                                    COUNT(CASE WHEN page='NextSong' THEN 1 ELSE NULL END) as nextsong_count,\n",
    "                                    COUNT(CASE WHEN page=='Thumbs Up' THEN 1 ELSE NULL END) as likes_count,\n",
    "                                    COUNT(CASE WHEN page=='Thumbs Down' THEN 1 ELSE NULL END) as dislike_count,\n",
    "                                    COUNT(CASE WHEN page=='Error' THEN 1 ELSE NULL END) as error_count,\n",
    "                                    COUNT(*) as event_count\n",
    "                                FROM events GROUP BY userId) AS p\n",
    "                        ON u.userId=p.userId\n",
    "                        \"\"\")\n",
    "\n",
    "user_table.show(5)"
   ]
  },
  {
   "cell_type": "code",
   "execution_count": 47,
   "metadata": {
    "scrolled": false
   },
   "outputs": [
    {
     "name": "stdout",
     "output_type": "stream",
     "text": [
      "+-------+----------+---------------+--------+---------+-----+--------------------+-------------------+-----------+---------------+\n",
      "|user_id|session_id|item_in_session|   event|     auth|level|event_timestamp_unix|    event_timestamp|churn_event|downgrade_event|\n",
      "+-------+----------+---------------+--------+---------+-----+--------------------+-------------------+-----------+---------------+\n",
      "| 100002|       198|              0|NextSong|Logged In| paid|       1543799476000|2018-12-03 02:11:16|          0|              0|\n",
      "| 200008|       408|            133|NextSong|Logged In| paid|       1543622579000|2018-12-01 01:02:59|          0|              0|\n",
      "|    152|      2409|             37|NextSong|Logged In| paid|       1543622432000|2018-12-01 01:00:32|          0|              0|\n",
      "| 300011|       500|             45|NextSong|Logged In| paid|       1543622411000|2018-12-01 01:00:11|          0|              0|\n",
      "| 300011|       500|             44|   About|Logged In| paid|       1543622398000|2018-12-01 00:59:58|          0|              0|\n",
      "+-------+----------+---------------+--------+---------+-----+--------------------+-------------------+-----------+---------------+\n",
      "only showing top 5 rows\n",
      "\n"
     ]
    }
   ],
   "source": [
    "df.createOrReplaceTempView(\"events\")\n",
    "event_table = spark.sql(\"\"\"\n",
    "                    SELECT DISTINCT\n",
    "                        userId as user_id,\n",
    "                        sessionId as session_id,\n",
    "                        itemInSession as item_in_session,\n",
    "                        page as event,\n",
    "                        auth,\n",
    "                        level,\n",
    "                        ts as event_timestamp_unix,\n",
    "                        event_timestamp,\n",
    "                        churn_event,\n",
    "                        downgrade_event\n",
    "                    FROM events\n",
    "                    ORDER BY event_timestamp_unix DESC\n",
    "                \"\"\") \n",
    "event_table.show(5)"
   ]
  },
  {
   "cell_type": "code",
   "execution_count": 134,
   "metadata": {
    "scrolled": false
   },
   "outputs": [
    {
     "name": "stderr",
     "output_type": "stream",
     "text": [
      "C:\\Users\\thoma\\anaconda3\\Lib\\site-packages\\pyspark\\sql\\pandas\\conversion.py:251: FutureWarning: Passing unit-less datetime64 dtype to .astype is deprecated and will raise in a future version. Pass 'datetime64[ns]' instead\n",
      "  series = series.astype(t, copy=False)\n"
     ]
    },
    {
     "data": {
      "text/html": [
       "<div>\n",
       "<style scoped>\n",
       "    .dataframe tbody tr th:only-of-type {\n",
       "        vertical-align: middle;\n",
       "    }\n",
       "\n",
       "    .dataframe tbody tr th {\n",
       "        vertical-align: top;\n",
       "    }\n",
       "\n",
       "    .dataframe thead th {\n",
       "        text-align: right;\n",
       "    }\n",
       "</style>\n",
       "<table border=\"1\" class=\"dataframe\">\n",
       "  <thead>\n",
       "    <tr style=\"text-align: right;\">\n",
       "      <th></th>\n",
       "      <th>first_name</th>\n",
       "      <th>last_name</th>\n",
       "      <th>gender</th>\n",
       "      <th>city</th>\n",
       "      <th>state</th>\n",
       "      <th>device</th>\n",
       "      <th>device_os</th>\n",
       "      <th>registration_timestamp</th>\n",
       "      <th>churned</th>\n",
       "      <th>downgraded</th>\n",
       "      <th>session_count</th>\n",
       "      <th>song_ratio</th>\n",
       "      <th>artist_ratio</th>\n",
       "      <th>nextsong_count</th>\n",
       "      <th>likes_ratio</th>\n",
       "      <th>dislike_ratio</th>\n",
       "      <th>error_count</th>\n",
       "      <th>event_count</th>\n",
       "    </tr>\n",
       "    <tr>\n",
       "      <th>user_id</th>\n",
       "      <th></th>\n",
       "      <th></th>\n",
       "      <th></th>\n",
       "      <th></th>\n",
       "      <th></th>\n",
       "      <th></th>\n",
       "      <th></th>\n",
       "      <th></th>\n",
       "      <th></th>\n",
       "      <th></th>\n",
       "      <th></th>\n",
       "      <th></th>\n",
       "      <th></th>\n",
       "      <th></th>\n",
       "      <th></th>\n",
       "      <th></th>\n",
       "      <th></th>\n",
       "      <th></th>\n",
       "    </tr>\n",
       "  </thead>\n",
       "  <tbody>\n",
       "    <tr>\n",
       "      <th>100010</th>\n",
       "      <td>Darianna</td>\n",
       "      <td>Carpenter</td>\n",
       "      <td>F</td>\n",
       "      <td>Bridgeport-Stamford-Norwalk</td>\n",
       "      <td>CT</td>\n",
       "      <td>mobile</td>\n",
       "      <td>mac</td>\n",
       "      <td>2018-09-27 04:45:40</td>\n",
       "      <td>stayed</td>\n",
       "      <td>kept level</td>\n",
       "      <td>7</td>\n",
       "      <td>0.978182</td>\n",
       "      <td>0.916364</td>\n",
       "      <td>275</td>\n",
       "      <td>0.063197</td>\n",
       "      <td>0.018587</td>\n",
       "      <td>0</td>\n",
       "      <td>381</td>\n",
       "    </tr>\n",
       "    <tr>\n",
       "      <th>200002</th>\n",
       "      <td>Dominic</td>\n",
       "      <td>Torres</td>\n",
       "      <td>M</td>\n",
       "      <td>Chicago-Naperville-Elgin</td>\n",
       "      <td>IL-IN-WI</td>\n",
       "      <td>mobile</td>\n",
       "      <td>mac</td>\n",
       "      <td>2018-09-06 23:38:26</td>\n",
       "      <td>stayed</td>\n",
       "      <td>kept level</td>\n",
       "      <td>6</td>\n",
       "      <td>0.976744</td>\n",
       "      <td>0.875969</td>\n",
       "      <td>387</td>\n",
       "      <td>0.055556</td>\n",
       "      <td>0.015873</td>\n",
       "      <td>0</td>\n",
       "      <td>474</td>\n",
       "    </tr>\n",
       "    <tr>\n",
       "      <th>125</th>\n",
       "      <td>Mason</td>\n",
       "      <td>Hart</td>\n",
       "      <td>M</td>\n",
       "      <td>Corpus Christi</td>\n",
       "      <td>TX</td>\n",
       "      <td>computer</td>\n",
       "      <td>mac</td>\n",
       "      <td>2018-08-01 22:58:59</td>\n",
       "      <td>churned</td>\n",
       "      <td>kept level</td>\n",
       "      <td>1</td>\n",
       "      <td>1.000000</td>\n",
       "      <td>1.000000</td>\n",
       "      <td>8</td>\n",
       "      <td>0.000000</td>\n",
       "      <td>0.000000</td>\n",
       "      <td>0</td>\n",
       "      <td>11</td>\n",
       "    </tr>\n",
       "    <tr>\n",
       "      <th>51</th>\n",
       "      <td>Ethan</td>\n",
       "      <td>Johnson</td>\n",
       "      <td>M</td>\n",
       "      <td>Lexington-Fayette</td>\n",
       "      <td>KY</td>\n",
       "      <td>computer</td>\n",
       "      <td>windows</td>\n",
       "      <td>2018-09-27 22:43:07</td>\n",
       "      <td>churned</td>\n",
       "      <td>kept level</td>\n",
       "      <td>10</td>\n",
       "      <td>0.878257</td>\n",
       "      <td>0.656087</td>\n",
       "      <td>2111</td>\n",
       "      <td>0.053937</td>\n",
       "      <td>0.011327</td>\n",
       "      <td>1</td>\n",
       "      <td>2464</td>\n",
       "    </tr>\n",
       "    <tr>\n",
       "      <th>124</th>\n",
       "      <td>Nicole</td>\n",
       "      <td>Beck</td>\n",
       "      <td>F</td>\n",
       "      <td>Vineland-Bridgeton</td>\n",
       "      <td>NJ</td>\n",
       "      <td>computer</td>\n",
       "      <td>mac</td>\n",
       "      <td>2018-07-22 03:52:15</td>\n",
       "      <td>stayed</td>\n",
       "      <td>kept level</td>\n",
       "      <td>29</td>\n",
       "      <td>0.818583</td>\n",
       "      <td>0.547193</td>\n",
       "      <td>4079</td>\n",
       "      <td>0.051213</td>\n",
       "      <td>0.012279</td>\n",
       "      <td>6</td>\n",
       "      <td>4825</td>\n",
       "    </tr>\n",
       "  </tbody>\n",
       "</table>\n",
       "</div>"
      ],
      "text/plain": [
       "        first_name  last_name gender                         city      state  \\\n",
       "user_id                                                                        \n",
       "100010    Darianna  Carpenter      F  Bridgeport-Stamford-Norwalk         CT   \n",
       "200002     Dominic     Torres      M     Chicago-Naperville-Elgin   IL-IN-WI   \n",
       "125          Mason       Hart      M               Corpus Christi         TX   \n",
       "51           Ethan    Johnson      M            Lexington-Fayette         KY   \n",
       "124         Nicole       Beck      F           Vineland-Bridgeton         NJ   \n",
       "\n",
       "           device device_os registration_timestamp  churned  downgraded  \\\n",
       "user_id                                                                   \n",
       "100010     mobile       mac    2018-09-27 04:45:40   stayed  kept level   \n",
       "200002     mobile       mac    2018-09-06 23:38:26   stayed  kept level   \n",
       "125      computer       mac    2018-08-01 22:58:59  churned  kept level   \n",
       "51       computer   windows    2018-09-27 22:43:07  churned  kept level   \n",
       "124      computer       mac    2018-07-22 03:52:15   stayed  kept level   \n",
       "\n",
       "         session_count  song_ratio  artist_ratio  nextsong_count  likes_ratio  \\\n",
       "user_id                                                                         \n",
       "100010               7    0.978182      0.916364             275     0.063197   \n",
       "200002               6    0.976744      0.875969             387     0.055556   \n",
       "125                  1    1.000000      1.000000               8     0.000000   \n",
       "51                  10    0.878257      0.656087            2111     0.053937   \n",
       "124                 29    0.818583      0.547193            4079     0.051213   \n",
       "\n",
       "         dislike_ratio  error_count  event_count  \n",
       "user_id                                           \n",
       "100010        0.018587            0          381  \n",
       "200002        0.015873            0          474  \n",
       "125           0.000000            0           11  \n",
       "51            0.011327            1         2464  \n",
       "124           0.012279            6         4825  "
      ]
     },
     "execution_count": 134,
     "metadata": {},
     "output_type": "execute_result"
    }
   ],
   "source": [
    "df_user=user_table.toPandas().set_index('user_id')\n",
    "df_user['churned']=df_user['churned'].map({0:'stayed', 1:'churned'})\n",
    "df_user['downgraded']=df_user['downgraded'].map({0:'kept level', 1:'downgraded'})\n",
    "df_user.head()\n"
   ]
  },
  {
   "cell_type": "code",
   "execution_count": 16,
   "metadata": {
    "scrolled": false
   },
   "outputs": [
    {
     "data": {
      "image/png": "[encoded data removed]",
      "text/plain": [
       "<Figure size 1200x500 with 3 Axes>"
      ]
     },
     "metadata": {},
     "output_type": "display_data"
    },
    {
     "data": {
      "image/png": "[encoded data removed]",
      "text/plain": [
       "<Figure size 800x300 with 2 Axes>"
      ]
     },
     "metadata": {},
     "output_type": "display_data"
    }
   ],
   "source": [
    "colors=sns.color_palette('Pastel2')\n",
    "\n",
    "fig, axs = plt.subplots(1, 3, figsize=[12,5])\n",
    "axs[0].pie(df_user.gender.value_counts(), labels=['male', 'female'],explode=(0,0.1),autopct='%.0f%%', colors=colors );\n",
    "axs[1].pie(df_user.device.value_counts(), labels=df_user.device.value_counts().index.tolist(),explode=(0,0.1),autopct='%.0f%%', colors=colors );\n",
    "axs[2].pie(df_user.device_os.value_counts(), labels=df_user.device_os.value_counts().index.tolist(),explode=(0,0.1,0.1),autopct='%.0f%%', colors=colors );\n",
    "\n",
    "fig, axs = plt.subplots(1, 2, figsize=[8,3])\n",
    "axs[0].pie(df_user.churned.value_counts(), labels=['stayed', 'churned'],explode=(0,0.1),autopct='%.0f%%', colors=colors );\n",
    "axs[1].pie(df_user.downgraded.value_counts(), labels=[ 'kept_level','downgraded'],explode=(0,0.1),autopct='%.0f%%', colors=colors );\n"
   ]
  },
  {
   "cell_type": "code",
   "execution_count": 17,
   "metadata": {},
   "outputs": [
    {
     "data": {
      "image/png": "[encoded data removed]",
      "text/plain": [
       "<Figure size 1000x500 with 1 Axes>"
      ]
     },
     "metadata": {},
     "output_type": "display_data"
    }
   ],
   "source": [
    "plt.figure( figsize=[10,5])\n",
    "ax=sns.barplot(x=df_user.state.value_counts().index,y=df_user.state.value_counts(),);\n",
    "ax.set_xticklabels(ax.get_xticklabels(), rotation=90, fontsize=8)\n",
    "plt.xlabel('State')\n",
    "plt.ylabel('Number of Users');"
   ]
  },
  {
   "cell_type": "code",
   "execution_count": 136,
   "metadata": {
    "scrolled": false
   },
   "outputs": [
    {
     "data": {
      "image/png": "[encoded data removed]",
      "text/plain": [
       "<Figure size 600x300 with 2 Axes>"
      ]
     },
     "metadata": {},
     "output_type": "display_data"
    }
   ],
   "source": [
    "fig, axs = plt.subplots(1, 2, figsize=[6,3])\n",
    "axs[0].pie(df_user[df_user['gender']=='F'].churned.value_counts(), labels=['stayed', 'churned'],explode=(0,0.1),autopct='%.0f%%', colors=colors );\n",
    "axs[0].set_title('Female User')\n",
    "\n",
    "axs[1].pie(df_user[df_user['gender']=='M'].churned.value_counts(), labels=['stayed', 'churned'],explode=(0,0.1),autopct='%.0f%%', colors=colors );\n",
    "axs[1].set_title('Male User');"
   ]
  },
  {
   "cell_type": "code",
   "execution_count": 19,
   "metadata": {},
   "outputs": [
    {
     "data": {
      "image/png": "[encoded data removed]",
      "text/plain": [
       "<Figure size 600x300 with 2 Axes>"
      ]
     },
     "metadata": {},
     "output_type": "display_data"
    }
   ],
   "source": [
    "fig, axs = plt.subplots(1, 2, figsize=[6,3])\n",
    "axs[0].pie(df_user[df_user['device']=='computer'].churned.value_counts(), labels=['stayed', 'churned'],explode=(0,0.1),autopct='%.0f%%', colors=colors );\n",
    "axs[0].set_title('Computer Users')\n",
    "\n",
    "axs[1].pie(df_user[df_user['device']=='mobile'].churned.value_counts(), labels=['stayed', 'churned'],explode=(0,0.1),autopct='%.0f%%', colors=colors );\n",
    "axs[1].set_title('Mobile Users');"
   ]
  },
  {
   "cell_type": "code",
   "execution_count": 83,
   "metadata": {},
   "outputs": [
    {
     "data": {
      "text/html": [
       "<div>\n",
       "<style scoped>\n",
       "    .dataframe tbody tr th:only-of-type {\n",
       "        vertical-align: middle;\n",
       "    }\n",
       "\n",
       "    .dataframe tbody tr th {\n",
       "        vertical-align: top;\n",
       "    }\n",
       "\n",
       "    .dataframe thead th {\n",
       "        text-align: right;\n",
       "    }\n",
       "</style>\n",
       "<table border=\"1\" class=\"dataframe\">\n",
       "  <thead>\n",
       "    <tr style=\"text-align: right;\">\n",
       "      <th></th>\n",
       "      <th>ratio</th>\n",
       "      <th>churned</th>\n",
       "      <th>value</th>\n",
       "    </tr>\n",
       "  </thead>\n",
       "  <tbody>\n",
       "    <tr>\n",
       "      <th>0</th>\n",
       "      <td>likes_ratio</td>\n",
       "      <td>0</td>\n",
       "      <td>0.059380</td>\n",
       "    </tr>\n",
       "    <tr>\n",
       "      <th>1</th>\n",
       "      <td>likes_ratio</td>\n",
       "      <td>1</td>\n",
       "      <td>0.056350</td>\n",
       "    </tr>\n",
       "    <tr>\n",
       "      <th>2</th>\n",
       "      <td>dislike_ratio</td>\n",
       "      <td>0</td>\n",
       "      <td>0.011035</td>\n",
       "    </tr>\n",
       "    <tr>\n",
       "      <th>3</th>\n",
       "      <td>dislike_ratio</td>\n",
       "      <td>1</td>\n",
       "      <td>0.018285</td>\n",
       "    </tr>\n",
       "  </tbody>\n",
       "</table>\n",
       "</div>"
      ],
      "text/plain": [
       "           ratio  churned     value\n",
       "0    likes_ratio        0  0.059380\n",
       "1    likes_ratio        1  0.056350\n",
       "2  dislike_ratio        0  0.011035\n",
       "3  dislike_ratio        1  0.018285"
      ]
     },
     "execution_count": 83,
     "metadata": {},
     "output_type": "execute_result"
    }
   ],
   "source": [
    "t=df_user[['churned','likes_ratio', 'dislike_ratio']].groupby(['churned']).mean().unstack().reset_index()\n",
    "t.columns=['ratio','churned','value']\n",
    "t"
   ]
  },
  {
   "cell_type": "code",
   "execution_count": 183,
   "metadata": {},
   "outputs": [
    {
     "data": {
      "text/html": [
       "<div>\n",
       "<style scoped>\n",
       "    .dataframe tbody tr th:only-of-type {\n",
       "        vertical-align: middle;\n",
       "    }\n",
       "\n",
       "    .dataframe tbody tr th {\n",
       "        vertical-align: top;\n",
       "    }\n",
       "\n",
       "    .dataframe thead th {\n",
       "        text-align: right;\n",
       "    }\n",
       "</style>\n",
       "<table border=\"1\" class=\"dataframe\">\n",
       "  <thead>\n",
       "    <tr style=\"text-align: right;\">\n",
       "      <th></th>\n",
       "      <th>first_name</th>\n",
       "      <th>last_name</th>\n",
       "      <th>gender</th>\n",
       "      <th>city</th>\n",
       "      <th>state</th>\n",
       "      <th>device</th>\n",
       "      <th>device_os</th>\n",
       "      <th>registration_timestamp</th>\n",
       "      <th>churned</th>\n",
       "      <th>downgraded</th>\n",
       "      <th>session_count</th>\n",
       "      <th>song_ratio</th>\n",
       "      <th>artist_ratio</th>\n",
       "      <th>nextsong_count</th>\n",
       "      <th>likes_ratio</th>\n",
       "      <th>dislike_ratio</th>\n",
       "      <th>error_count</th>\n",
       "      <th>event_count</th>\n",
       "    </tr>\n",
       "    <tr>\n",
       "      <th>user_id</th>\n",
       "      <th></th>\n",
       "      <th></th>\n",
       "      <th></th>\n",
       "      <th></th>\n",
       "      <th></th>\n",
       "      <th></th>\n",
       "      <th></th>\n",
       "      <th></th>\n",
       "      <th></th>\n",
       "      <th></th>\n",
       "      <th></th>\n",
       "      <th></th>\n",
       "      <th></th>\n",
       "      <th></th>\n",
       "      <th></th>\n",
       "      <th></th>\n",
       "      <th></th>\n",
       "      <th></th>\n",
       "    </tr>\n",
       "  </thead>\n",
       "  <tbody>\n",
       "    <tr>\n",
       "      <th>100010</th>\n",
       "      <td>Darianna</td>\n",
       "      <td>Carpenter</td>\n",
       "      <td>F</td>\n",
       "      <td>Bridgeport-Stamford-Norwalk</td>\n",
       "      <td>CT</td>\n",
       "      <td>mobile</td>\n",
       "      <td>mac</td>\n",
       "      <td>2018-09-27 04:45:40</td>\n",
       "      <td>stayed</td>\n",
       "      <td>kept level</td>\n",
       "      <td>7</td>\n",
       "      <td>0.978182</td>\n",
       "      <td>0.916364</td>\n",
       "      <td>275</td>\n",
       "      <td>0.063197</td>\n",
       "      <td>0.018587</td>\n",
       "      <td>0</td>\n",
       "      <td>381</td>\n",
       "    </tr>\n",
       "    <tr>\n",
       "      <th>200002</th>\n",
       "      <td>Dominic</td>\n",
       "      <td>Torres</td>\n",
       "      <td>M</td>\n",
       "      <td>Chicago-Naperville-Elgin</td>\n",
       "      <td>IL-IN-WI</td>\n",
       "      <td>mobile</td>\n",
       "      <td>mac</td>\n",
       "      <td>2018-09-06 23:38:26</td>\n",
       "      <td>stayed</td>\n",
       "      <td>kept level</td>\n",
       "      <td>6</td>\n",
       "      <td>0.976744</td>\n",
       "      <td>0.875969</td>\n",
       "      <td>387</td>\n",
       "      <td>0.055556</td>\n",
       "      <td>0.015873</td>\n",
       "      <td>0</td>\n",
       "      <td>474</td>\n",
       "    </tr>\n",
       "    <tr>\n",
       "      <th>125</th>\n",
       "      <td>Mason</td>\n",
       "      <td>Hart</td>\n",
       "      <td>M</td>\n",
       "      <td>Corpus Christi</td>\n",
       "      <td>TX</td>\n",
       "      <td>computer</td>\n",
       "      <td>mac</td>\n",
       "      <td>2018-08-01 22:58:59</td>\n",
       "      <td>churned</td>\n",
       "      <td>kept level</td>\n",
       "      <td>1</td>\n",
       "      <td>1.000000</td>\n",
       "      <td>1.000000</td>\n",
       "      <td>8</td>\n",
       "      <td>0.000000</td>\n",
       "      <td>0.000000</td>\n",
       "      <td>0</td>\n",
       "      <td>11</td>\n",
       "    </tr>\n",
       "    <tr>\n",
       "      <th>51</th>\n",
       "      <td>Ethan</td>\n",
       "      <td>Johnson</td>\n",
       "      <td>M</td>\n",
       "      <td>Lexington-Fayette</td>\n",
       "      <td>KY</td>\n",
       "      <td>computer</td>\n",
       "      <td>windows</td>\n",
       "      <td>2018-09-27 22:43:07</td>\n",
       "      <td>churned</td>\n",
       "      <td>kept level</td>\n",
       "      <td>10</td>\n",
       "      <td>0.878257</td>\n",
       "      <td>0.656087</td>\n",
       "      <td>2111</td>\n",
       "      <td>0.053937</td>\n",
       "      <td>0.011327</td>\n",
       "      <td>1</td>\n",
       "      <td>2464</td>\n",
       "    </tr>\n",
       "    <tr>\n",
       "      <th>124</th>\n",
       "      <td>Nicole</td>\n",
       "      <td>Beck</td>\n",
       "      <td>F</td>\n",
       "      <td>Vineland-Bridgeton</td>\n",
       "      <td>NJ</td>\n",
       "      <td>computer</td>\n",
       "      <td>mac</td>\n",
       "      <td>2018-07-22 03:52:15</td>\n",
       "      <td>stayed</td>\n",
       "      <td>kept level</td>\n",
       "      <td>29</td>\n",
       "      <td>0.818583</td>\n",
       "      <td>0.547193</td>\n",
       "      <td>4079</td>\n",
       "      <td>0.051213</td>\n",
       "      <td>0.012279</td>\n",
       "      <td>6</td>\n",
       "      <td>4825</td>\n",
       "    </tr>\n",
       "  </tbody>\n",
       "</table>\n",
       "</div>"
      ],
      "text/plain": [
       "        first_name  last_name gender                         city      state  \\\n",
       "user_id                                                                        \n",
       "100010    Darianna  Carpenter      F  Bridgeport-Stamford-Norwalk         CT   \n",
       "200002     Dominic     Torres      M     Chicago-Naperville-Elgin   IL-IN-WI   \n",
       "125          Mason       Hart      M               Corpus Christi         TX   \n",
       "51           Ethan    Johnson      M            Lexington-Fayette         KY   \n",
       "124         Nicole       Beck      F           Vineland-Bridgeton         NJ   \n",
       "\n",
       "           device device_os registration_timestamp  churned  downgraded  \\\n",
       "user_id                                                                   \n",
       "100010     mobile       mac    2018-09-27 04:45:40   stayed  kept level   \n",
       "200002     mobile       mac    2018-09-06 23:38:26   stayed  kept level   \n",
       "125      computer       mac    2018-08-01 22:58:59  churned  kept level   \n",
       "51       computer   windows    2018-09-27 22:43:07  churned  kept level   \n",
       "124      computer       mac    2018-07-22 03:52:15   stayed  kept level   \n",
       "\n",
       "         session_count  song_ratio  artist_ratio  nextsong_count  likes_ratio  \\\n",
       "user_id                                                                         \n",
       "100010               7    0.978182      0.916364             275     0.063197   \n",
       "200002               6    0.976744      0.875969             387     0.055556   \n",
       "125                  1    1.000000      1.000000               8     0.000000   \n",
       "51                  10    0.878257      0.656087            2111     0.053937   \n",
       "124                 29    0.818583      0.547193            4079     0.051213   \n",
       "\n",
       "         dislike_ratio  error_count  event_count  \n",
       "user_id                                           \n",
       "100010        0.018587            0          381  \n",
       "200002        0.015873            0          474  \n",
       "125           0.000000            0           11  \n",
       "51            0.011327            1         2464  \n",
       "124           0.012279            6         4825  "
      ]
     },
     "execution_count": 183,
     "metadata": {},
     "output_type": "execute_result"
    }
   ],
   "source": [
    "df_user.head()"
   ]
  },
  {
   "cell_type": "code",
   "execution_count": 178,
   "metadata": {},
   "outputs": [],
   "source": [
    "def barplot_userfeatures(df,features, hue):\n",
    "    '''Plot barplot for features'''\n",
    "    temp=df[[hue]+features].groupby([hue]).mean().unstack().reset_index()\n",
    "    temp.columns=['features',hue,'value']\n",
    "    \n",
    "    ax=sns.catplot(data=temp,x='features',y='value',hue=hue ,kind=\"bar\", palette=\"Pastel2\", height=3, aspect=2 )\n",
    "    ax.set_axis_labels('','ratio')\n",
    "    ax.set_xticklabels(list(map(lambda x: x.split('_')[0], features)))\n",
    "    ax.legend.set_title('');"
   ]
  },
  {
   "cell_type": "code",
   "execution_count": 179,
   "metadata": {},
   "outputs": [
    {
     "data": {
      "image/png": "[encoded data removed]",
      "text/plain": [
       "<Figure size 706.75x300 with 1 Axes>"
      ]
     },
     "metadata": {},
     "output_type": "display_data"
    }
   ],
   "source": [
    "barplot_userfeatures(df=df_user,features=['likes_ratio', 'dislike_ratio'],hue='churned')"
   ]
  },
  {
   "cell_type": "code",
   "execution_count": 180,
   "metadata": {},
   "outputs": [
    {
     "data": {
      "image/png": "[encoded data removed]",
      "text/plain": [
       "<Figure size 706.75x300 with 1 Axes>"
      ]
     },
     "metadata": {},
     "output_type": "display_data"
    }
   ],
   "source": [
    "barplot_userfeatures(df=df_user,features=['song_ratio', 'artist_ratio'],hue='churned')"
   ]
  },
  {
   "cell_type": "code",
   "execution_count": 184,
   "metadata": {},
   "outputs": [
    {
     "data": {
      "image/png": "[encoded data removed]",
      "text/plain": [
       "<Figure size 706.75x300 with 1 Axes>"
      ]
     },
     "metadata": {},
     "output_type": "display_data"
    }
   ],
   "source": [
    "barplot_userfeatures(df=df_user,features=['session_count', 'error_count'],hue='churned')"
   ]
  },
  {
   "cell_type": "code",
   "execution_count": 181,
   "metadata": {},
   "outputs": [
    {
     "data": {
      "image/png": "[encoded data removed]",
      "text/plain": [
       "<Figure size 737x300 with 1 Axes>"
      ]
     },
     "metadata": {},
     "output_type": "display_data"
    }
   ],
   "source": [
    "barplot_userfeatures(df=df_user,features=['likes_ratio', 'dislike_ratio'],hue='downgraded')"
   ]
  },
  {
   "cell_type": "code",
   "execution_count": 182,
   "metadata": {},
   "outputs": [
    {
     "data": {
      "image/png": "[encoded data removed]",
      "text/plain": [
       "<Figure size 737x300 with 1 Axes>"
      ]
     },
     "metadata": {},
     "output_type": "display_data"
    }
   ],
   "source": [
    "barplot_userfeatures(df=df_user,features=['song_ratio', 'artist_ratio'],hue='downgraded')"
   ]
  },
  {
   "cell_type": "markdown",
   "metadata": {},
   "source": [
    "# Feature Engineering\n",
    "Once you've familiarized yourself with the data, build out the features you find promising to train your model on. To work with the full dataset, you can follow the following steps.\n",
    "- Write a script to extract the necessary features from the smaller subset of data\n",
    "- Ensure that your script is scalable, using the best practices discussed in Lesson 3\n",
    "- Try your script on the full data set, debugging your script if necessary\n",
    "\n",
    "If you are working in the classroom workspace, you can just extract features based on the small subset of data contained here. Be sure to transfer over this work to the larger dataset when you work on your Spark cluster."
   ]
  },
  {
   "cell_type": "code",
   "execution_count": null,
   "metadata": {},
   "outputs": [],
   "source": []
  },
  {
   "cell_type": "markdown",
   "metadata": {},
   "source": [
    "# Modeling\n",
    "Split the full dataset into train, test, and validation sets. Test out several of the machine learning methods you learned. Evaluate the accuracy of the various models, tuning parameters as necessary. Determine your winning model based on test accuracy and report results on the validation set. Since the churned users are a fairly small subset, I suggest using F1 score as the metric to optimize."
   ]
  },
  {
   "cell_type": "code",
   "execution_count": null,
   "metadata": {},
   "outputs": [],
   "source": []
  },
  {
   "cell_type": "markdown",
   "metadata": {},
   "source": [
    "# Final Steps\n",
    "Clean up your code, adding comments and renaming variables to make the code easier to read and maintain. Refer to the Spark Project Overview page and Data Scientist Capstone Project Rubric to make sure you are including all components of the capstone project and meet all expectations. Remember, this includes thorough documentation in a README file in a Github repository, as well as a web app or blog post."
   ]
  },
  {
   "cell_type": "code",
   "execution_count": null,
   "metadata": {},
   "outputs": [],
   "source": []
  },
  {
   "cell_type": "code",
   "execution_count": 22,
   "metadata": {},
   "outputs": [],
   "source": [
    "#spark.stop()"
   ]
  }
 ],
 "metadata": {
  "kernelspec": {
   "display_name": "Python 3 (ipykernel)",
   "language": "python",
   "name": "python3"
  },
  "language_info": {
   "codemirror_mode": {
    "name": "ipython",
    "version": 3
   },
   "file_extension": ".py",
   "mimetype": "text/x-python",
   "name": "python",
   "nbconvert_exporter": "python",
   "pygments_lexer": "ipython3",
   "version": "3.11.3"
  }
 },
 "nbformat": 4,
 "nbformat_minor": 2
}
