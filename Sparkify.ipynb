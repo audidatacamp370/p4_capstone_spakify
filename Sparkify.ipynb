{
 "cells": [
  {
   "cell_type": "markdown",
   "metadata": {},
   "source": [
    "# Sparkify Project Workspace\n",
    "This workspace contains a tiny subset (128MB) of the full dataset available (12GB). Feel free to use this workspace to build your project, or to explore a smaller subset with Spark before deploying your cluster on the cloud. Instructions for setting up your Spark cluster is included in the last lesson of the Extracurricular Spark Course content.\n",
    "\n",
    "You can follow the steps below to guide your data analysis and model building portion of this project."
   ]
  },
  {
   "cell_type": "code",
   "execution_count": 1,
   "metadata": {},
   "outputs": [],
   "source": [
    "# import libraries\n",
    "from pyspark.sql import SparkSession\n",
    "from pyspark.sql.functions import avg, col, concat, desc, asc, explode, lit, min, max, split, udf\n",
    "from pyspark.sql.functions import to_timestamp, year, month, dayofmonth, hour, weekofyear, date_format\n",
    "from pyspark.sql.types import IntegerType, StringType\n",
    "\n",
    "from pyspark.ml import Pipeline\n",
    "from pyspark.ml.classification import LogisticRegression\n",
    "from pyspark.ml.evaluation import MulticlassClassificationEvaluator\n",
    "from pyspark.ml.feature import CountVectorizer, IDF, Normalizer, PCA, RegexTokenizer, StandardScaler, StopWordsRemover, StringIndexer, VectorAssembler\n",
    "from pyspark.ml.regression import LinearRegression\n",
    "from pyspark.ml.tuning import CrossValidator, ParamGridBuilder\n",
    "\n",
    "import re\n",
    "import datetime"
   ]
  },
  {
   "cell_type": "code",
   "execution_count": 2,
   "metadata": {},
   "outputs": [],
   "source": [
    "# create a Spark session\n",
    "\n",
    "spark = SparkSession.builder \\\n",
    "    .appName(\"Sparkify\") \\\n",
    "    .getOrCreate()"
   ]
  },
  {
   "cell_type": "code",
   "execution_count": 3,
   "metadata": {},
   "outputs": [
    {
     "data": {
      "text/html": [
       "\n",
       "            <div>\n",
       "                <p><b>SparkSession - in-memory</b></p>\n",
       "                \n",
       "        <div>\n",
       "            <p><b>SparkContext</b></p>\n",
       "\n",
       "            <p><a href=\"http://Thomas-Surface:4041\">Spark UI</a></p>\n",
       "\n",
       "            <dl>\n",
       "              <dt>Version</dt>\n",
       "                <dd><code>v3.4.1</code></dd>\n",
       "              <dt>Master</dt>\n",
       "                <dd><code>local[*]</code></dd>\n",
       "              <dt>AppName</dt>\n",
       "                <dd><code>Sparkify</code></dd>\n",
       "            </dl>\n",
       "        </div>\n",
       "        \n",
       "            </div>\n",
       "        "
      ],
      "text/plain": [
       "<pyspark.sql.session.SparkSession at 0x20c13412a90>"
      ]
     },
     "execution_count": 3,
     "metadata": {},
     "output_type": "execute_result"
    }
   ],
   "source": [
    "spark"
   ]
  },
  {
   "cell_type": "markdown",
   "metadata": {},
   "source": [
    "# Load and Clean Dataset\n",
    "In this workspace, the mini-dataset file is `mini_sparkify_event_data.json`. Load and clean the dataset, checking for invalid or missing data - for example, records without userids or sessionids. "
   ]
  },
  {
   "cell_type": "code",
   "execution_count": 4,
   "metadata": {},
   "outputs": [],
   "source": [
    "df = spark.read.json('../data/mini_sparkify_event_data.json')"
   ]
  },
  {
   "cell_type": "code",
   "execution_count": 5,
   "metadata": {},
   "outputs": [
    {
     "data": {
      "text/plain": [
       "[Row(artist='Martha Tilston', auth='Logged In', firstName='Colin', gender='M', itemInSession=50, lastName='Freeman', length=277.89016, level='paid', location='Bakersfield, CA', method='PUT', page='NextSong', registration=1538173362000, sessionId=29, song='Rockpools', status=200, ts=1538352117000, userAgent='Mozilla/5.0 (Windows NT 6.1; WOW64; rv:31.0) Gecko/20100101 Firefox/31.0', userId='30'),\n",
       " Row(artist='Five Iron Frenzy', auth='Logged In', firstName='Micah', gender='M', itemInSession=79, lastName='Long', length=236.09424, level='free', location='Boston-Cambridge-Newton, MA-NH', method='PUT', page='NextSong', registration=1538331630000, sessionId=8, song='Canada', status=200, ts=1538352180000, userAgent='\"Mozilla/5.0 (Windows NT 6.1; WOW64) AppleWebKit/537.36 (KHTML, like Gecko) Chrome/37.0.2062.103 Safari/537.36\"', userId='9')]"
      ]
     },
     "execution_count": 5,
     "metadata": {},
     "output_type": "execute_result"
    }
   ],
   "source": [
    "df.head(2)"
   ]
  },
  {
   "cell_type": "code",
   "execution_count": 6,
   "metadata": {},
   "outputs": [
    {
     "name": "stdout",
     "output_type": "stream",
     "text": [
      "root\n",
      " |-- artist: string (nullable = true)\n",
      " |-- auth: string (nullable = true)\n",
      " |-- firstName: string (nullable = true)\n",
      " |-- gender: string (nullable = true)\n",
      " |-- itemInSession: long (nullable = true)\n",
      " |-- lastName: string (nullable = true)\n",
      " |-- length: double (nullable = true)\n",
      " |-- level: string (nullable = true)\n",
      " |-- location: string (nullable = true)\n",
      " |-- method: string (nullable = true)\n",
      " |-- page: string (nullable = true)\n",
      " |-- registration: long (nullable = true)\n",
      " |-- sessionId: long (nullable = true)\n",
      " |-- song: string (nullable = true)\n",
      " |-- status: long (nullable = true)\n",
      " |-- ts: long (nullable = true)\n",
      " |-- userAgent: string (nullable = true)\n",
      " |-- userId: string (nullable = true)\n",
      "\n"
     ]
    }
   ],
   "source": [
    "df.printSchema()"
   ]
  },
  {
   "cell_type": "code",
   "execution_count": 7,
   "metadata": {
    "scrolled": false
   },
   "outputs": [
    {
     "name": "stdout",
     "output_type": "stream",
     "text": [
      "-RECORD 0---------------\n",
      " summary       | count  \n",
      " artist        | 228108 \n",
      " auth          | 286500 \n",
      " firstName     | 278154 \n",
      " gender        | 278154 \n",
      " itemInSession | 286500 \n",
      " lastName      | 278154 \n",
      " length        | 228108 \n",
      " level         | 286500 \n",
      " location      | 278154 \n",
      " method        | 286500 \n",
      " page          | 286500 \n",
      " registration  | 278154 \n",
      " sessionId     | 286500 \n",
      " song          | 228108 \n",
      " status        | 286500 \n",
      " ts            | 286500 \n",
      " userAgent     | 278154 \n",
      " userId        | 286500 \n",
      "only showing top 1 row\n",
      "\n"
     ]
    }
   ],
   "source": [
    "df.describe().show(1,vertical=True)"
   ]
  },
  {
   "cell_type": "code",
   "execution_count": 8,
   "metadata": {
    "scrolled": true
   },
   "outputs": [
    {
     "data": {
      "text/plain": [
       "286500"
      ]
     },
     "execution_count": 8,
     "metadata": {},
     "output_type": "execute_result"
    }
   ],
   "source": [
    "df.distinct().count()"
   ]
  },
  {
   "cell_type": "code",
   "execution_count": 11,
   "metadata": {},
   "outputs": [],
   "source": [
    "df=df.filter(df.userId != '')"
   ]
  },
  {
   "cell_type": "code",
   "execution_count": 12,
   "metadata": {},
   "outputs": [],
   "source": [
    "df=df.withColumn('event_timestamp', to_timestamp(df['ts']/1000))\n",
    "df=df.withColumn('registration_timestamp', to_timestamp(df['registration']/1000))"
   ]
  },
  {
   "cell_type": "code",
   "execution_count": 17,
   "metadata": {
    "scrolled": false
   },
   "outputs": [
    {
     "name": "stdout",
     "output_type": "stream",
     "text": [
      "+-------+----------+---------+------+--------------------+-------------+----------------------+\n",
      "|user_id|first_name|last_name|gender|            location| registration|registration_timestamp|\n",
      "+-------+----------+---------+------+--------------------+-------------+----------------------+\n",
      "|    143|     Molly| Harrison|     F|Virginia Beach-No...|1534255113000|   2018-08-14 15:58:33|\n",
      "|    114|     Titus|    Jones|     M|Las Vegas-Henders...|1536831228000|   2018-09-13 11:33:48|\n",
      "|     30|     Colin|  Freeman|     M|     Bakersfield, CA|1538173362000|   2018-09-29 00:22:42|\n",
      "+-------+----------+---------+------+--------------------+-------------+----------------------+\n",
      "only showing top 3 rows\n",
      "\n"
     ]
    }
   ],
   "source": [
    "df.createOrReplaceTempView(\"events\")\n",
    "user_table = spark.sql(\"\"\"\n",
    "                        SELECT DISTINCT\n",
    "                            userId as user_id, \n",
    "                            firstName as first_name, \n",
    "                            lastName as last_name, \n",
    "                            gender, \n",
    "                            location,\n",
    "                            registration,\n",
    "                            registration_timestamp\n",
    "                        FROM events\n",
    "                        \"\"\")\n",
    "user_table.show(3)"
   ]
  },
  {
   "cell_type": "code",
   "execution_count": 18,
   "metadata": {
    "scrolled": true
   },
   "outputs": [
    {
     "name": "stdout",
     "output_type": "stream",
     "text": [
      "+-------+-----+\n",
      "|user_id|count|\n",
      "+-------+-----+\n",
      "| 100010|    1|\n",
      "| 200002|    1|\n",
      "|    125|    1|\n",
      "|    124|    1|\n",
      "|      7|    1|\n",
      "|     51|    1|\n",
      "|     15|    1|\n",
      "|     54|    1|\n",
      "|    155|    1|\n",
      "|    132|    1|\n",
      "|    154|    1|\n",
      "| 100014|    1|\n",
      "|     11|    1|\n",
      "|    101|    1|\n",
      "|    138|    1|\n",
      "| 300017|    1|\n",
      "|     29|    1|\n",
      "|     69|    1|\n",
      "| 100021|    1|\n",
      "|     42|    1|\n",
      "+-------+-----+\n",
      "only showing top 20 rows\n",
      "\n"
     ]
    }
   ],
   "source": [
    "user_table.groupBy('user_id').count().orderBy('count', ascending=False).show()"
   ]
  },
  {
   "cell_type": "code",
   "execution_count": 19,
   "metadata": {},
   "outputs": [
    {
     "name": "stdout",
     "output_type": "stream",
     "text": [
      "+-------+----------+---------+------+-----------+-------------+----------------------+\n",
      "|user_id|first_name|last_name|gender|   location| registration|registration_timestamp|\n",
      "+-------+----------+---------+------+-----------+-------------+----------------------+\n",
      "|     70|    Chayse|   Keller|     M|Jackson, MS|1529643103000|   2018-06-22 06:51:43|\n",
      "+-------+----------+---------+------+-----------+-------------+----------------------+\n",
      "\n"
     ]
    }
   ],
   "source": [
    "user_table.filter(user_table['user_id']==70).show()"
   ]
  },
  {
   "cell_type": "code",
   "execution_count": 20,
   "metadata": {},
   "outputs": [],
   "source": [
    "df.createOrReplaceTempView(\"events\")\n",
    "event_table = spark.sql(\"\"\"\n",
    "                    SELECT DISTINCT\n",
    "                        userId as user_id,\n",
    "                        sessionId as session_id,\n",
    "                        itemInSession as item_in_session,\n",
    "                        page as event,\n",
    "                        auth,\n",
    "                        level,\n",
    "\n",
    "                        userAgent as user_agent,\n",
    "                        ts as event_timestamp_unix,\n",
    "                        event_timestamp                   \n",
    "                FROM events\n",
    "                ORDER BY event_timestamp_unix DESC\n",
    "                \"\"\") \n"
   ]
  },
  {
   "cell_type": "code",
   "execution_count": 21,
   "metadata": {},
   "outputs": [
    {
     "name": "stderr",
     "output_type": "stream",
     "text": [
      "C:\\Users\\thoma\\anaconda3\\Lib\\site-packages\\pyspark\\sql\\pandas\\conversion.py:251: FutureWarning: Passing unit-less datetime64 dtype to .astype is deprecated and will raise in a future version. Pass 'datetime64[ns]' instead\n",
      "  series = series.astype(t, copy=False)\n"
     ]
    },
    {
     "data": {
      "text/html": [
       "<div>\n",
       "<style scoped>\n",
       "    .dataframe tbody tr th:only-of-type {\n",
       "        vertical-align: middle;\n",
       "    }\n",
       "\n",
       "    .dataframe tbody tr th {\n",
       "        vertical-align: top;\n",
       "    }\n",
       "\n",
       "    .dataframe thead th {\n",
       "        text-align: right;\n",
       "    }\n",
       "</style>\n",
       "<table border=\"1\" class=\"dataframe\">\n",
       "  <thead>\n",
       "    <tr style=\"text-align: right;\">\n",
       "      <th></th>\n",
       "      <th>user_id</th>\n",
       "      <th>session_id</th>\n",
       "      <th>item_in_session</th>\n",
       "      <th>event</th>\n",
       "      <th>auth</th>\n",
       "      <th>level</th>\n",
       "      <th>user_agent</th>\n",
       "      <th>event_timestamp_unix</th>\n",
       "      <th>event_timestamp</th>\n",
       "    </tr>\n",
       "  </thead>\n",
       "  <tbody>\n",
       "    <tr>\n",
       "      <th>0</th>\n",
       "      <td>70</td>\n",
       "      <td>1940</td>\n",
       "      <td>91</td>\n",
       "      <td>Cancellation Confirmation</td>\n",
       "      <td>Cancelled</td>\n",
       "      <td>paid</td>\n",
       "      <td>\"Mozilla/5.0 (Windows NT 6.1; WOW64) AppleWebK...</td>\n",
       "      <td>1542234867000</td>\n",
       "      <td>2018-11-14 23:34:27</td>\n",
       "    </tr>\n",
       "    <tr>\n",
       "      <th>1</th>\n",
       "      <td>70</td>\n",
       "      <td>1940</td>\n",
       "      <td>90</td>\n",
       "      <td>Cancel</td>\n",
       "      <td>Logged In</td>\n",
       "      <td>paid</td>\n",
       "      <td>\"Mozilla/5.0 (Windows NT 6.1; WOW64) AppleWebK...</td>\n",
       "      <td>1542234843000</td>\n",
       "      <td>2018-11-14 23:34:03</td>\n",
       "    </tr>\n",
       "    <tr>\n",
       "      <th>2</th>\n",
       "      <td>70</td>\n",
       "      <td>1940</td>\n",
       "      <td>89</td>\n",
       "      <td>Downgrade</td>\n",
       "      <td>Logged In</td>\n",
       "      <td>paid</td>\n",
       "      <td>\"Mozilla/5.0 (Windows NT 6.1; WOW64) AppleWebK...</td>\n",
       "      <td>1542234842000</td>\n",
       "      <td>2018-11-14 23:34:02</td>\n",
       "    </tr>\n",
       "    <tr>\n",
       "      <th>3</th>\n",
       "      <td>70</td>\n",
       "      <td>1940</td>\n",
       "      <td>88</td>\n",
       "      <td>NextSong</td>\n",
       "      <td>Logged In</td>\n",
       "      <td>paid</td>\n",
       "      <td>\"Mozilla/5.0 (Windows NT 6.1; WOW64) AppleWebK...</td>\n",
       "      <td>1542234810000</td>\n",
       "      <td>2018-11-14 23:33:30</td>\n",
       "    </tr>\n",
       "    <tr>\n",
       "      <th>4</th>\n",
       "      <td>70</td>\n",
       "      <td>1940</td>\n",
       "      <td>87</td>\n",
       "      <td>Thumbs Up</td>\n",
       "      <td>Logged In</td>\n",
       "      <td>paid</td>\n",
       "      <td>\"Mozilla/5.0 (Windows NT 6.1; WOW64) AppleWebK...</td>\n",
       "      <td>1542234742000</td>\n",
       "      <td>2018-11-14 23:32:22</td>\n",
       "    </tr>\n",
       "    <tr>\n",
       "      <th>5</th>\n",
       "      <td>70</td>\n",
       "      <td>1940</td>\n",
       "      <td>86</td>\n",
       "      <td>NextSong</td>\n",
       "      <td>Logged In</td>\n",
       "      <td>paid</td>\n",
       "      <td>\"Mozilla/5.0 (Windows NT 6.1; WOW64) AppleWebK...</td>\n",
       "      <td>1542234741000</td>\n",
       "      <td>2018-11-14 23:32:21</td>\n",
       "    </tr>\n",
       "    <tr>\n",
       "      <th>6</th>\n",
       "      <td>70</td>\n",
       "      <td>1940</td>\n",
       "      <td>84</td>\n",
       "      <td>NextSong</td>\n",
       "      <td>Logged In</td>\n",
       "      <td>paid</td>\n",
       "      <td>\"Mozilla/5.0 (Windows NT 6.1; WOW64) AppleWebK...</td>\n",
       "      <td>1542234451000</td>\n",
       "      <td>2018-11-14 23:27:31</td>\n",
       "    </tr>\n",
       "    <tr>\n",
       "      <th>7</th>\n",
       "      <td>70</td>\n",
       "      <td>1940</td>\n",
       "      <td>85</td>\n",
       "      <td>Downgrade</td>\n",
       "      <td>Logged In</td>\n",
       "      <td>paid</td>\n",
       "      <td>\"Mozilla/5.0 (Windows NT 6.1; WOW64) AppleWebK...</td>\n",
       "      <td>1542234451000</td>\n",
       "      <td>2018-11-14 23:27:31</td>\n",
       "    </tr>\n",
       "    <tr>\n",
       "      <th>8</th>\n",
       "      <td>70</td>\n",
       "      <td>1940</td>\n",
       "      <td>83</td>\n",
       "      <td>NextSong</td>\n",
       "      <td>Logged In</td>\n",
       "      <td>paid</td>\n",
       "      <td>\"Mozilla/5.0 (Windows NT 6.1; WOW64) AppleWebK...</td>\n",
       "      <td>1542234208000</td>\n",
       "      <td>2018-11-14 23:23:28</td>\n",
       "    </tr>\n",
       "    <tr>\n",
       "      <th>9</th>\n",
       "      <td>70</td>\n",
       "      <td>1940</td>\n",
       "      <td>82</td>\n",
       "      <td>NextSong</td>\n",
       "      <td>Logged In</td>\n",
       "      <td>paid</td>\n",
       "      <td>\"Mozilla/5.0 (Windows NT 6.1; WOW64) AppleWebK...</td>\n",
       "      <td>1542233958000</td>\n",
       "      <td>2018-11-14 23:19:18</td>\n",
       "    </tr>\n",
       "    <tr>\n",
       "      <th>10</th>\n",
       "      <td>70</td>\n",
       "      <td>1940</td>\n",
       "      <td>81</td>\n",
       "      <td>NextSong</td>\n",
       "      <td>Logged In</td>\n",
       "      <td>paid</td>\n",
       "      <td>\"Mozilla/5.0 (Windows NT 6.1; WOW64) AppleWebK...</td>\n",
       "      <td>1542233724000</td>\n",
       "      <td>2018-11-14 23:15:24</td>\n",
       "    </tr>\n",
       "    <tr>\n",
       "      <th>11</th>\n",
       "      <td>70</td>\n",
       "      <td>1940</td>\n",
       "      <td>80</td>\n",
       "      <td>Downgrade</td>\n",
       "      <td>Logged In</td>\n",
       "      <td>paid</td>\n",
       "      <td>\"Mozilla/5.0 (Windows NT 6.1; WOW64) AppleWebK...</td>\n",
       "      <td>1542233563000</td>\n",
       "      <td>2018-11-14 23:12:43</td>\n",
       "    </tr>\n",
       "    <tr>\n",
       "      <th>12</th>\n",
       "      <td>70</td>\n",
       "      <td>1940</td>\n",
       "      <td>79</td>\n",
       "      <td>NextSong</td>\n",
       "      <td>Logged In</td>\n",
       "      <td>paid</td>\n",
       "      <td>\"Mozilla/5.0 (Windows NT 6.1; WOW64) AppleWebK...</td>\n",
       "      <td>1542233559000</td>\n",
       "      <td>2018-11-14 23:12:39</td>\n",
       "    </tr>\n",
       "    <tr>\n",
       "      <th>13</th>\n",
       "      <td>70</td>\n",
       "      <td>1940</td>\n",
       "      <td>78</td>\n",
       "      <td>Add Friend</td>\n",
       "      <td>Logged In</td>\n",
       "      <td>paid</td>\n",
       "      <td>\"Mozilla/5.0 (Windows NT 6.1; WOW64) AppleWebK...</td>\n",
       "      <td>1542233341000</td>\n",
       "      <td>2018-11-14 23:09:01</td>\n",
       "    </tr>\n",
       "    <tr>\n",
       "      <th>14</th>\n",
       "      <td>70</td>\n",
       "      <td>1940</td>\n",
       "      <td>77</td>\n",
       "      <td>NextSong</td>\n",
       "      <td>Logged In</td>\n",
       "      <td>paid</td>\n",
       "      <td>\"Mozilla/5.0 (Windows NT 6.1; WOW64) AppleWebK...</td>\n",
       "      <td>1542233340000</td>\n",
       "      <td>2018-11-14 23:09:00</td>\n",
       "    </tr>\n",
       "    <tr>\n",
       "      <th>15</th>\n",
       "      <td>70</td>\n",
       "      <td>1940</td>\n",
       "      <td>76</td>\n",
       "      <td>NextSong</td>\n",
       "      <td>Logged In</td>\n",
       "      <td>paid</td>\n",
       "      <td>\"Mozilla/5.0 (Windows NT 6.1; WOW64) AppleWebK...</td>\n",
       "      <td>1542233061000</td>\n",
       "      <td>2018-11-14 23:04:21</td>\n",
       "    </tr>\n",
       "    <tr>\n",
       "      <th>16</th>\n",
       "      <td>70</td>\n",
       "      <td>1940</td>\n",
       "      <td>75</td>\n",
       "      <td>NextSong</td>\n",
       "      <td>Logged In</td>\n",
       "      <td>paid</td>\n",
       "      <td>\"Mozilla/5.0 (Windows NT 6.1; WOW64) AppleWebK...</td>\n",
       "      <td>1542232845000</td>\n",
       "      <td>2018-11-14 23:00:45</td>\n",
       "    </tr>\n",
       "    <tr>\n",
       "      <th>17</th>\n",
       "      <td>70</td>\n",
       "      <td>1940</td>\n",
       "      <td>74</td>\n",
       "      <td>Home</td>\n",
       "      <td>Logged In</td>\n",
       "      <td>paid</td>\n",
       "      <td>\"Mozilla/5.0 (Windows NT 6.1; WOW64) AppleWebK...</td>\n",
       "      <td>1542232608000</td>\n",
       "      <td>2018-11-14 22:56:48</td>\n",
       "    </tr>\n",
       "    <tr>\n",
       "      <th>18</th>\n",
       "      <td>70</td>\n",
       "      <td>1940</td>\n",
       "      <td>73</td>\n",
       "      <td>NextSong</td>\n",
       "      <td>Logged In</td>\n",
       "      <td>paid</td>\n",
       "      <td>\"Mozilla/5.0 (Windows NT 6.1; WOW64) AppleWebK...</td>\n",
       "      <td>1542232599000</td>\n",
       "      <td>2018-11-14 22:56:39</td>\n",
       "    </tr>\n",
       "    <tr>\n",
       "      <th>19</th>\n",
       "      <td>70</td>\n",
       "      <td>1940</td>\n",
       "      <td>72</td>\n",
       "      <td>Home</td>\n",
       "      <td>Logged In</td>\n",
       "      <td>paid</td>\n",
       "      <td>\"Mozilla/5.0 (Windows NT 6.1; WOW64) AppleWebK...</td>\n",
       "      <td>1542232445000</td>\n",
       "      <td>2018-11-14 22:54:05</td>\n",
       "    </tr>\n",
       "  </tbody>\n",
       "</table>\n",
       "</div>"
      ],
      "text/plain": [
       "   user_id  session_id  item_in_session                      event       auth  \\\n",
       "0       70        1940               91  Cancellation Confirmation  Cancelled   \n",
       "1       70        1940               90                     Cancel  Logged In   \n",
       "2       70        1940               89                  Downgrade  Logged In   \n",
       "3       70        1940               88                   NextSong  Logged In   \n",
       "4       70        1940               87                  Thumbs Up  Logged In   \n",
       "5       70        1940               86                   NextSong  Logged In   \n",
       "6       70        1940               84                   NextSong  Logged In   \n",
       "7       70        1940               85                  Downgrade  Logged In   \n",
       "8       70        1940               83                   NextSong  Logged In   \n",
       "9       70        1940               82                   NextSong  Logged In   \n",
       "10      70        1940               81                   NextSong  Logged In   \n",
       "11      70        1940               80                  Downgrade  Logged In   \n",
       "12      70        1940               79                   NextSong  Logged In   \n",
       "13      70        1940               78                 Add Friend  Logged In   \n",
       "14      70        1940               77                   NextSong  Logged In   \n",
       "15      70        1940               76                   NextSong  Logged In   \n",
       "16      70        1940               75                   NextSong  Logged In   \n",
       "17      70        1940               74                       Home  Logged In   \n",
       "18      70        1940               73                   NextSong  Logged In   \n",
       "19      70        1940               72                       Home  Logged In   \n",
       "\n",
       "   level                                         user_agent  \\\n",
       "0   paid  \"Mozilla/5.0 (Windows NT 6.1; WOW64) AppleWebK...   \n",
       "1   paid  \"Mozilla/5.0 (Windows NT 6.1; WOW64) AppleWebK...   \n",
       "2   paid  \"Mozilla/5.0 (Windows NT 6.1; WOW64) AppleWebK...   \n",
       "3   paid  \"Mozilla/5.0 (Windows NT 6.1; WOW64) AppleWebK...   \n",
       "4   paid  \"Mozilla/5.0 (Windows NT 6.1; WOW64) AppleWebK...   \n",
       "5   paid  \"Mozilla/5.0 (Windows NT 6.1; WOW64) AppleWebK...   \n",
       "6   paid  \"Mozilla/5.0 (Windows NT 6.1; WOW64) AppleWebK...   \n",
       "7   paid  \"Mozilla/5.0 (Windows NT 6.1; WOW64) AppleWebK...   \n",
       "8   paid  \"Mozilla/5.0 (Windows NT 6.1; WOW64) AppleWebK...   \n",
       "9   paid  \"Mozilla/5.0 (Windows NT 6.1; WOW64) AppleWebK...   \n",
       "10  paid  \"Mozilla/5.0 (Windows NT 6.1; WOW64) AppleWebK...   \n",
       "11  paid  \"Mozilla/5.0 (Windows NT 6.1; WOW64) AppleWebK...   \n",
       "12  paid  \"Mozilla/5.0 (Windows NT 6.1; WOW64) AppleWebK...   \n",
       "13  paid  \"Mozilla/5.0 (Windows NT 6.1; WOW64) AppleWebK...   \n",
       "14  paid  \"Mozilla/5.0 (Windows NT 6.1; WOW64) AppleWebK...   \n",
       "15  paid  \"Mozilla/5.0 (Windows NT 6.1; WOW64) AppleWebK...   \n",
       "16  paid  \"Mozilla/5.0 (Windows NT 6.1; WOW64) AppleWebK...   \n",
       "17  paid  \"Mozilla/5.0 (Windows NT 6.1; WOW64) AppleWebK...   \n",
       "18  paid  \"Mozilla/5.0 (Windows NT 6.1; WOW64) AppleWebK...   \n",
       "19  paid  \"Mozilla/5.0 (Windows NT 6.1; WOW64) AppleWebK...   \n",
       "\n",
       "    event_timestamp_unix     event_timestamp  \n",
       "0          1542234867000 2018-11-14 23:34:27  \n",
       "1          1542234843000 2018-11-14 23:34:03  \n",
       "2          1542234842000 2018-11-14 23:34:02  \n",
       "3          1542234810000 2018-11-14 23:33:30  \n",
       "4          1542234742000 2018-11-14 23:32:22  \n",
       "5          1542234741000 2018-11-14 23:32:21  \n",
       "6          1542234451000 2018-11-14 23:27:31  \n",
       "7          1542234451000 2018-11-14 23:27:31  \n",
       "8          1542234208000 2018-11-14 23:23:28  \n",
       "9          1542233958000 2018-11-14 23:19:18  \n",
       "10         1542233724000 2018-11-14 23:15:24  \n",
       "11         1542233563000 2018-11-14 23:12:43  \n",
       "12         1542233559000 2018-11-14 23:12:39  \n",
       "13         1542233341000 2018-11-14 23:09:01  \n",
       "14         1542233340000 2018-11-14 23:09:00  \n",
       "15         1542233061000 2018-11-14 23:04:21  \n",
       "16         1542232845000 2018-11-14 23:00:45  \n",
       "17         1542232608000 2018-11-14 22:56:48  \n",
       "18         1542232599000 2018-11-14 22:56:39  \n",
       "19         1542232445000 2018-11-14 22:54:05  "
      ]
     },
     "execution_count": 21,
     "metadata": {},
     "output_type": "execute_result"
    }
   ],
   "source": [
    "event_table.filter(event_table['user_id']==70).toPandas().head(20)"
   ]
  },
  {
   "cell_type": "markdown",
   "metadata": {},
   "source": [
    "# Exploratory Data Analysis\n",
    "When you're working with the full dataset, perform EDA by loading a small subset of the data and doing basic manipulations within Spark. In this workspace, you are already provided a small subset of data you can explore.\n",
    "\n",
    "### Define Churn\n",
    "\n",
    "Once you've done some preliminary analysis, create a column `Churn` to use as the label for your model. I suggest using the `Cancellation Confirmation` events to define your churn, which happen for both paid and free users. As a bonus task, you can also look into the `Downgrade` events.\n",
    "\n",
    "### Explore Data\n",
    "Once you've defined churn, perform some exploratory data analysis to observe the behavior for users who stayed vs users who churned. You can start by exploring aggregates on these two groups of users, observing how much of a specific action they experienced per a certain time unit or number of songs played."
   ]
  },
  {
   "cell_type": "code",
   "execution_count": null,
   "metadata": {},
   "outputs": [],
   "source": []
  },
  {
   "cell_type": "markdown",
   "metadata": {},
   "source": [
    "# Feature Engineering\n",
    "Once you've familiarized yourself with the data, build out the features you find promising to train your model on. To work with the full dataset, you can follow the following steps.\n",
    "- Write a script to extract the necessary features from the smaller subset of data\n",
    "- Ensure that your script is scalable, using the best practices discussed in Lesson 3\n",
    "- Try your script on the full data set, debugging your script if necessary\n",
    "\n",
    "If you are working in the classroom workspace, you can just extract features based on the small subset of data contained here. Be sure to transfer over this work to the larger dataset when you work on your Spark cluster."
   ]
  },
  {
   "cell_type": "code",
   "execution_count": null,
   "metadata": {},
   "outputs": [],
   "source": []
  },
  {
   "cell_type": "markdown",
   "metadata": {},
   "source": [
    "# Modeling\n",
    "Split the full dataset into train, test, and validation sets. Test out several of the machine learning methods you learned. Evaluate the accuracy of the various models, tuning parameters as necessary. Determine your winning model based on test accuracy and report results on the validation set. Since the churned users are a fairly small subset, I suggest using F1 score as the metric to optimize."
   ]
  },
  {
   "cell_type": "code",
   "execution_count": null,
   "metadata": {},
   "outputs": [],
   "source": []
  },
  {
   "cell_type": "markdown",
   "metadata": {},
   "source": [
    "# Final Steps\n",
    "Clean up your code, adding comments and renaming variables to make the code easier to read and maintain. Refer to the Spark Project Overview page and Data Scientist Capstone Project Rubric to make sure you are including all components of the capstone project and meet all expectations. Remember, this includes thorough documentation in a README file in a Github repository, as well as a web app or blog post."
   ]
  },
  {
   "cell_type": "code",
   "execution_count": null,
   "metadata": {},
   "outputs": [],
   "source": []
  },
  {
   "cell_type": "code",
   "execution_count": null,
   "metadata": {},
   "outputs": [],
   "source": [
    "spark.stop()"
   ]
  }
 ],
 "metadata": {
  "kernelspec": {
   "display_name": "Python 3 (ipykernel)",
   "language": "python",
   "name": "python3"
  },
  "language_info": {
   "codemirror_mode": {
    "name": "ipython",
    "version": 3
   },
   "file_extension": ".py",
   "mimetype": "text/x-python",
   "name": "python",
   "nbconvert_exporter": "python",
   "pygments_lexer": "ipython3",
   "version": "3.11.3"
  }
 },
 "nbformat": 4,
 "nbformat_minor": 2
}
